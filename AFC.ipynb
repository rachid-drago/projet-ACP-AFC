{
  "nbformat": 4,
  "nbformat_minor": 0,
  "metadata": {
    "colab": {
      "name": "AFC.ipynb",
      "provenance": [],
      "collapsed_sections": [
        "G2ucmC8_KJdr",
        "ZGJGoXWFLXik",
        "npATxYVGLiJT",
        "A_5MIO6DL0ji",
        "5k8pzLfYL8lT",
        "YqDMgBwzMTdM"
      ],
      "include_colab_link": true
    },
    "kernelspec": {
      "name": "python3",
      "display_name": "Python 3"
    }
  },
  "cells": [
    {
      "cell_type": "markdown",
      "metadata": {
        "id": "view-in-github",
        "colab_type": "text"
      },
      "source": [
        "<a href=\"https://colab.research.google.com/github/rachid-drago/projet-ACP-AFC/blob/master/AFC.ipynb\" target=\"_parent\"><img src=\"https://colab.research.google.com/assets/colab-badge.svg\" alt=\"Open In Colab\"/></a>"
      ]
    },
    {
      "cell_type": "markdown",
      "metadata": {
        "id": "5T8f_-rmPmhc",
        "colab_type": "text"
      },
      "source": [
        "Réalisé par: Rachid saidane  info 2 B"
      ]
    },
    {
      "cell_type": "code",
      "metadata": {
        "id": "wuxNrOMuG6QE",
        "colab_type": "code",
        "outputId": "67e0fe43-4584-4cc6-edc3-58029c16b2a9",
        "colab": {
          "base_uri": "https://localhost:8080/",
          "height": 235
        }
      },
      "source": [
        "pip install fanalysis"
      ],
      "execution_count": 0,
      "outputs": [
        {
          "output_type": "stream",
          "text": [
            "Requirement already satisfied: fanalysis in /usr/local/lib/python3.6/dist-packages (0.0.1)\n",
            "Requirement already satisfied: scikit-learn>=0.18.0 in /usr/local/lib/python3.6/dist-packages (from fanalysis) (0.22.2.post1)\n",
            "Requirement already satisfied: pandas>=0.19.0 in /usr/local/lib/python3.6/dist-packages (from fanalysis) (1.0.4)\n",
            "Requirement already satisfied: matplotlib>=2.0.0 in /usr/local/lib/python3.6/dist-packages (from fanalysis) (3.2.1)\n",
            "Requirement already satisfied: numpy>=1.11.0 in /usr/local/lib/python3.6/dist-packages (from fanalysis) (1.18.5)\n",
            "Requirement already satisfied: joblib>=0.11 in /usr/local/lib/python3.6/dist-packages (from scikit-learn>=0.18.0->fanalysis) (0.15.1)\n",
            "Requirement already satisfied: scipy>=0.17.0 in /usr/local/lib/python3.6/dist-packages (from scikit-learn>=0.18.0->fanalysis) (1.4.1)\n",
            "Requirement already satisfied: python-dateutil>=2.6.1 in /usr/local/lib/python3.6/dist-packages (from pandas>=0.19.0->fanalysis) (2.8.1)\n",
            "Requirement already satisfied: pytz>=2017.2 in /usr/local/lib/python3.6/dist-packages (from pandas>=0.19.0->fanalysis) (2018.9)\n",
            "Requirement already satisfied: kiwisolver>=1.0.1 in /usr/local/lib/python3.6/dist-packages (from matplotlib>=2.0.0->fanalysis) (1.2.0)\n",
            "Requirement already satisfied: cycler>=0.10 in /usr/local/lib/python3.6/dist-packages (from matplotlib>=2.0.0->fanalysis) (0.10.0)\n",
            "Requirement already satisfied: pyparsing!=2.0.4,!=2.1.2,!=2.1.6,>=2.0.1 in /usr/local/lib/python3.6/dist-packages (from matplotlib>=2.0.0->fanalysis) (2.4.7)\n",
            "Requirement already satisfied: six>=1.5 in /usr/local/lib/python3.6/dist-packages (from python-dateutil>=2.6.1->pandas>=0.19.0->fanalysis) (1.12.0)\n"
          ],
          "name": "stdout"
        }
      ]
    },
    {
      "cell_type": "code",
      "metadata": {
        "id": "fqptHrQz8W6X",
        "colab_type": "code",
        "outputId": "640fe45c-46d4-4e4d-8f5a-bf7615615524",
        "colab": {
          "resources": {
            "http://localhost:8080/nbextensions/google.colab/files.js": {
              "data": "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",
              "ok": true,
              "headers": [
                [
                  "content-type",
                  "application/javascript"
                ]
              ],
              "status": 200,
              "status_text": ""
            }
          },
          "base_uri": "https://localhost:8080/",
          "height": 74
        }
      },
      "source": [
        "from google.colab import files\n",
        "upladed = files.upload()"
      ],
      "execution_count": 0,
      "outputs": [
        {
          "output_type": "display_data",
          "data": {
            "text/html": [
              "\n",
              "     <input type=\"file\" id=\"files-59d37eef-fd22-45fd-8345-93b9dbc90219\" name=\"files[]\" multiple disabled />\n",
              "     <output id=\"result-59d37eef-fd22-45fd-8345-93b9dbc90219\">\n",
              "      Upload widget is only available when the cell has been executed in the\n",
              "      current browser session. Please rerun this cell to enable.\n",
              "      </output>\n",
              "      <script src=\"/nbextensions/google.colab/files.js\"></script> "
            ],
            "text/plain": [
              "<IPython.core.display.HTML object>"
            ]
          },
          "metadata": {
            "tags": []
          }
        },
        {
          "output_type": "stream",
          "text": [
            "Saving AFC .csv to AFC  (1).csv\n"
          ],
          "name": "stdout"
        }
      ]
    },
    {
      "cell_type": "code",
      "metadata": {
        "id": "tWNsctzT8cT1",
        "colab_type": "code",
        "colab": {}
      },
      "source": [
        "import pandas as pd\n",
        "import numpy as np\n",
        "import matplotlib.pyplot as plt\n",
        "import seaborn as sns\n",
        "from fanalysis.ca import CA\n",
        "%matplotlib inline"
      ],
      "execution_count": 0,
      "outputs": []
    },
    {
      "cell_type": "code",
      "metadata": {
        "id": "uwQGauOI8sUT",
        "colab_type": "code",
        "colab": {}
      },
      "source": [
        "df = pd.read_csv('/content/AFC .csv',header=0, index_col=0, encoding=\"utf-8\")"
      ],
      "execution_count": 0,
      "outputs": []
    },
    {
      "cell_type": "code",
      "metadata": {
        "id": "vu-rbE9x_r6N",
        "colab_type": "code",
        "outputId": "79e79c4f-7f5d-4555-a704-6829ef2351a5",
        "colab": {
          "base_uri": "https://localhost:8080/",
          "height": 432
        }
      },
      "source": [
        "df.head(15)"
      ],
      "execution_count": 0,
      "outputs": [
        {
          "output_type": "execute_result",
          "data": {
            "text/html": [
              "<div>\n",
              "<style scoped>\n",
              "    .dataframe tbody tr th:only-of-type {\n",
              "        vertical-align: middle;\n",
              "    }\n",
              "\n",
              "    .dataframe tbody tr th {\n",
              "        vertical-align: top;\n",
              "    }\n",
              "\n",
              "    .dataframe thead th {\n",
              "        text-align: right;\n",
              "    }\n",
              "</style>\n",
              "<table border=\"1\" class=\"dataframe\">\n",
              "  <thead>\n",
              "    <tr style=\"text-align: right;\">\n",
              "      <th></th>\n",
              "      <th>Wife</th>\n",
              "      <th>Alternating</th>\n",
              "      <th>Husband</th>\n",
              "      <th>Jointly</th>\n",
              "    </tr>\n",
              "  </thead>\n",
              "  <tbody>\n",
              "    <tr>\n",
              "      <th>Laundry</th>\n",
              "      <td>156</td>\n",
              "      <td>14</td>\n",
              "      <td>2</td>\n",
              "      <td>4</td>\n",
              "    </tr>\n",
              "    <tr>\n",
              "      <th>Main_Meal</th>\n",
              "      <td>124</td>\n",
              "      <td>20</td>\n",
              "      <td>5</td>\n",
              "      <td>4</td>\n",
              "    </tr>\n",
              "    <tr>\n",
              "      <th>Dinner</th>\n",
              "      <td>77</td>\n",
              "      <td>11</td>\n",
              "      <td>7</td>\n",
              "      <td>13</td>\n",
              "    </tr>\n",
              "    <tr>\n",
              "      <th>Breakfast</th>\n",
              "      <td>82</td>\n",
              "      <td>36</td>\n",
              "      <td>15</td>\n",
              "      <td>7</td>\n",
              "    </tr>\n",
              "    <tr>\n",
              "      <th>Tidying</th>\n",
              "      <td>53</td>\n",
              "      <td>11</td>\n",
              "      <td>1</td>\n",
              "      <td>57</td>\n",
              "    </tr>\n",
              "    <tr>\n",
              "      <th>Dishes</th>\n",
              "      <td>32</td>\n",
              "      <td>24</td>\n",
              "      <td>4</td>\n",
              "      <td>53</td>\n",
              "    </tr>\n",
              "    <tr>\n",
              "      <th>Shopping</th>\n",
              "      <td>33</td>\n",
              "      <td>23</td>\n",
              "      <td>9</td>\n",
              "      <td>55</td>\n",
              "    </tr>\n",
              "    <tr>\n",
              "      <th>Official</th>\n",
              "      <td>12</td>\n",
              "      <td>46</td>\n",
              "      <td>23</td>\n",
              "      <td>15</td>\n",
              "    </tr>\n",
              "    <tr>\n",
              "      <th>Driving</th>\n",
              "      <td>10</td>\n",
              "      <td>51</td>\n",
              "      <td>75</td>\n",
              "      <td>3</td>\n",
              "    </tr>\n",
              "    <tr>\n",
              "      <th>Financies</th>\n",
              "      <td>13</td>\n",
              "      <td>13</td>\n",
              "      <td>21</td>\n",
              "      <td>66</td>\n",
              "    </tr>\n",
              "    <tr>\n",
              "      <th>Insurance</th>\n",
              "      <td>8</td>\n",
              "      <td>1</td>\n",
              "      <td>53</td>\n",
              "      <td>77</td>\n",
              "    </tr>\n",
              "    <tr>\n",
              "      <th>Repairs</th>\n",
              "      <td>0</td>\n",
              "      <td>3</td>\n",
              "      <td>160</td>\n",
              "      <td>2</td>\n",
              "    </tr>\n",
              "    <tr>\n",
              "      <th>Holidays</th>\n",
              "      <td>0</td>\n",
              "      <td>1</td>\n",
              "      <td>6</td>\n",
              "      <td>153</td>\n",
              "    </tr>\n",
              "  </tbody>\n",
              "</table>\n",
              "</div>"
            ],
            "text/plain": [
              "           Wife  Alternating  Husband   Jointly\n",
              "Laundry     156           14         2        4\n",
              "Main_Meal   124           20         5        4\n",
              "Dinner       77           11         7       13\n",
              "Breakfast    82           36        15        7\n",
              "Tidying      53           11         1       57\n",
              "Dishes       32           24         4       53\n",
              "Shopping     33           23         9       55\n",
              "Official     12           46        23       15\n",
              "Driving      10           51        75        3\n",
              "Financies    13           13        21       66\n",
              "Insurance     8            1        53       77\n",
              "Repairs       0            3       160        2\n",
              "Holidays      0            1         6      153"
            ]
          },
          "metadata": {
            "tags": []
          },
          "execution_count": 34
        }
      ]
    },
    {
      "cell_type": "code",
      "metadata": {
        "id": "8V3HpL4FD2r-",
        "colab_type": "code",
        "colab": {}
      },
      "source": [
        "X=df.values"
      ],
      "execution_count": 0,
      "outputs": []
    },
    {
      "cell_type": "code",
      "metadata": {
        "id": "JwmotVCAJWts",
        "colab_type": "code",
        "colab": {}
      },
      "source": [
        "my_ca = CA(row_labels=df.index.values, col_labels=df.columns.values)"
      ],
      "execution_count": 0,
      "outputs": []
    },
    {
      "cell_type": "code",
      "metadata": {
        "id": "qZbZJTC5J5Yk",
        "colab_type": "code",
        "outputId": "709c6f2b-b4b7-437b-da4f-0570e1182b32",
        "colab": {
          "base_uri": "https://localhost:8080/",
          "height": 118
        }
      },
      "source": [
        "my_ca.fit(X)"
      ],
      "execution_count": 0,
      "outputs": [
        {
          "output_type": "execute_result",
          "data": {
            "text/plain": [
              "CA(col_labels=array(['Wife', 'Alternating', 'Husband ', 'Jointly'], dtype=object),\n",
              "   n_components=None,\n",
              "   row_labels=array(['Laundry', 'Main_Meal', 'Dinner', 'Breakfast', 'Tidying', 'Dishes',\n",
              "       'Shopping', 'Official', 'Driving', 'Financies', 'Insurance',\n",
              "       'Repairs', 'Holidays'], dtype=object),\n",
              "   stats=True)"
            ]
          },
          "metadata": {
            "tags": []
          },
          "execution_count": 37
        }
      ]
    },
    {
      "cell_type": "markdown",
      "metadata": {
        "id": "G2ucmC8_KJdr",
        "colab_type": "text"
      },
      "source": [
        "##Analyse des valeurs propres\n",
        "en 1ère ligne: les valeurs propres en valeur absolue\n",
        "en 2ème ligne: les valeurs propres en pourcentage de la variance totale\n",
        "en 3ème ligne: les valeurs propres en pourcentage cumulé de la variance\n"
      ]
    },
    {
      "cell_type": "code",
      "metadata": {
        "id": "phKeokz8KCTb",
        "colab_type": "code",
        "outputId": "1b1bab72-d43e-41ac-e107-c3ad1dd2d061",
        "colab": {
          "base_uri": "https://localhost:8080/",
          "height": 67
        }
      },
      "source": [
        "print(my_ca.eig_)"
      ],
      "execution_count": 0,
      "outputs": [
        {
          "output_type": "stream",
          "text": [
            "[[  0.54288928   0.44500276   0.12704843]\n",
            " [ 48.69222124  39.91269215  11.39508662]\n",
            " [ 48.69222124  88.60491338 100.        ]]\n"
          ],
          "name": "stdout"
        }
      ]
    },
    {
      "cell_type": "code",
      "metadata": {
        "id": "uXVZRc4RKPvf",
        "colab_type": "code",
        "outputId": "2f08cdf6-cd55-419f-e761-40e19fe1f0c4",
        "colab": {
          "base_uri": "https://localhost:8080/",
          "height": 295
        }
      },
      "source": [
        "my_ca.plot_eigenvalues()"
      ],
      "execution_count": 0,
      "outputs": [
        {
          "output_type": "display_data",
          "data": {
            "image/png": "[encoded data removed]",
            "text/plain": [
              "<Figure size 432x288 with 1 Axes>"
            ]
          },
          "metadata": {
            "tags": [],
            "needs_background": "light"
          }
        }
      ]
    },
    {
      "cell_type": "code",
      "metadata": {
        "id": "4pZNmnktKdVz",
        "colab_type": "code",
        "outputId": "39333e2a-2603-4846-c1d3-9af3f681d33b",
        "colab": {
          "base_uri": "https://localhost:8080/",
          "height": 295
        }
      },
      "source": [
        "my_ca.plot_eigenvalues(type=\"percentage\")"
      ],
      "execution_count": 0,
      "outputs": [
        {
          "output_type": "display_data",
          "data": {
            "image/png": "[encoded data removed]",
            "text/plain": [
              "<Figure size 432x288 with 1 Axes>"
            ]
          },
          "metadata": {
            "tags": [],
            "needs_background": "light"
          }
        }
      ]
    },
    {
      "cell_type": "code",
      "metadata": {
        "id": "wIgy9ZFxKg0b",
        "colab_type": "code",
        "outputId": "cffa3c68-278b-4f53-a364-c76087c2c616",
        "colab": {
          "base_uri": "https://localhost:8080/",
          "height": 295
        }
      },
      "source": [
        "my_ca.plot_eigenvalues(type=\"cumulative\")"
      ],
      "execution_count": 0,
      "outputs": [
        {
          "output_type": "display_data",
          "data": {
            "image/png": "[encoded data removed]",
            "text/plain": [
              "<Figure size 432x288 with 1 Axes>"
            ]
          },
          "metadata": {
            "tags": [],
            "needs_background": "light"
          }
        }
      ]
    },
    {
      "cell_type": "markdown",
      "metadata": {
        "id": "OUMFCoOuxix6",
        "colab_type": "text"
      },
      "source": [
        "Selon le graphique ci-dessus, seules les dimensions 1 et 2 doivent être considérées pour l’interprétation de la solution. La dimension 3 explique seulement 11,4% de l’inertie totale, ce qui est inférieur à la valeur moyenne des axes (33,33%) et trop petit pour être conservé pour une analyse plus approfondie."
      ]
    },
    {
      "cell_type": "markdown",
      "metadata": {
        "id": "ZGJGoXWFLXik",
        "colab_type": "text"
      },
      "source": [
        "##Extraction des statistiques sur les points lignes\n"
      ]
    },
    {
      "cell_type": "code",
      "metadata": {
        "id": "zuWeKEcBLRtj",
        "colab_type": "code",
        "colab": {}
      },
      "source": [
        "df_rows = my_ca.row_topandas()"
      ],
      "execution_count": 0,
      "outputs": []
    },
    {
      "cell_type": "code",
      "metadata": {
        "id": "nngvr43WLcNb",
        "colab_type": "code",
        "outputId": "266f3d91-d80b-42d1-b248-2c92e42a1be6",
        "colab": {
          "base_uri": "https://localhost:8080/"
        }
      },
      "source": [
        "df_rows"
      ],
      "execution_count": 0,
      "outputs": [
        {
          "output_type": "execute_result",
          "data": {
            "text/html": [
              "<div>\n",
              "<style scoped>\n",
              "    .dataframe tbody tr th:only-of-type {\n",
              "        vertical-align: middle;\n",
              "    }\n",
              "\n",
              "    .dataframe tbody tr th {\n",
              "        vertical-align: top;\n",
              "    }\n",
              "\n",
              "    .dataframe thead th {\n",
              "        text-align: right;\n",
              "    }\n",
              "</style>\n",
              "<table border=\"1\" class=\"dataframe\">\n",
              "  <thead>\n",
              "    <tr style=\"text-align: right;\">\n",
              "      <th></th>\n",
              "      <th>row_coord_dim1</th>\n",
              "      <th>row_coord_dim2</th>\n",
              "      <th>row_coord_dim3</th>\n",
              "      <th>row_contrib_dim1</th>\n",
              "      <th>row_contrib_dim2</th>\n",
              "      <th>row_contrib_dim3</th>\n",
              "      <th>row_cos2_dim1</th>\n",
              "      <th>row_cos2_dim2</th>\n",
              "      <th>row_cos2_dim3</th>\n",
              "    </tr>\n",
              "  </thead>\n",
              "  <tbody>\n",
              "    <tr>\n",
              "      <th>Laundry</th>\n",
              "      <td>-0.991837</td>\n",
              "      <td>-0.495322</td>\n",
              "      <td>-0.316729</td>\n",
              "      <td>18.286700</td>\n",
              "      <td>5.563891</td>\n",
              "      <td>7.968424</td>\n",
              "      <td>0.739987</td>\n",
              "      <td>0.184552</td>\n",
              "      <td>0.075460</td>\n",
              "    </tr>\n",
              "    <tr>\n",
              "      <th>Main_Meal</th>\n",
              "      <td>-0.875585</td>\n",
              "      <td>-0.490109</td>\n",
              "      <td>-0.164065</td>\n",
              "      <td>12.388843</td>\n",
              "      <td>4.735523</td>\n",
              "      <td>1.858689</td>\n",
              "      <td>0.741603</td>\n",
              "      <td>0.232359</td>\n",
              "      <td>0.026038</td>\n",
              "    </tr>\n",
              "    <tr>\n",
              "      <th>Dinner</th>\n",
              "      <td>-0.692574</td>\n",
              "      <td>-0.308104</td>\n",
              "      <td>-0.207414</td>\n",
              "      <td>5.471398</td>\n",
              "      <td>1.321022</td>\n",
              "      <td>2.096926</td>\n",
              "      <td>0.776640</td>\n",
              "      <td>0.153703</td>\n",
              "      <td>0.069657</td>\n",
              "    </tr>\n",
              "    <tr>\n",
              "      <th>Breakfast</th>\n",
              "      <td>-0.508600</td>\n",
              "      <td>-0.452804</td>\n",
              "      <td>0.220405</td>\n",
              "      <td>3.824928</td>\n",
              "      <td>3.698613</td>\n",
              "      <td>3.069399</td>\n",
              "      <td>0.504943</td>\n",
              "      <td>0.400230</td>\n",
              "      <td>0.094827</td>\n",
              "    </tr>\n",
              "    <tr>\n",
              "      <th>Tidying</th>\n",
              "      <td>-0.393808</td>\n",
              "      <td>0.434344</td>\n",
              "      <td>-0.094214</td>\n",
              "      <td>1.998352</td>\n",
              "      <td>2.965644</td>\n",
              "      <td>0.488734</td>\n",
              "      <td>0.439812</td>\n",
              "      <td>0.535015</td>\n",
              "      <td>0.025172</td>\n",
              "    </tr>\n",
              "    <tr>\n",
              "      <th>Dishes</th>\n",
              "      <td>-0.188964</td>\n",
              "      <td>0.441966</td>\n",
              "      <td>0.266949</td>\n",
              "      <td>0.426166</td>\n",
              "      <td>2.844117</td>\n",
              "      <td>3.634294</td>\n",
              "      <td>0.118118</td>\n",
              "      <td>0.646153</td>\n",
              "      <td>0.235730</td>\n",
              "    </tr>\n",
              "    <tr>\n",
              "      <th>Shopping</th>\n",
              "      <td>-0.117681</td>\n",
              "      <td>0.403317</td>\n",
              "      <td>0.202615</td>\n",
              "      <td>0.175525</td>\n",
              "      <td>2.515158</td>\n",
              "      <td>2.223357</td>\n",
              "      <td>0.063654</td>\n",
              "      <td>0.747655</td>\n",
              "      <td>0.188691</td>\n",
              "    </tr>\n",
              "    <tr>\n",
              "      <th>Official</th>\n",
              "      <td>0.226632</td>\n",
              "      <td>-0.253613</td>\n",
              "      <td>0.923364</td>\n",
              "      <td>0.520784</td>\n",
              "      <td>0.795620</td>\n",
              "      <td>36.940389</td>\n",
              "      <td>0.053045</td>\n",
              "      <td>0.066426</td>\n",
              "      <td>0.880529</td>\n",
              "    </tr>\n",
              "    <tr>\n",
              "      <th>Driving</th>\n",
              "      <td>0.741770</td>\n",
              "      <td>-0.653414</td>\n",
              "      <td>0.544458</td>\n",
              "      <td>8.077837</td>\n",
              "      <td>7.646856</td>\n",
              "      <td>18.596386</td>\n",
              "      <td>0.432019</td>\n",
              "      <td>0.335229</td>\n",
              "      <td>0.232752</td>\n",
              "    </tr>\n",
              "    <tr>\n",
              "      <th>Financies</th>\n",
              "      <td>0.270767</td>\n",
              "      <td>0.617868</td>\n",
              "      <td>0.034797</td>\n",
              "      <td>0.875008</td>\n",
              "      <td>5.558546</td>\n",
              "      <td>0.061751</td>\n",
              "      <td>0.160677</td>\n",
              "      <td>0.836670</td>\n",
              "      <td>0.002654</td>\n",
              "    </tr>\n",
              "    <tr>\n",
              "      <th>Insurance</th>\n",
              "      <td>0.647076</td>\n",
              "      <td>0.473783</td>\n",
              "      <td>-0.289361</td>\n",
              "      <td>6.147062</td>\n",
              "      <td>4.020359</td>\n",
              "      <td>5.252639</td>\n",
              "      <td>0.576012</td>\n",
              "      <td>0.308802</td>\n",
              "      <td>0.115186</td>\n",
              "    </tr>\n",
              "    <tr>\n",
              "      <th>Repairs</th>\n",
              "      <td>1.528779</td>\n",
              "      <td>-0.864265</td>\n",
              "      <td>-0.472088</td>\n",
              "      <td>40.730094</td>\n",
              "      <td>15.880651</td>\n",
              "      <td>16.596391</td>\n",
              "      <td>0.706736</td>\n",
              "      <td>0.225871</td>\n",
              "      <td>0.067393</td>\n",
              "    </tr>\n",
              "    <tr>\n",
              "      <th>Holidays</th>\n",
              "      <td>0.252486</td>\n",
              "      <td>1.435007</td>\n",
              "      <td>-0.129587</td>\n",
              "      <td>1.077303</td>\n",
              "      <td>42.453999</td>\n",
              "      <td>1.212620</td>\n",
              "      <td>0.029792</td>\n",
              "      <td>0.962360</td>\n",
              "      <td>0.007848</td>\n",
              "    </tr>\n",
              "  </tbody>\n",
              "</table>\n",
              "</div>"
            ],
            "text/plain": [
              "           row_coord_dim1  row_coord_dim2  ...  row_cos2_dim2  row_cos2_dim3\n",
              "Laundry         -0.991837       -0.495322  ...       0.184552       0.075460\n",
              "Main_Meal       -0.875585       -0.490109  ...       0.232359       0.026038\n",
              "Dinner          -0.692574       -0.308104  ...       0.153703       0.069657\n",
              "Breakfast       -0.508600       -0.452804  ...       0.400230       0.094827\n",
              "Tidying         -0.393808        0.434344  ...       0.535015       0.025172\n",
              "Dishes          -0.188964        0.441966  ...       0.646153       0.235730\n",
              "Shopping        -0.117681        0.403317  ...       0.747655       0.188691\n",
              "Official         0.226632       -0.253613  ...       0.066426       0.880529\n",
              "Driving          0.741770       -0.653414  ...       0.335229       0.232752\n",
              "Financies        0.270767        0.617868  ...       0.836670       0.002654\n",
              "Insurance        0.647076        0.473783  ...       0.308802       0.115186\n",
              "Repairs          1.528779       -0.864265  ...       0.225871       0.067393\n",
              "Holidays         0.252486        1.435007  ...       0.962360       0.007848\n",
              "\n",
              "[13 rows x 9 columns]"
            ]
          },
          "metadata": {
            "tags": []
          },
          "execution_count": 43
        }
      ]
    },
    {
      "cell_type": "markdown",
      "metadata": {
        "id": "npATxYVGLiJT",
        "colab_type": "text"
      },
      "source": [
        "#Statistiques pour les points lignes\n"
      ]
    },
    {
      "cell_type": "code",
      "metadata": {
        "id": "JH2EBYD3LdIT",
        "colab_type": "code",
        "outputId": "8ded36f1-444d-451f-839b-6d6eb6bbd218",
        "colab": {
          "base_uri": "https://localhost:8080/"
        }
      },
      "source": [
        "# Coordonnées des points lignes\n",
        "print(my_ca.row_coord_)"
      ],
      "execution_count": 0,
      "outputs": [
        {
          "output_type": "stream",
          "text": [
            "[[-0.99183679 -0.49532195 -0.31672897]\n",
            " [-0.87558546 -0.4901092  -0.16406487]\n",
            " [-0.69257396 -0.3081043  -0.20741377]\n",
            " [-0.50860018 -0.45280376  0.22040453]\n",
            " [-0.39380836  0.43434437 -0.09421375]\n",
            " [-0.18896406  0.44196625  0.26694926]\n",
            " [-0.11768132  0.40331711  0.20261512]\n",
            " [ 0.22663239 -0.25361319  0.92336416]\n",
            " [ 0.74176958 -0.65341434  0.54445849]\n",
            " [ 0.27076688  0.61786838  0.03479681]\n",
            " [ 0.64707595  0.47378315 -0.28936051]\n",
            " [ 1.52877865 -0.86426469 -0.47208778]\n",
            " [ 0.2524863   1.43500661 -0.12958665]]\n"
          ],
          "name": "stdout"
        }
      ]
    },
    {
      "cell_type": "code",
      "metadata": {
        "id": "DUzq5xtmLnxv",
        "colab_type": "code",
        "outputId": "15f026d8-b057-4b6f-935f-cb4a5fe0d1f6",
        "colab": {
          "base_uri": "https://localhost:8080/"
        }
      },
      "source": [
        "# Contributions des points lignes\n",
        "print(my_ca.row_contrib_)"
      ],
      "execution_count": 0,
      "outputs": [
        {
          "output_type": "stream",
          "text": [
            "[[18.28670025  5.56389126  7.96842443]\n",
            " [12.3888433   4.73552302  1.85868941]\n",
            " [ 5.47139817  1.32102207  2.09692603]\n",
            " [ 3.82492836  3.69861312  3.06939857]\n",
            " [ 1.99835183  2.96564413  0.48873403]\n",
            " [ 0.42616632  2.84411704  3.63429434]\n",
            " [ 0.17552483  2.51515844  2.22335679]\n",
            " [ 0.52078375  0.79562006 36.94038942]\n",
            " [ 8.07783707  7.64685639 18.59638635]\n",
            " [ 0.87500751  5.55854595  0.06175066]\n",
            " [ 6.14706157  4.02035904  5.25263863]\n",
            " [40.73009401 15.88065088 16.59639139]\n",
            " [ 1.07730303 42.45399859  1.21261994]]\n"
          ],
          "name": "stdout"
        }
      ]
    },
    {
      "cell_type": "code",
      "metadata": {
        "id": "tHwZG6IKLtV8",
        "colab_type": "code",
        "outputId": "3a47c717-ed5a-4464-de2c-3b9151c0286a",
        "colab": {
          "base_uri": "https://localhost:8080/"
        }
      },
      "source": [
        "# Cos2 des points lignes\n",
        "print(my_ca.row_cos2_)"
      ],
      "execution_count": 0,
      "outputs": [
        {
          "output_type": "stream",
          "text": [
            "[[0.73998741 0.18455213 0.07546047]\n",
            " [0.74160285 0.23235928 0.02603787]\n",
            " [0.77664011 0.15370323 0.06965666]\n",
            " [0.50494329 0.40023001 0.0948267 ]\n",
            " [0.43981243 0.53501508 0.02517249]\n",
            " [0.11811778 0.64615253 0.23572969]\n",
            " [0.06365362 0.74765514 0.18869124]\n",
            " [0.05304464 0.06642648 0.88052888]\n",
            " [0.4320186  0.33522911 0.23275229]\n",
            " [0.16067678 0.83666958 0.00265363]\n",
            " [0.57601197 0.30880208 0.11518595]\n",
            " [0.70673575 0.22587147 0.06739278]\n",
            " [0.02979239 0.96235977 0.00784784]]\n"
          ],
          "name": "stdout"
        }
      ]
    },
    {
      "cell_type": "markdown",
      "metadata": {
        "id": "A_5MIO6DL0ji",
        "colab_type": "text"
      },
      "source": [
        "#Extraction des statistiques sur les points colonnes\n"
      ]
    },
    {
      "cell_type": "code",
      "metadata": {
        "id": "WZa2g2GxLwiI",
        "colab_type": "code",
        "colab": {}
      },
      "source": [
        "df_cols = my_ca.col_topandas()"
      ],
      "execution_count": 0,
      "outputs": []
    },
    {
      "cell_type": "code",
      "metadata": {
        "id": "hfCaDDr_L3dH",
        "colab_type": "code",
        "outputId": "2c45c296-2b71-4851-c0e3-87b9802458ab",
        "colab": {
          "base_uri": "https://localhost:8080/"
        }
      },
      "source": [
        "print(df_cols)"
      ],
      "execution_count": 0,
      "outputs": [
        {
          "output_type": "stream",
          "text": [
            "             col_coord_dim1  col_coord_dim2  ...  col_cos2_dim2  col_cos2_dim3\n",
            "Wife              -0.837622       -0.365221  ...       0.152448       0.045676\n",
            "Alternating       -0.062185       -0.291594  ...       0.105102       0.890119\n",
            "Husband            1.160918       -0.601920  ...       0.207542       0.020432\n",
            "Jointly            0.149426        1.026579  ...       0.977294       0.002000\n",
            "\n",
            "[4 rows x 9 columns]\n"
          ],
          "name": "stdout"
        }
      ]
    },
    {
      "cell_type": "markdown",
      "metadata": {
        "id": "5k8pzLfYL8lT",
        "colab_type": "text"
      },
      "source": [
        "#Statistiques pour les points colonnes\n"
      ]
    },
    {
      "cell_type": "code",
      "metadata": {
        "id": "WCC5E5qDL4yF",
        "colab_type": "code",
        "outputId": "3d6a9066-f460-40a2-cca8-c0ffd51556f7",
        "colab": {
          "base_uri": "https://localhost:8080/"
        }
      },
      "source": [
        "# Coordonnées des points colonnes\n",
        "print(my_ca.col_coord_)"
      ],
      "execution_count": 0,
      "outputs": [
        {
          "output_type": "stream",
          "text": [
            "[[-0.83762154 -0.36522071 -0.19991139]\n",
            " [-0.06218462 -0.29159381  0.84858939]\n",
            " [ 1.16091847 -0.60191992 -0.18885924]\n",
            " [ 0.14942609  1.02657907 -0.04644302]]\n"
          ],
          "name": "stdout"
        }
      ]
    },
    {
      "cell_type": "code",
      "metadata": {
        "id": "2VE4U-7sL_f7",
        "colab_type": "code",
        "outputId": "08318d59-939c-4188-f26a-7f3ddd652e5e",
        "colab": {
          "base_uri": "https://localhost:8080/"
        }
      },
      "source": [
        "# Contributions des points colonnes\n",
        "print(my_ca.col_contrib_)"
      ],
      "execution_count": 0,
      "outputs": [
        {
          "output_type": "stream",
          "text": [
            "[[44.46201836 10.31223659 10.82207533]\n",
            " [ 0.10373896  2.78279449 82.54924637]\n",
            " [54.23387887 17.78661168  6.13317917]\n",
            " [ 1.20036381 69.11835725  0.49549913]]\n"
          ],
          "name": "stdout"
        }
      ]
    },
    {
      "cell_type": "code",
      "metadata": {
        "id": "uuvXlzbJMCWb",
        "colab_type": "code",
        "outputId": "d1f5ed32-3161-474f-8928-5c8a985aec4d",
        "colab": {
          "base_uri": "https://localhost:8080/"
        }
      },
      "source": [
        "# Cos2 des points colonnes\n",
        "print(my_ca.col_cos2_)"
      ],
      "execution_count": 0,
      "outputs": [
        {
          "output_type": "stream",
          "text": [
            "[[0.80187595 0.15244821 0.04567585]\n",
            " [0.0047799  0.10510158 0.89011852]\n",
            " [0.77202624 0.20754203 0.02043173]\n",
            " [0.02070586 0.97729391 0.00200024]]\n"
          ],
          "name": "stdout"
        }
      ]
    },
    {
      "cell_type": "markdown",
      "metadata": {
        "id": "YqDMgBwzMTdM",
        "colab_type": "text"
      },
      "source": [
        "#Analyse du 1er axe - Points lignes\n"
      ]
    },
    {
      "cell_type": "code",
      "metadata": {
        "id": "3uqrWuJIMPKv",
        "colab_type": "code",
        "outputId": "f52cec51-5877-43ec-fba8-31bf69ad3ece",
        "colab": {
          "base_uri": "https://localhost:8080/"
        }
      },
      "source": [
        "# Classement des points lignes en fonction de leur contribution au 1er axe\n",
        "# Le paramètre de la méthode plot_row_contrib indique que c'est pour l'axe numéro 1 que les contributions sont ici \n",
        "# représentées\n",
        "my_ca.plot_row_contrib(num_axis=1)"
      ],
      "execution_count": 0,
      "outputs": [
        {
          "output_type": "display_data",
          "data": {
            "image/png": "[encoded data removed]",
            "text/plain": [
              "<Figure size 432x288 with 1 Axes>"
            ]
          },
          "metadata": {
            "tags": [],
            "needs_background": "light"
          }
        }
      ]
    },
    {
      "cell_type": "code",
      "metadata": {
        "id": "i42kUmoHMWd0",
        "colab_type": "code",
        "outputId": "9489509f-e02a-40e8-8d37-81611ab7ae0a",
        "colab": {
          "base_uri": "https://localhost:8080/"
        }
      },
      "source": [
        "# Classement des points lignes en fonction de leur cos2 sur le 1er axe\n",
        "my_ca.plot_row_cos2(num_axis=1)"
      ],
      "execution_count": 0,
      "outputs": [
        {
          "output_type": "display_data",
          "data": {
            "image/png": "[encoded data removed]",
            "text/plain": [
              "<Figure size 432x288 with 1 Axes>"
            ]
          },
          "metadata": {
            "tags": [],
            "needs_background": "light"
          }
        }
      ]
    },
    {
      "cell_type": "markdown",
      "metadata": {
        "id": "wmpmwYXUMbtb",
        "colab_type": "text"
      },
      "source": [
        "#Analyse du 1er axe - Points colonnes\n"
      ]
    },
    {
      "cell_type": "code",
      "metadata": {
        "id": "5IobjCF0MZm9",
        "colab_type": "code",
        "outputId": "d673e75a-42dd-43a0-c6ba-305fdcefe8c0",
        "colab": {
          "base_uri": "https://localhost:8080/",
          "height": 295
        }
      },
      "source": [
        "# Classement des points colonnes en fonction de leur contribution au 1er axe\n",
        "my_ca.plot_col_contrib(num_axis=1)"
      ],
      "execution_count": 0,
      "outputs": [
        {
          "output_type": "display_data",
          "data": {
            "image/png": "[encoded data removed]",
            "text/plain": [
              "<Figure size 432x288 with 1 Axes>"
            ]
          },
          "metadata": {
            "tags": [],
            "needs_background": "light"
          }
        }
      ]
    },
    {
      "cell_type": "code",
      "metadata": {
        "id": "XvpC5NsNMgKc",
        "colab_type": "code",
        "outputId": "ef733b2b-e8ed-4bf8-8970-681c1501a4a7",
        "colab": {
          "base_uri": "https://localhost:8080/",
          "height": 295
        }
      },
      "source": [
        "# Classement des points colonnes en fonction de leur cos2 sur le 1er axe\n",
        "my_ca.plot_col_cos2(num_axis=1)"
      ],
      "execution_count": 0,
      "outputs": [
        {
          "output_type": "display_data",
          "data": {
            "image/png": "[encoded data removed]",
            "text/plain": [
              "<Figure size 432x288 with 1 Axes>"
            ]
          },
          "metadata": {
            "tags": [],
            "needs_background": "light"
          }
        }
      ]
    },
    {
      "cell_type": "markdown",
      "metadata": {
        "id": "KOi_bJzHDYB1",
        "colab_type": "text"
      },
      "source": [
        "##**Graphiques**"
      ]
    },
    {
      "cell_type": "code",
      "metadata": {
        "id": "_HJNEXZrMIbv",
        "colab_type": "code",
        "outputId": "ec607cdd-32f9-4af0-829a-61791da470eb",
        "colab": {
          "base_uri": "https://localhost:8080/",
          "height": 295
        }
      },
      "source": [
        "# Mapping des points lignes\n",
        "my_ca.mapping_row(num_x_axis=1, num_y_axis=2)"
      ],
      "execution_count": 0,
      "outputs": [
        {
          "output_type": "display_data",
          "data": {
            "image/png": "[encoded data removed]",
            "text/plain": [
              "<Figure size 432x288 with 1 Axes>"
            ]
          },
          "metadata": {
            "tags": [],
            "needs_background": "light"
          }
        }
      ]
    },
    {
      "cell_type": "code",
      "metadata": {
        "id": "J88wdS0aMMtT",
        "colab_type": "code",
        "outputId": "3607ebee-4625-46b4-ad8c-d0cef3986b5f",
        "colab": {
          "base_uri": "https://localhost:8080/",
          "height": 295
        }
      },
      "source": [
        "# Mapping des points colonnes\n",
        "my_ca.mapping_col(num_x_axis=1, num_y_axis=2)"
      ],
      "execution_count": 0,
      "outputs": [
        {
          "output_type": "display_data",
          "data": {
            "image/png": "[encoded data removed]",
            "text/plain": [
              "<Figure size 432x288 with 1 Axes>"
            ]
          },
          "metadata": {
            "tags": [],
            "needs_background": "light"
          }
        }
      ]
    },
    {
      "cell_type": "code",
      "metadata": {
        "id": "0PG2k6O3ME6r",
        "colab_type": "code",
        "outputId": "50a09300-576f-43a8-9af5-663dd0e328cc",
        "colab": {
          "base_uri": "https://localhost:8080/",
          "height": 513
        }
      },
      "source": [
        "# Mapping simultané des points lignes et colonnes\n",
        "#my_ca.mapping(num_x_axis=1, num_y_axis=2)\n",
        "my_ca.mapping(1, 2, figsize=(10, 8))"
      ],
      "execution_count": 0,
      "outputs": [
        {
          "output_type": "display_data",
          "data": {
            "image/png": "[encoded data removed]",
            "text/plain": [
              "<Figure size 720x576 with 1 Axes>"
            ]
          },
          "metadata": {
            "tags": [],
            "needs_background": "light"
          }
        }
      ]
    },
    {
      "cell_type": "markdown",
      "metadata": {
        "id": "UV-QAz72zN7M",
        "colab_type": "text"
      },
      "source": [
        "La distance entre les points lignes ou entre les points colonnes donne une mesure de leur similitude (ou dissemblance). Les points lignes avec un profil similaire sont proches sur le graphique. Il en va de même pour les points colonnes.\n",
        "\n",
        "Ce graphique montre que:\n",
        "\n",
        "Les lignes Dinner, Breakfeast et Laundry sont associées le le plus à la colonne Wife\n",
        "Les lignes Driving et Repairs sont associées le plus à la colonne Husband."
      ]
    }
  ]
}