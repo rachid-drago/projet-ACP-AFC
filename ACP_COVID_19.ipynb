{
  "nbformat": 4,
  "nbformat_minor": 0,
  "metadata": {
    "colab": {
      "name": "ACP-COVID-19.ipynb",
      "provenance": [],
      "collapsed_sections": [],
      "include_colab_link": true
    },
    "kernelspec": {
      "name": "python3",
      "display_name": "Python 3"
    }
  },
  "cells": [
    {
      "cell_type": "markdown",
      "metadata": {
        "id": "view-in-github",
        "colab_type": "text"
      },
      "source": [
        "<a href=\"https://colab.research.google.com/github/rachid-drago/projet-ACP-AFC/blob/master/ACP_COVID_19.ipynb\" target=\"_parent\"><img src=\"https://colab.research.google.com/assets/colab-badge.svg\" alt=\"Open In Colab\"/></a>"
      ]
    },
    {
      "cell_type": "markdown",
      "metadata": {
        "id": "2r_TE-RSPGMk",
        "colab_type": "text"
      },
      "source": [
        "Réalisé par: Rachid saidane  info 2 B"
      ]
    },
    {
      "cell_type": "code",
      "metadata": {
        "id": "0ht5wn5SbxAP",
        "colab_type": "code",
        "outputId": "a869faa9-384b-4def-a84d-cd35fff474bc",
        "colab": {
          "resources": {
            "http://localhost:8080/nbextensions/google.colab/files.js": {
              "data": "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",
              "ok": true,
              "headers": [
                [
                  "content-type",
                  "application/javascript"
                ]
              ],
              "status": 200,
              "status_text": ""
            }
          },
          "base_uri": "https://localhost:8080/",
          "height": 74
        }
      },
      "source": [
        "from google.colab import files\n",
        "upladed = files.upload()"
      ],
      "execution_count": 0,
      "outputs": [
        {
          "output_type": "display_data",
          "data": {
            "text/html": [
              "\n",
              "     <input type=\"file\" id=\"files-20c5c225-87bc-4796-8470-1a3211ff9268\" name=\"files[]\" multiple disabled />\n",
              "     <output id=\"result-20c5c225-87bc-4796-8470-1a3211ff9268\">\n",
              "      Upload widget is only available when the cell has been executed in the\n",
              "      current browser session. Please rerun this cell to enable.\n",
              "      </output>\n",
              "      <script src=\"/nbextensions/google.colab/files.js\"></script> "
            ],
            "text/plain": [
              "<IPython.core.display.HTML object>"
            ]
          },
          "metadata": {
            "tags": []
          }
        },
        {
          "output_type": "stream",
          "text": [
            "Saving Corona - Feuille 1 (1).csv to Corona - Feuille 1 (1) (1).csv\n"
          ],
          "name": "stdout"
        }
      ]
    },
    {
      "cell_type": "code",
      "metadata": {
        "id": "xXPFzLprb5aF",
        "colab_type": "code",
        "colab": {}
      },
      "source": [
        "import pandas as pd\n",
        "import numpy as np\n",
        "import matplotlib.pyplot as plt\n",
        "import seaborn as sns"
      ],
      "execution_count": 0,
      "outputs": []
    },
    {
      "cell_type": "code",
      "metadata": {
        "id": "S4UO0RRgdCrE",
        "colab_type": "code",
        "colab": {}
      },
      "source": [
        "df = pd.read_csv('/content/Corona - Feuille 1 (1).csv')"
      ],
      "execution_count": 0,
      "outputs": []
    },
    {
      "cell_type": "markdown",
      "metadata": {
        "id": "dIfmQmOjb6OC",
        "colab_type": "text"
      },
      "source": [
        "## Covid-19 Date:03/04/2020"
      ]
    },
    {
      "cell_type": "code",
      "metadata": {
        "id": "mXNtO7_8A037",
        "colab_type": "code",
        "outputId": "9c500972-5f4e-41fc-8e31-c12829313f46",
        "colab": {
          "base_uri": "https://localhost:8080/",
          "height": 195
        }
      },
      "source": [
        "df.head()"
      ],
      "execution_count": 0,
      "outputs": [
        {
          "output_type": "execute_result",
          "data": {
            "text/html": [
              "<div>\n",
              "<style scoped>\n",
              "    .dataframe tbody tr th:only-of-type {\n",
              "        vertical-align: middle;\n",
              "    }\n",
              "\n",
              "    .dataframe tbody tr th {\n",
              "        vertical-align: top;\n",
              "    }\n",
              "\n",
              "    .dataframe thead th {\n",
              "        text-align: right;\n",
              "    }\n",
              "</style>\n",
              "<table border=\"1\" class=\"dataframe\">\n",
              "  <thead>\n",
              "    <tr style=\"text-align: right;\">\n",
              "      <th></th>\n",
              "      <th>Country</th>\n",
              "      <th>Total\\nCases</th>\n",
              "      <th>New\\nCases</th>\n",
              "      <th>Total\\nDeaths</th>\n",
              "      <th>New\\nDeaths</th>\n",
              "      <th>Total\\nRecovered</th>\n",
              "      <th>Active\\nCases</th>\n",
              "      <th>Critical Cases\\n</th>\n",
              "      <th>Tot Cases/\\n1M pop</th>\n",
              "      <th>Deaths/\\n1M pop</th>\n",
              "    </tr>\n",
              "  </thead>\n",
              "  <tbody>\n",
              "    <tr>\n",
              "      <th>0</th>\n",
              "      <td>USA</td>\n",
              "      <td>258112</td>\n",
              "      <td>13235.0</td>\n",
              "      <td>6572</td>\n",
              "      <td>502.0</td>\n",
              "      <td>11941</td>\n",
              "      <td>239599</td>\n",
              "      <td>5781</td>\n",
              "      <td>780</td>\n",
              "      <td>20</td>\n",
              "    </tr>\n",
              "    <tr>\n",
              "      <th>1</th>\n",
              "      <td>Italy</td>\n",
              "      <td>119827</td>\n",
              "      <td>4585.0</td>\n",
              "      <td>14681</td>\n",
              "      <td>766.0</td>\n",
              "      <td>19758</td>\n",
              "      <td>85388</td>\n",
              "      <td>4068</td>\n",
              "      <td>1982</td>\n",
              "      <td>243</td>\n",
              "    </tr>\n",
              "    <tr>\n",
              "      <th>2</th>\n",
              "      <td>Spain</td>\n",
              "      <td>117710</td>\n",
              "      <td>5645.0</td>\n",
              "      <td>10935</td>\n",
              "      <td>587.0</td>\n",
              "      <td>30513</td>\n",
              "      <td>76262</td>\n",
              "      <td>6416</td>\n",
              "      <td>2518</td>\n",
              "      <td>234</td>\n",
              "    </tr>\n",
              "    <tr>\n",
              "      <th>3</th>\n",
              "      <td>Germany</td>\n",
              "      <td>89451</td>\n",
              "      <td>4657.0</td>\n",
              "      <td>1208</td>\n",
              "      <td>101.0</td>\n",
              "      <td>24575</td>\n",
              "      <td>63668</td>\n",
              "      <td>3936</td>\n",
              "      <td>1068</td>\n",
              "      <td>14</td>\n",
              "    </tr>\n",
              "    <tr>\n",
              "      <th>4</th>\n",
              "      <td>China</td>\n",
              "      <td>81620</td>\n",
              "      <td>31.0</td>\n",
              "      <td>3322</td>\n",
              "      <td>4.0</td>\n",
              "      <td>76571</td>\n",
              "      <td>1727</td>\n",
              "      <td>379</td>\n",
              "      <td>57</td>\n",
              "      <td>2</td>\n",
              "    </tr>\n",
              "  </tbody>\n",
              "</table>\n",
              "</div>"
            ],
            "text/plain": [
              "   Country  Total\\nCases  ...  Tot Cases/\\n1M pop  Deaths/\\n1M pop\n",
              "0      USA        258112  ...                 780               20\n",
              "1    Italy        119827  ...                1982              243\n",
              "2    Spain        117710  ...                2518              234\n",
              "3  Germany         89451  ...                1068               14\n",
              "4    China         81620  ...                  57                2\n",
              "\n",
              "[5 rows x 10 columns]"
            ]
          },
          "metadata": {
            "tags": []
          },
          "execution_count": 8
        }
      ]
    },
    {
      "cell_type": "code",
      "metadata": {
        "id": "CbI4S2Nrlbxm",
        "colab_type": "code",
        "outputId": "e10efdad-7c2f-48d2-8eda-4fd47f64ba0a",
        "colab": {
          "base_uri": "https://localhost:8080/",
          "height": 202
        }
      },
      "source": [
        "df.isnull().sum()"
      ],
      "execution_count": 0,
      "outputs": [
        {
          "output_type": "execute_result",
          "data": {
            "text/plain": [
              "Country               0\n",
              "Total\\nCases          0\n",
              "New\\nCases            2\n",
              "Total\\nDeaths         0\n",
              "New\\nDeaths           3\n",
              "Total\\nRecovered      0\n",
              "Active\\nCases         0\n",
              "Critical Cases\\n      0\n",
              "Tot Cases/\\n1M pop    0\n",
              "Deaths/\\n1M pop       0\n",
              "dtype: int64"
            ]
          },
          "metadata": {
            "tags": []
          },
          "execution_count": 9
        }
      ]
    },
    {
      "cell_type": "code",
      "metadata": {
        "id": "o869sFYXl33b",
        "colab_type": "code",
        "colab": {}
      },
      "source": [
        "df.drop(columns=[\"New\\nCases\",\"New\\nDeaths\"], axis=1 , inplace=True)"
      ],
      "execution_count": 0,
      "outputs": []
    },
    {
      "cell_type": "code",
      "metadata": {
        "id": "4QWaUkM9nkQZ",
        "colab_type": "code",
        "outputId": "bb142ac0-34a4-4cec-ddcb-b1258db873b9",
        "colab": {
          "base_uri": "https://localhost:8080/",
          "height": 195
        }
      },
      "source": [
        "df.head()"
      ],
      "execution_count": 0,
      "outputs": [
        {
          "output_type": "execute_result",
          "data": {
            "text/html": [
              "<div>\n",
              "<style scoped>\n",
              "    .dataframe tbody tr th:only-of-type {\n",
              "        vertical-align: middle;\n",
              "    }\n",
              "\n",
              "    .dataframe tbody tr th {\n",
              "        vertical-align: top;\n",
              "    }\n",
              "\n",
              "    .dataframe thead th {\n",
              "        text-align: right;\n",
              "    }\n",
              "</style>\n",
              "<table border=\"1\" class=\"dataframe\">\n",
              "  <thead>\n",
              "    <tr style=\"text-align: right;\">\n",
              "      <th></th>\n",
              "      <th>Country</th>\n",
              "      <th>Total\\nCases</th>\n",
              "      <th>Total\\nDeaths</th>\n",
              "      <th>Total\\nRecovered</th>\n",
              "      <th>Active\\nCases</th>\n",
              "      <th>Critical Cases\\n</th>\n",
              "      <th>Tot Cases/\\n1M pop</th>\n",
              "      <th>Deaths/\\n1M pop</th>\n",
              "    </tr>\n",
              "  </thead>\n",
              "  <tbody>\n",
              "    <tr>\n",
              "      <th>0</th>\n",
              "      <td>USA</td>\n",
              "      <td>258112</td>\n",
              "      <td>6572</td>\n",
              "      <td>11941</td>\n",
              "      <td>239599</td>\n",
              "      <td>5781</td>\n",
              "      <td>780</td>\n",
              "      <td>20</td>\n",
              "    </tr>\n",
              "    <tr>\n",
              "      <th>1</th>\n",
              "      <td>Italy</td>\n",
              "      <td>119827</td>\n",
              "      <td>14681</td>\n",
              "      <td>19758</td>\n",
              "      <td>85388</td>\n",
              "      <td>4068</td>\n",
              "      <td>1982</td>\n",
              "      <td>243</td>\n",
              "    </tr>\n",
              "    <tr>\n",
              "      <th>2</th>\n",
              "      <td>Spain</td>\n",
              "      <td>117710</td>\n",
              "      <td>10935</td>\n",
              "      <td>30513</td>\n",
              "      <td>76262</td>\n",
              "      <td>6416</td>\n",
              "      <td>2518</td>\n",
              "      <td>234</td>\n",
              "    </tr>\n",
              "    <tr>\n",
              "      <th>3</th>\n",
              "      <td>Germany</td>\n",
              "      <td>89451</td>\n",
              "      <td>1208</td>\n",
              "      <td>24575</td>\n",
              "      <td>63668</td>\n",
              "      <td>3936</td>\n",
              "      <td>1068</td>\n",
              "      <td>14</td>\n",
              "    </tr>\n",
              "    <tr>\n",
              "      <th>4</th>\n",
              "      <td>China</td>\n",
              "      <td>81620</td>\n",
              "      <td>3322</td>\n",
              "      <td>76571</td>\n",
              "      <td>1727</td>\n",
              "      <td>379</td>\n",
              "      <td>57</td>\n",
              "      <td>2</td>\n",
              "    </tr>\n",
              "  </tbody>\n",
              "</table>\n",
              "</div>"
            ],
            "text/plain": [
              "   Country  Total\\nCases  ...  Tot Cases/\\n1M pop  Deaths/\\n1M pop\n",
              "0      USA        258112  ...                 780               20\n",
              "1    Italy        119827  ...                1982              243\n",
              "2    Spain        117710  ...                2518              234\n",
              "3  Germany         89451  ...                1068               14\n",
              "4    China         81620  ...                  57                2\n",
              "\n",
              "[5 rows x 8 columns]"
            ]
          },
          "metadata": {
            "tags": []
          },
          "execution_count": 11
        }
      ]
    },
    {
      "cell_type": "code",
      "metadata": {
        "id": "ahIRPHRZnsDL",
        "colab_type": "code",
        "outputId": "492ef3a7-3aa0-4802-ee5f-f7dd2eb60ab6",
        "colab": {
          "base_uri": "https://localhost:8080/",
          "height": 284
        }
      },
      "source": [
        "df.describe()"
      ],
      "execution_count": 0,
      "outputs": [
        {
          "output_type": "execute_result",
          "data": {
            "text/html": [
              "<div>\n",
              "<style scoped>\n",
              "    .dataframe tbody tr th:only-of-type {\n",
              "        vertical-align: middle;\n",
              "    }\n",
              "\n",
              "    .dataframe tbody tr th {\n",
              "        vertical-align: top;\n",
              "    }\n",
              "\n",
              "    .dataframe thead th {\n",
              "        text-align: right;\n",
              "    }\n",
              "</style>\n",
              "<table border=\"1\" class=\"dataframe\">\n",
              "  <thead>\n",
              "    <tr style=\"text-align: right;\">\n",
              "      <th></th>\n",
              "      <th>Total\\nCases</th>\n",
              "      <th>Total\\nDeaths</th>\n",
              "      <th>Total\\nRecovered</th>\n",
              "      <th>Active\\nCases</th>\n",
              "      <th>Critical Cases\\n</th>\n",
              "      <th>Tot Cases/\\n1M pop</th>\n",
              "      <th>Deaths/\\n1M pop</th>\n",
              "    </tr>\n",
              "  </thead>\n",
              "  <tbody>\n",
              "    <tr>\n",
              "      <th>count</th>\n",
              "      <td>15.000000</td>\n",
              "      <td>15.000000</td>\n",
              "      <td>15.000000</td>\n",
              "      <td>15.000000</td>\n",
              "      <td>15.000000</td>\n",
              "      <td>15.000000</td>\n",
              "      <td>15.000000</td>\n",
              "    </tr>\n",
              "    <tr>\n",
              "      <th>mean</th>\n",
              "      <td>61357.333333</td>\n",
              "      <td>3538.533333</td>\n",
              "      <td>14150.733333</td>\n",
              "      <td>43668.066667</td>\n",
              "      <td>2362.200000</td>\n",
              "      <td>1006.200000</td>\n",
              "      <td>64.733333</td>\n",
              "    </tr>\n",
              "    <tr>\n",
              "      <th>std</th>\n",
              "      <td>66765.682191</td>\n",
              "      <td>4308.639060</td>\n",
              "      <td>19784.140288</td>\n",
              "      <td>60311.226063</td>\n",
              "      <td>2457.996344</td>\n",
              "      <td>759.517629</td>\n",
              "      <td>77.875786</td>\n",
              "    </tr>\n",
              "    <tr>\n",
              "      <th>min</th>\n",
              "      <td>10062.000000</td>\n",
              "      <td>168.000000</td>\n",
              "      <td>135.000000</td>\n",
              "      <td>1727.000000</td>\n",
              "      <td>55.000000</td>\n",
              "      <td>57.000000</td>\n",
              "      <td>2.000000</td>\n",
              "    </tr>\n",
              "    <tr>\n",
              "      <th>25%</th>\n",
              "      <td>16246.500000</td>\n",
              "      <td>464.500000</td>\n",
              "      <td>2000.500000</td>\n",
              "      <td>11175.000000</td>\n",
              "      <td>296.500000</td>\n",
              "      <td>436.500000</td>\n",
              "      <td>9.500000</td>\n",
              "    </tr>\n",
              "    <tr>\n",
              "      <th>50%</th>\n",
              "      <td>38168.000000</td>\n",
              "      <td>1487.000000</td>\n",
              "      <td>6021.000000</td>\n",
              "      <td>17364.000000</td>\n",
              "      <td>1182.000000</td>\n",
              "      <td>905.000000</td>\n",
              "      <td>39.000000</td>\n",
              "    </tr>\n",
              "    <tr>\n",
              "      <th>75%</th>\n",
              "      <td>85535.500000</td>\n",
              "      <td>4496.000000</td>\n",
              "      <td>18846.500000</td>\n",
              "      <td>52479.000000</td>\n",
              "      <td>4051.500000</td>\n",
              "      <td>1359.000000</td>\n",
              "      <td>85.000000</td>\n",
              "    </tr>\n",
              "    <tr>\n",
              "      <th>max</th>\n",
              "      <td>258112.000000</td>\n",
              "      <td>14681.000000</td>\n",
              "      <td>76571.000000</td>\n",
              "      <td>239599.000000</td>\n",
              "      <td>6416.000000</td>\n",
              "      <td>2518.000000</td>\n",
              "      <td>243.000000</td>\n",
              "    </tr>\n",
              "  </tbody>\n",
              "</table>\n",
              "</div>"
            ],
            "text/plain": [
              "        Total\\nCases  Total\\nDeaths  ...  Tot Cases/\\n1M pop  Deaths/\\n1M pop\n",
              "count      15.000000      15.000000  ...           15.000000        15.000000\n",
              "mean    61357.333333    3538.533333  ...         1006.200000        64.733333\n",
              "std     66765.682191    4308.639060  ...          759.517629        77.875786\n",
              "min     10062.000000     168.000000  ...           57.000000         2.000000\n",
              "25%     16246.500000     464.500000  ...          436.500000         9.500000\n",
              "50%     38168.000000    1487.000000  ...          905.000000        39.000000\n",
              "75%     85535.500000    4496.000000  ...         1359.000000        85.000000\n",
              "max    258112.000000   14681.000000  ...         2518.000000       243.000000\n",
              "\n",
              "[8 rows x 7 columns]"
            ]
          },
          "metadata": {
            "tags": []
          },
          "execution_count": 12
        }
      ]
    },
    {
      "cell_type": "code",
      "metadata": {
        "id": "6SZoR2TrSzhc",
        "colab_type": "code",
        "outputId": "78f51c32-5301-4d30-dd45-79639491320d",
        "colab": {
          "base_uri": "https://localhost:8080/",
          "height": 474
        }
      },
      "source": [
        "pd.plotting.scatter_matrix(df,figsize=(7,7));"
      ],
      "execution_count": 0,
      "outputs": [
        {
          "output_type": "display_data",
          "data": {
            "image/png": "iVBORw0KGgoAAAANSUhEUgAAAdMAAAHJCAYAAADes9NQAAAABHNCSVQICAgIfAhkiAAAAAlwSFlzAAALEgAACxIB0t1+/AAAADh0RVh0U29mdHdhcmUAbWF0cGxvdGxpYiB2ZXJzaW9uMy4yLjEsIGh0dHA6Ly9tYXRwbG90bGliLm9yZy+j8jraAAAgAElEQVR4nOzdd3Rc133o++9v+gwGvYNoJNg7JbCp2KIkVy3bkuMu2bESR76x47SbvDi5eTf35iXv2Vk3cVxiR7ZTnNiOHXdHrpIlWZRVKJKiKFKkWNE7BpjeZ78/ZgCCJDDADAZTwP1ZC4vEwSn7zJxzfufss/dvi1IKTdM0TdOyZyh0ATRN0zSt1OlgqmmapmnLpIOppmmapi2TDqaapmmatkw6mGqapmnaMulgqmmapmnLZCp0AYpVXV2d6uzsLHQxVkxPTw8rtX/j3jAJpTCIUF9uXZFtLCbd/oWicdzBKABOq4kya2mdBiv53RWKJxglGI0DEHSNlOz+xROKCV8YAKvJQJXDct08y/n+vKEYgUgMgCqHBaup+J6H5u5fMBLHE0qea+U2Ew5LaZ1r8zl27NiEUqr+2umlv2crpLOzk6NHjxa6GCumu7t7xfbva8/3MuYJU19u5YEDHSuyjcWk279+V4DvHB9AKXj9tka2tVTmuXTLs5LfXaE8c2GC5y+7MBmEr/zJe0t2/4KROP/yzGXC0QQ71lRy99bG6+ZZzvd3rHeKp86NYxDhvfvbaCi3LbfIOTd3/y5P+Pn+i4MA3LOzmY2N5YUsWk6ISO9803UwTaPz4z+ad3rPJ+7Jc0lKy6/d1MrAVJDWanuhizKvthoH79nbTjSeoK3GUejiaMDBrlqaq+xU2Ex8pdCFWQa7xcj9+zqY8IfprC3L+fpv7qimzmnBYTEVrNYnE2vrynjPvjYSCtZUFef1IFd0MNVyzmY2sr7BWehipNVUWXx39DcyEWFtXe6DTyFUOsxUOswrtv6OFQjSK6m5cnUH0RnFV+GuaZqmaSVGB1NN0zRNWyYdTDVN0zRtmXQw1TRN07Rl0sFU0zRN05ZJB1NN0zRNW6aiCKYisl9EnhGRp0XkU6lpf5z6/WsiYl6JaZqmaZqWC0URTIFe4E6l1G1Ag4i8FjiU+v0kcK+INORyWt73UNM0TVu1iiKYKqVGlFKh1K9RYBvwZOr3x4CDQHeOp2mapmlaThRFMJ0hIjuBemAa8KQmu4Gq1E8up823/YdE5KiIHB0fH8/RXmmapmmr3YoGUxExiEjFEuetAT4H/CbJgDezXAXJ4JrraddRSn1RKdWtlOqur79uUABN0zRNm1fOg6mIfF1EKkSkDDgFvCIif7zIMibgq8AfKaVGgBeA16b+fDfw3ApM0zRN07ScWIkn061KKQ/JRj4/AdYC719kmXcCe4G/EZEngS7gKRF5GtgNfF8pNZbLabndZU3TNO1GtuCoMSJyU7oFlVLHF/iTOdX15F7gc0qpqIioRdb1H8B/XDP5WeCT18z3yVxO0zRN07RcSDcE29+m+ZsC7lzgbw8DPcBLJJ8GO7jS+EfTNE3TVp0Fg6lS6lA2K1RKfQb4zJxJvSKS1bo0TdM0rRQsaXBwEdkObAVmR1RWSv3bAvM2Av8v0KKUepOIbCXZr/Ofll9cTdM0TSs+izZAEpG/AD6b+jkE/A3w1jSL/CvwM6Al9fs54PeXVUpN0zRNK2JLac37DuAuYEQp9SCwC6hMM3+dUuo/gQSAUioGxJdbUE3TNE0rVksJpkGlVAKIpRIwjAFtaeb3i0gtyUZKiMgBkkkTNE3TNG1VWso706MiUgV8CTgG+Eh2W1nIHwI/BLpE5Fck0wO+Y7kF1TRN07RitWgwVUp9JPXffxSRnwIVSqmTaeY/nhr1ZRMgwKtKqWhOSqtpmqZpRWgpDZB+MfN/pVSPUurk3GnzzP9OwK6UOk0yccM3F0sAoWmapmmlbMFgKiK2VPL5OhGpFpGa1E8nsCbNOv9vpZRXRG4j2XDpn4Av5LLQmqZpmlZM0lXzfphkl5YWYG7qQA/J0V0WMtNy9x7gS0qpH4nIXy2rlNoNJRiJMzgdpLXajs1sXNIySimePDfOlD/CazdmN+LPmWEPLw+62bGmki3N1w92NDgdxCDQXGnPav3FxB2MMuELM+4J0z8V4MC6WtpqHIUuVtEIRuI8dmYUgwh3bWlY8nG4kEgsQZ8rQFOlbfGZi8CUP8ITr45R5TBzx8YGDAZJO78vHGPEHaKjdnUdQy5/hOlAhJ5JP9OBaNprS7oMSJ8GPi0iH1NKfTaD7Q+KyMPA64BPioiVIhs3VStu3z7Wz4QvQlOljffua1/SMgNTQU70JUfWO3LZldV2f3FmlGhcMe4NXxdMz416+dHJYQDu27OGzrqyrLZRDELROF9/vg9PMEL/VJCueieHz0/wvv1L+6xvBC8Purkw5gOgucrGTe3Vy1rfj18e5vKEn3LbkvLkFNzzl130TgbonYSueicdtQsf7/GE4htH+vCGYqyrL93z4lruQJSvPdebDKjBKO01jrTXlqUEuYdF5HdF5Nupn99JJbJfyLtIJm14g1JqGqgB0g7BpmlzeUIxALyhpbdbq3KYsVuSTw/NVdk9Oc48cTbP8/QwtyzeVPlKVTiaIByLYzIaMKWeOJqrSuOJKV+aKmwYRDAahMaK5X82ntTxE4iURpf7ltTxYDMbqS6zpJ03lkjM7penxM+NuQLRGLGEwma+EibTXVuWcpv0ecCc+heSw6l9AfjQfDMrpQLAd0WkQURmbnXPLrYREWkBHiGZttCplIqJyKeAbuC4Uur3UvPldJpWfN6ys4WzIx62tixpXHkAym1mPnhLJ8FIfNGTfyH37lmDyx+hZp7ld7ZWEYjEMYhkVK5iVOkw8/qtTQxOB3ngQAdGg1Cb5We2WrXXOnjwtk6E5LG1XG/c1sSJ/mnW1TuZNw9rkdnZWkVbtQOb2Th7k7oQq8nIm3c0c2ncx+62Kj6dpzKutOZKO3dsqsflj7CrrQqjSNprS7oh2Eyp7EV7lVK75vzpcRF5Kc1ybyU54kwLyQQP7SSD6bZFyu4i2WDpe6n13EQyqN4uIl8Qkb0k38fmbJpS6oVFyjSvzo//6LppPZ+4J5tVafNor3XQnsW7F5vZuKx3W0aDUF9unfdvZqOB2zdk9y62GG1tqSj5m4KVVpGDIDqjocLG67c15Wx9+ZDJTen6BifrG5wrWJrC2JNB9X66at4jqX/jItI1M1FE1pE+PeD/AxwAziml1gJ3A88tVhClVEgpNTVn0gHg0dT/HyOZLD/X0zRN0zRt2dIF05nmW38EPCEiT4rIk8DjwH9Ps1xUKTUJGETEoJR6gmTVaqaquDIOqjv1e66nXUVEHhKRoyJydHx8PIsil6ZEQnF6yE3vpL/QRSka8YTi1KCbvslAoYuSM+5glJf6p2ff32nzSyQUrwx5Su58uDTu48ywB6VUoYsCQDgW5+TANKOeUKGLkhfp3pnWi8gfpv7/MDBTfxYH9gBPLLDctIg4gaeAr4nIGJDNUekGZuqhKoDp1LZzOe0qSqkvAl8E6O7uVhNZFLoUPX/ZxXOXJgF49942WrJswLOaPH9pkucvuxCB9+xtL5kuDel859gA7mCU6j4zH7x1baGLU7Re6HHxzMXk+fCuvW2sKYHzoXfSzw9ODAHJRk43dyyv9XEuPPbKGOdGvZiNwoO3rqXMWhotmbOV7snUCDiBcpJBV1I/ptS0q4jIehG5FXgbEAD+APgpMAl8LIuyPUvyHSpcqSrO9TSNZGu8GfHE9Xe1F8d9fONIH0d7sutyUoqiqc9Bqas/n0IJRuL84MQgPzgxSCSW4Jsv9PFs6oK/VDP7EZvnOy5G8YTi56dH+PaxAVz+SN62O/fzicVz/917QzH+84V+Rty5e2KLxle2zJlwB6N8/8VBfOFkDUg8AfEieVpeSeluFYaVUn+Zwbr+HvhTpdTMU2gC+IqI7CA5WPhb0i2c6m7zE5JDvP0M+DMgJCKHgRNKqSOp+XI6TYMD62qxmow4raZ5O+4/dW6c6UCUYXeI7Wsql92BvRQcXFeL3Wyk3GaitbrwHdFPD7m5NJ48tXzhGEPTIYamQ2xfU7Hk1qb37lnDhVEfGxqvuxcuSr2Tfk4PJd/MHO1x5a0Bz761NVhMBhwWY9r+ldkKRGIMTgd57tIk9+5Jl0xu6dY3OLl7SyPhWJzdbde9wcqrUDTO5Qk/u9oqaatx0FJpz2ljrmKVLpimT3lxvUal1MvXTlRKvZxKQZhWKhn+3ddMfn6e+a7r0rKcaVqypeq+tTUL/r2t2sF0wE1jhQ2r6cbIv2Expf9M8q2p0jbbJ9RsTH4HdU4L9gxubBrKbTSUl051da3Tis1sJByLs6Y6f1WtZqOBvZ0r990bU99ja473aUdrumGm80dEMIgsmuxhtUkXTO9K87f5pLsdKv6XDnlUal1r7trSwM0d1ZTbTIhkeo+l5UJrtYPfuC35nvMrNhMfvKUTp82Eybh6b24q7WYevLWTcCxBpX31PNnUlln5jVvXUulYPfs0V53Twm/evhbnKn9Heq0Fz0SlVKYvyI6KyG9dO1FEPkRyHFStREmqs/JCF+5YPEEoWhqZXWYopQiWSDaaGWVW02wjjuoyy+wT6nxm9q9YWnZmy2Y2ropAOvd4EyFngbQYv2ODSE4CaTgWJ1rg97+ZyOWtw+8D3xOR+7kSPLsBC3BfDrejFRFfOMY3jvThD8d5044mNpbA+zilFN85Pki/K8BNHdVZJ8YvZj9+eYRzo142N5Xzph3NhS7ODe+HLw1xadzP9jW5q4p9/OwoL/W76axzcN+e1pyttxj0TQb4wYlBzCYD7+5uyzqrWT7lLJgqpUaBW0TkELA9NflHSqnHc7UNrTCO901xsn+anW1V1yX8HvWEZnPVXp7wl0QwDccS9LuS/Ucvjvm4fX0dPzs9woQvzJ1bGkuiK8RCnrkwwfkxHxfGfNSUWbg0UVp9JYtFz4Sfp86P01Jp564tDct6vZFIKC6nvodL476Ml7884efw+XHWVNm5c/OVslwc86fKGiAWT5RElX88ofjZ6REm/RHu2tywYDe8y5N+YglFLBJnyB0siWCa809fKfWEUuqzqR8dSFeBX52fYCoQ5ZkL1/e8ba9x0NXgpK7cyp4CtyJcKpvZyL61NVQ7zBzsqmXYE+LsiJcJX6Sku/+EonGev+zC5Y9gMsrs/mmZO9LjYtIX4eVB97K75RgMwi1ddVl/H0cuTzLpi3BywM1U4ErCjYNdtbPrLIVACjA0HeTVES8T3jDH+6YWnG/nmkoaK2x01Droqi+NNIU31htiLStdDU5eHfGybp6D2mw08NZdLQUo1fLcur6OW9fXAckgVOUw4w5GS+bEnY/VZKCtxkG/K8BrN9Zzx6aGQhepZHXVlzE4FaSu3EpFDt7Z7ltbk3Xr8HX1ToamQ9SXW6mYM4Tb9jWVOa02zoc6p5VKuxlPKMraNMMYVpdZSm5IQB1MtUW9aXsTGxudvDzg5kT/dMH7sS2FOxjlyVfHeM2G+kUHNraZjXzgYCfReKKk+9CKCPfsaOLnryTHZY3GE2kbKRWzE/3T9Ez42be2piAZuW7uqGFrcyVWk2HR42elJBKKwxcm8ASj3L+/nTqntWBlyRW7xciv33LlXDva42JwOsjBdbU05GCou0LSwVRblIjw3CUX494wPZMBNjQ4iz41WCga58W+adpqllZNZDQIRkPpBtIZLw1cSe7QWGFlZ2vx3/hcK6EUT5wdA8AfiXH//o6ClGOxocdWWq8rwPHeZFWozWzkdVsbC1qeXJk516b8EQ6fT746isQSvLO7rcAlW57iviKWkPn6jhZaLvuzNpRbGfeGqXKYSyZxg9ko1DiKv+FCLtWXWxEBQah1zj+cXLETESrtyWr3UkoykWvVDjMWk4FILEHDAkMDljK7JZl1zReOlfxTKehgqi3R3Vsa2dFaSbVj4f6mxaTWaeXXb+nMycDOpaSr3skHDnZiFCnZpAACvG9/O1OBCE2r4CKbrSqHhQ8c7CAYja/Kmwqb2cgDBzpwB6M0VpT+zYIOpjeohFJ844U+xjwhbt9QT325lWqHBYfFOG83AINBaK4snS4jkViCs8Me6sutnOh3E08o7t7SWLIBZiGPnx3j8PkxdrVW8+YdzVhMBmpKoBvBYmxmIw6Lie+9OIjdbOTurY1Xvf89O+KhZ9zP1pYK2ks4ZZ0nFOXlATet1fZ5U++V28xpbwjjCYVBWFLXHV84hjsYpaXSllVXn0RC8fjZMaaDUQ5tql+w5iMWVzx9foKNTc5FbwLsFiN2i5F4QvH4mVHcwSh3bm6YPYZn9i8STzDmCdNcaSvam3kdTG9Q04Eo3zraj8lg4NSAh5ZqG72TAW7pquM9+9pK/olu1BPiz79/iiqHGZPBwM7WKqrLzNy5eXW8dwJ4dcTN//juy3hDEX51YYKaMguvWSUJKNyBKE+8OsaFMR9mo4HOujK2NCdHUBxxh/jyU5d4/rKLCruZv75vO7vbCj/kWDYePT1KnyvAsV7h3j0tNJTbltwI7vKEn0deGsJpM/HuvW04LFdfzhMJhTcUo8JuIhRN8NXneglG4nR3VnP7hsyPkz5XgJcH3QC80DPFG7fPP/DAVDDCk6+OcXJgmo8cWo83FMViMmA1Lbxffa4Ap2bX7eIN25o4P+rlJ6dGqHKYicUTuIMx1taV5WxwgFzTwfQGNeYNc2bYy5oqO/XlVlz+KIFInOlAhMHpIJubSjuYxhOKPleAUY+R2jILYnDjsBo5uK6u4A1Llksp+M6xfj7/5EUmfCFACEdVybbcvZY7GOW3v3aMSV8Yh9VEd0f1Ve8MTUZh3BsmoRSxeIJzI96SDKaJhOLMiIcLYz6cVhPffKGfSruZ9x/oXNIxen7USyyhmA5EGZoOsb7h6oZ23z8xSO9kgI2N5exfVzObznDSl12/2VqnBbvFSDAST5uk3x+K8eiZUdpr7OxbW8Ph8xM4rSbet799wYaLtU4LNrORUDQ+mzTl1VEv8YRiwhvGF45RbjMz4QtnVfZ80MH0BlZmMdJVX8afvHEzvzw3Tp8rQEdtGZ0lXG02w2IyUGU3Y7eYaKiwsb2lglhccX7MW5ItXOcKxxKcHfESisYpt5sxGYSPHupifxGNcrMc3lAMdyB5c7e1pYLb1tddVaVY57Tyu3dv4MuHL1FfbuMNeRqaLdfGvGFsJgPNFTbCsQQmgwF/OI43HF1SMN3RWsnAVJBym4m2mquDm1KKflcQSD713bOzmds31DHiCXFwXXaJPMptZj54SyfhaGLR1yXlVhNmg4GLqYxPvnAMlz+yYDCtsF0/qMGu1ipG3CFqnRY2NpRzccLP7iI+d3UwvUFZjEJLlZ2Hbu+ircbBAwcK0/1gpbRVO3j7za24/BHeuruFYz1TGAxSkD6LuWY2CfXlVjY1lWMxGnj/wc7ZBBSrQZnVSFuNnVjcxoF1tdw8z3BoN3fUcHNHad88VJeZqS9PvgPc3VbFVCBCYwbD5DVX2mdHErqWiPDaTfW8MuRhV1sysUN3DoaVs5mNi1ZDO6wmWqrs3La+jkObG3ji7BjVDsuiaTqvXXdbjYMP3b5u9vdtRZ6gQoptxIFiUVdXpzo7O1dk3b5wDH84hohQ57RgKMCwZj09PazU/hWDbPbP5Y8QjSewGA1FnQs0V9+dUjDpDxNPKOxmY04y/eRCMRyb4ViC6UCyOrTaYcGSw+5gxbB/iwlEYnhDyWtUbZlldgzWpSiF/ctEPKGY9EdQSuG0mjh76iWllLrugNBPpgvo7Ozk6NGjK7LuR04OcX40Wf3x3n3tNFXmv9l7d3f3iu1fMchm//7hiQtEYgmsZgMfuWP9CpVs+XL13fnCMb701CUgOfj4e/cVR/q2Yjg2j/a4ZhMKHNrckNOsX8Wwf4v5+ekRTg95APi1m1ppr3UsedlS2L9MDEwF+NbRAQC2NJfzph0tx+ebTwfTArhtfR0GEeqc1oIEUm1+b9rexOkhD9taKgpdlLxwWk3cvaWRXpefvTmoAlxNdrRW4g5GMYjcMMfDXAe6akkoRYXdfN372BtNa7WDg121TPkjHOxa+HWKDqYFUOWw8OYiGGMylxmSVoN19c55k/mvZjtaK9nRWtzvogrBajJy15bV040qUxU2M2/cXvhrVLE4sIRGW6ujLb2maZqmFZAOppqmaZq2TDqYapqmadoy6WCqaZqmacukg6mmaZqmLZMOppqmaZq2TDqYapqmadoy6WCqaZqmacuUt2AqIn8jIhUiYhaRX4jIuIg8kK/ta5qmadpKyWcGpNcrpf4vEbkP6AHeDjwFfDWPZSg4pRQ/Oz3KwFSA126sZ0NjeaGLpC2BOxDlhyeHMIrwll3NJT14evIYHGFgKsgdm+pZ36CPwZX28oCb5y9PXjfm6GrxxKtjXBzzLSlTUKmIxRP86OVhJnwRXr+1kbaa9PmJ81nNOxO47wG+pZRy53HbRWM6EOXMsAdvKMax3qlCF0dbojMjHia8YUY9Ic6P+QpdnGVx+SOcGfbqYzCPXuhx4Q3FeLFvutBFyblQNM6Jvmm8oRgv9LgKXZycGXaHuDTuxxOMcqJ/8e8tn8H0ERE5C9wM/EJE6oFQugVEpEVEjotISERMqWmfEpHDIvLpOfNlPS3fKuxmWqpsiMDGJv1EUCrW1pVhNRuwW4x0LHKHWuwq7WaaK1PHoK4ZyYtNqXN9bV1ZgUuSe1aTYXa/Nq2i46m+3EpNWXKIzKWcJ3mr5lVKfVxE/gZwK6XiIuIH3rbIYi7gLuB7ACJyE+BUSt0uIl8Qkb1APNtpSqkXVmp/F2I0CO/e204snsBk1O2/SkVjhY0Pv6YLAQwZjO1YjExGA+/Zp4/BfLp1fR371tZgNhr4q0IXJsdEhHv3rCEaT2BeRceTzWzkAwc7iCfUks6TjIJpKpgtSCk17zhvc2wGOmeeMlP+Lc36QkBIrgyefQB4NPX/x4CDQGwZ0/IeTGfoi1jpyWSA5FKgj8H8Wk2BZj6rcf9EBJNxaed9pk+mf5vmbwq4M02h/h3oAk6QfEqcWWbBYDqPKuBS6v9uYBvJIJnttGvL+BDwEEB7e3EMlKxpmqYVv4yCqVLq0DK21Q1sVUqpZazDDcyM1FsBTJMMzNlOu4pS6ovAFwG6u7uXU05N0zTtBpL1c7mIbBeRd4nIB2Z+FlnkFNCU7fZSniX5DhXgbuC5ZU7TNE3TtGXLqgGSiPwFcAewFfgx8CbgaeapshWR/yJZnVsOvCIiR4DwzN+VUm9Nsx0z8BNgF/Az4M9IvkM9DJxQSh1JzZf1NE3TNE1brmxb876DZIB7USn1oIg0snDyhf+T5TZQSkVJPkXO9fw88/1ettM0TdM0bbmyDaZBpVRCRGIiUgGMAW3zzaiU+iWAiHxSKfUnc/8mIp8EfpllGTRN0zStKGT7zvSoiFQBXwKOAcdJvpNM53XzTHtTltvXNE3TtKKR1ZOpUuojqf/+o4j8FKhQSp2cb14R+W3gI8A6EZk7TznwTDbb1zRN07Rikm0DpF8ope4CUEr1XDvtGl8n2Yjo/wM+Pme6Vym1ehI5apqmaTesTDMg2QAHUCci1cBMaogKYM18y6QS2ruB96bW0QDYAKeIOJVSfVmWXdM0TdOKQqZPph8Gfh9oIfmedIYH+Fy6BUXkLcDfpZYdAzqAM8yTiUhbGd5QlBF3iI7a1ZdsO1ND00FicUV7bWknrV8tlFJcmvBTaS/doe1mTPkjTPrDrK1z5jwFpVKKnskAZRYjDRW2nK57pQxOB0kk1KJDmJW6TDMgfRr4tIh8TCn12Qy39Vckc+s+ppTaIyKHAD04eJ7EE4pvHOnHF46typErMtE3GeA7xwcAeN3WRravqSxwibRnLk5y5LILU4nnPw5EYnz9SB+RWILtayp53dbGnK7/eN8UT52bwCDCe/e1FX1AvTTu4wcnhgB4847m2dFzVqNsW/M+LCK/KyLfTv38TirBQjpRpdQkYBARg1LqCZIpBrU8iCUSBKPJlMjecKzApSks35z999/gn0Wx8IaS30MsUdpZPCOxBNF4AgBfOJrz9c98Tgml8Efii8xdeHPPNd8qP9ey7Wf6ecCc+hfg/cAXgA+lWWZaRJzAYeBrIjIG+LPcvpYhq8nIPTubuTzuZ1dbFQUb0LUIbG4qxxOKEo0n2NNeXejiaMDtG+qwmgzUlFn4WqELswxVDguv39rEsDtId0dNztd/YF0tAOU2U0nUMG1rqcQXjqEU7Gpd3TVAmTZAMimlYsBepdSuOX96XEReWmTxtwFBku9c7wcqgb/MZPvFKhCJYTEain5Iq656J131zkIXo+AMBmFfZw2BaByLqbi/s2yp1JNLmcXInCEMi1aZ1cShzQ2FLkZObG2pYGtLxVXT5n4fy2EzG7lj05XPyReO4TAbi3aMXaNBuKWrLqtlQ9E4BpGSOUczfTI9AtwExEWkSyl1EUBE1nFlWLV5KaX8ItIBbFBKfUVEHMDyjqwi8FL/NI+fHaPSbuZ9+9uxmUt+l1Y9pRTfPjbA4HSQ3e1VHNq0Oi7icz1ycpgLYz42NpZzz87mQhfnhvf9E4P0TASuC7LL8egro5wadNNe4+DXbm7N2XqLQc+Enx++NITZaODde9uoKbMUukiLyjTkz9z+/BHwhIg8KSJPAo8D/z3tgiK/BXwbeDg1aQ3w/Qy3X3R6JpM11e5gFJc/UuDSaEsRjiUYnA4CcHl8db5p6JlI7tfM8akVTiKh6J0MAFe+l1yYWVefK0As9Z52tehzBYgnFKFonGF3sNDFWZJMn0zrReQPU/9/mCtPlnFgD/BEmmU/CuwjlaheKXU+1ee0pHV31uANxagvt9JU5C3rlqPz4z+6blrPJ+4pQEmWz2Y2sn9dDRfHfOxbW1vo4qyI2zbUcWrQzY7WqkIX5YZnMAi3ra/jzLCHPe3VfClH671lfS3He6fY1FRR9K+YMrWztZJhdxCrycj6htJ4NZVpMDUCTq48oc5dz2JtnsNKqcjM+xsRMZEcmq2kramy88CBjkIXQ8vQLV11Wb/LKQV72qt146oi0t1ZQ3dnbr4D6xQAACAASURBVBskbWupZFvL6mzUU+Ww8O697YUuRkYyDabDSqlsGw39UkT+DLCLyOtI5uv9ryzXpWmapmlFI9t3ptn4ODAOvEwyk9KPgT9fxvo0TdM0rShk+mQ6XyL7JUmNf/p94PtKqfFs11Noz1yYYNgd4rYNdTSu4nekpW46EOUXZ0Y5tKmhaLsNrIRAJMbjZ8cwGYQ7NzeWTLeCax3rdXF5IsD+tTWrPg3dQhIJxZPnxvAEYxza1EClo/RTLV7r2YuTDE0HuWV9Lc2V9kIXZ1kyOtOyGeVFkv6XiEwArwKvisi4iPzPTNdVaOPeMM9fdtHnCvCrCxP0Tvr56alh+l2Bq+a7POHnO8cGODkwXaCSauFYnJMDbi4vsTXr8b4pfn56BE8o91lrciEUjfOTl4f5ycvDROIJvnNsgGO915+OyXlGeKFnijPDngKUdPkSSvHUuQn6Jv186alL/ODEIO5Afr+XKX+En50e4dSgO+fr9oVjfO/FAca8obTz9Uz6eanfzSvDHv7xlxdXpCwrwROM8sjJIQKR+TMeHetNnmt9k36euzRJnyvA0+cn8lzK3MvHbesfALeSTPRQo5SqAfYDt4rIH+Rh+zlTbjNRbks+zDdV2njk5DBnhr386OXhq+Z74uwYfa4Aj58dIxJbXU3WS4nFZKB2Cf3TRj0hfvnqOKeHPBw+V5wn9alBN2dHvJwd8eILxehzBXjq3ATeOcE/Ekvw8qCHSV+YyxN+GiqsBSxx9kSEmjIL08Eo08Eol8b9HOnJ72iNT7w6xitDHh59ZZTpQG67vPnDMXomAjx7cTLtfLVlVqxmA5cn/EwHIjz6yijuYHHe7M0VjMY5P+rjRP/1DxPD7iBPnUueay8NTM9eT0v9qRSyTyeYifcDr1NKzV6llFKXROQB4OfAp/JQhpywmY08cKADXzhGndPKpXE/497wdSNdNFXacAej1DmtmI03ThVjMalzWnnw1k4clsUPcbvFiMVkIBJLFO2oJY0VNgyplvAzx1SVw4x9TpIQk0Foq3FgMxnorCsr2QuUAO/d186AK8CPTw0Tjau8dzubOQ5sZmPOE7HMvHZY7DVRpcPMB2/ppLlilJ5JP3aLEWsJVNuLCCLM+505LCbMRiEaV9SWWXnd1qbZ62mpy0cwNc8NpDOUUuNLSI5fdOaeXO+4uZWh6SAtVVdftN64rYnujmqqyywlkcptNTIaZEmBFKDCZub+/e24g1Hai/T9XFuNgw/e0gkC/54qb6XDfFX/QoMhOZLIiDtU8u8ZLSYD6xqcPHjrWkLROLV5vtge2tRAV72TGqcl58G0rszKAwc6qC9ffJ8cFhNv291CrytA7QqUZSXUOi188JZOqhzX1wpV2s08cKBj9lwTkZLYp6XIRzBNV0dS0imDbGYj6+bJdWswSNEPjaRdrcphmffkLyZzG6AsdHw5LKZ5j8lSVWY1UWbNx2XqagaD0LlCieRFWFIgnVuWUkhqP8MokvZcKoVzLRv5OEp3ich8LSEE0BFH0zRNK3krXgGvlDIqpSrm+SlXShV1NW8snmDMGyJe4mMs3ojiCXVV45zVKhJLHqNK3XjH6JQ/csOPR+vyRxZsNbsaTPrCBEtg3FbIz5Npyfru8UEGp4Osqy/jbbvXZLx8KBqfzdur5deEL8y//qqHd+1ty7o/sMsfwWoyFKSacSkSCcU3X+hjwhdha0sFb9jWlHb+WDyByx+h1mnFWOJ9b18Z8vCz0yNYTAbet6+d6hyPKuLyR7CYDDiL9LuHZAvvR18ZxWIy8MD+DgyG5E1kMVWhjnlDVNjMWb0XPd43xS9fHU81/Gyn3FbUz146mKZzcnCaS+N+Lo37eMvOlow6/wcjcb76XC++cIwD62o52LX6EqrPl/x+IUtNir/QOudbfrHk+2PeEP/wxAV2rKnk3j1rMGeQDHzuher+/e1FdYGa4Q5GePzsGNF4AqNBFg2m33txkIGpIB21Dt5+U2kP2XVpwseJ/ikSCejurGZ/DgcsODPs4aenkoH6vfvai3b4r2F3sp9qJJbg3JiX5y5OEleKe3Y0s6Hx6lTpsXiCH5wYYsQT4u4tjWxqWiyV+vIdPj/O0Z4pym0m3n+wA6sps4A6ktq/UDTOj04OM+EL091ZMztAerEp/nbWBVRbZqHMaqLSbmY6w/5d3lAUX6oKatSTvnO2lns2sxGz0UCFzczAVJBxbzij5edeqIp1aL1Rb5iGcht2i4mG8qX1p4Ur+1bKasos2M0mqsrMhCO57cs9Mue7n/Rldtzk077OGtbVl7GrrRK72UgsoVAKRua53rj8EfpcASKxRN6SP8wcZ95QjEA486raA+tq6axzsLutiqHpING4KupEOPrJNI27NjfyyrAHlz/CVCCS0R1qQ4WN/WtrGPWGuGV9cd5JrWblNhNv272GJ14do98V4L9eGuKtu1uW3PdyX2cNgUiMCpuZztribEnZVm1HJHnnXmZdvArs7q2NnB70sKO1NEYaGfOE+OFLQ9gtRu7bs+aqrk4bGpzsbK3EZBQ2t+T2Kevmzmq84Rhllvlb6+falD+C02bKqOYEkq27Z14/xeIJhqaDhGOJeUcLqimz0FbjYNQTYvua7L7/cCzOD04M4Q5EeeP2prTdr1z+CLetr+O5S5OsqbIvWg0fjsX5wYtDuINR3rSjidZqBzVlFu7bk6xBiScUZ4Y97FhTvEMK3lDBVEQ+BXQDx5VSv5duXl84xuefvMDgdIBKm5Wnz4/TleGJdcv61TvEV7Gb8EX48uHL1JSZqHNauTju48cvD/Mbt65dUt/fuReqYnRm2MNzFyfpmfARiyu+e3yA9Q1OtjRXLLjM5qYKNjct/PdiEY0n+Ldnezg/6iUSS9BYYaNnIsDWlmTZfeEY3z0+SDiW4LYNDTSU57ZTQIXNzFt3teR0nQv55gt9HLnsoqveya62SlqqHFl1gzEZDbz+mmr+cW+YS+M+NjaWU11m4R03L69qf2g6xOBUcqDu00PuBYPpmDfE73/jRQ521fKbt63j5MA0F8d9aa+fg1NBBqeT6z416KG1+up13721kbu3Ni6r/CvthgmmInIT4FRK3S4iXxCRvUqpFxaaf3g6xAs9U4Sjcba0mKi0F+d7E21+kViC430uyqwmyq0mrGYjZRYT50Z9eXlftJIisQQ/PDHIIyeHCUXjKJJJBgangmmDaakY94b51tH+2cZSZVYTbTVXahRcvgiBVAvPwakgO0t0APQpf4Sfnx7FF45xadyPJxTFZjYumPAgE0olb7ACkTivDHt48Na1yy5vc6WNOqcFdzDKxsaFz6HpQJSL4z5GPSFaqx1cGPMBcP/+9gX7RzdX2ql1WvAEoyV7ft4wwRQ4ADya+v9jwEFgwWCKJLOw2M3J1oJv3J6+cYdWXCwmAzazkQqbmW0tFVQ5zIBgWgXpHZMP1smUbbVOC7VOKwfW1XJzx+oYDFxm0yYa2N5Swdt2r7mqJWdrtZ2drZW4/BH2rs3tgNv5NJMYonfSj8NiwmoyYhDJSdY0EZlNP2nIURY2m9nI+w92opRKW0az0YDFZKCp0sZMzbUIaZexW4x8YAnrLmZyo/RPSw1Mflwp9VMRuRu45dqBzkXkIeAhgNra2ps7Ozuz2lYwEscfiWE1GWcTORebnp4elrp/pbA/18pk/0rNxUuXqWxowWI0UFGkuYSXY+a7UwqmgxHiCUWl3ZzxO8Vide7iJWoa11BhM5fsEHnpvHrhEnXNrVTazZhKvAvWfI4dO6aUUtd9caVxZcwNNzBTB1YBXNcsTCn1ReCLAN3d3ero0aNZbejLhy/hDSVb8n700PqiPGG6u7tZ6v7989OXZ0er+O07ukoil2Ym+1dq1m3Zycc+820AfvP2tVQUef+7TM18dxfHffzwxBDAkvrRloq2jdv5vc9+h846x2wDm9WkbeN2fvcz32b/2ppV2W5ERI7PN734rvIr51muDG5+N/DcSm1oppHHuvqyogykmdrcnHyHsbaurCRGrVjtbObkd9Babce5xGT+pai50kal3YzRIKxvWD35hs1GAyKkfe9YygwiWEwG1tYXZyv4lbJ6z8RrKKWOi0hIRA4DJ5RSR1ZqW7dtqGP/uppVUy11S1cdeztLb38WS+pQqhwWEx+7c/1VI8asRg6LiQdv7SSeUKtqX2vKLPzOodX7/dWXW/lvr+0q+SxbmVrxYCoif5ju70qpv1vpMszZVtruMLlUaoFnMattf0rdar0QX0tkdTQau9Zq//5utEAK+XkynanL2ATsBX6Y+v0twIo9HWqapmlavqx4MFVK/W8AEXkKuEkp5U39/r+ApSd31TRN07Qilc+6hkauHgw8kpqmaZqmaSUtnw2Q/g04IiLfS/1+L/CVPG5f0zRN01ZE3oKpUuqvReQnwO2pSQ8qpV7M1/Y1TdM0baXku0mZA/AopT4NDIjI8hNGapqmaVqB5S2YishfAH8C/Glqkhn4ar62r2mapmkrJZ9PpvcBbwX8AEqpIa50m9E0TdO0kpXPYBpRyaz6CkBEbqxcU5qmadqqlc9g+p8i8jBQJSK/RXIYtC/lcfuapmmatiLy0ppXkgPUfRPYDHhIZkP6n0qpR9MuqGmapmklIC/BVCmlROTHSqkdXBmgW9M0TdNWhXxW8x4Xkb1LnVlEOkVkVESeFJGfp6b9sYg8LSJfExHzcqdpmqZpWi5kFExF5KZ0P4ssvh94TkQuishJEXlZRE4ussyjSqk7lFKvF5EG4JBS6jbgJHDvcqZlst+apmmalk6m1bx/m+ZvCrgzzd/fkOG2AA6lxh/9LvAq8GRq+mPA/SS72WQ77VtZlEfTNE3TrpNRMFVKHcp2Q0qpXhG5DdiglPoXEakHnGkWGQY2AmHgByT7pI6l/uYGqlI/niynXUdEHgIeAmhvb89wDzVN07QbVdYNkERkO7AVsM1MU0r9W5r5/wLoJtmS91+4kgHp1vnmV0qFSQZSROQRksFwTerPFcA0ycDYmuW0+bb5ReCLAN3d3WqhfdE0TdO0ubJqgJQKjJ9N/RwC/oZkdqN0MsqAJCJz/3YrcAF4ber3u4HngBeWMU3TNE3TciLb1rzvAO4CRpRSDwK7gMpFlsk0A9LtInJMRJ4BBpVSzwNPicjTwG7g+0qpsWynZbPTmqZpmjafbKt5g0qphIjERKSC5LvMtkWWuTYD0m+QJgOSUurHwI+vmfZJ4JO5mqZpmqZpuZBtMD0qIlUkg+ExwAc8m24BpdT/EZHXoTMgaZqmaatMVsFUKfWR1H//UUR+ClQopdL2GRWRPwS+qQOopmmattpk2wDpFzP/V0r1KKVOzp22gHLg5yJyWER+R0Qas9m2pmmaphWbTDMg2USkBqgTkWoRqUn9dHKl28q8lFL/Wym1Dfgo0Az8UkQey7LcmqZpmlY0Mq3m/TDw+0ALcHzOdA/wuSWuYwwYASaBhgy3r2mapmlFJ9MMSJ8GPi0iH1NKfTaTZUXkI8C7gHqSqfx+Syn1Sibr0DRN07RilG1r3odF5HeB16R+fxJ4WCkVTbNMG/D7SqkTWW5z1TjWO8XAVIAD62pprLAtvsAN5vyol1eGPWxfU0lXfbqMk1q2jvW6GJgKcnBdLQ36GFxx/a4Ax/umVu3xfGrQzcVxHze1Vxe6KDmjlOLZS5NM+iLcvqGOKocl7fzZBtPPk0wH+PnU7+8HvgB8KE3B/lREdonI76QmHVZKvZTl9kuWOxDlqXPjAISjCd61d7HuuTeen50eIRpXDE2H+O07VufFp5CmAxGeOjcBQCSW4J3d+hhcab84M8pUIMrlCX+hi5JzoWicx86MohRMB9I9T5WWIXeI5y+5ADAahDfvaE47f6YNkGaC716l1K8rpR5P/TwIpB2rNPUk+zWS70kbgK+KyMcy2f5qYLMYKLclP8b6cmuBS1Oc6pzJz0V/PivDZjbitCaPwTr9GedFfXny6b96kaebUmQxGmb3azWdsxU2E1ZzMkTOXJPSyfTJ9AhwExAXkS6l1EUAEVkHxBdZ9kPAfqWUP7XMJ0kmesjo3Wups5qM3L+/g6lAhOZKXb02n7ff1Mq4L0zDKjoxi4nNbOSBA/oYzKc3bm9id3sVtWWWVXfBMxiEd+9tw+WP0FRh438WukA5Um4z84GDnfhCMZqWcJ5kGkwl9e8fAU+IyKXU753Ag0tYdm7Ajc9Z36p0rNfFiDvMwa5aasqu3JHaLUbsFnsBS3Y1XzjG0+fHcVrN3Lq+FpHCfi0Wk4E1VcXz+awWF8d9vDLkYVtLBevqnUV1DBYTfzjG4fMTlFmN3NpVh8Gw/PPBaJAVPabjCcXTFyYIReO8ZkM9dotxxbY1H5vZSMs1+zfuDfP85UnWVNnZU6LvUp1W02wtzmIyDab1qUxGAA8DM99YHNgDPJFm2X8BnheR76V+vxf4pwy3XzLGveHZ91KxRIK37U7bDbegXrjs4sywF4DmKtuqbSRxo/vpqREisQT9UwE+csf6QhenaL3Q4+LMcHL44+ZKG+sbFhzcqmicG/VyvHcKgDKLids21BW4RPDLc+P0uwKcH/Wxtq5s0QY8pS7TDEhGkgN6l5MMxJL6MZFmODUApdTfkXx6daV+HlRK/X2mBS4VZVYjNnPyXmPuU2kxmimfySBU2c0FLo22UmpT33Ndma4+T6c29fmYDEKlvbjP3RnVDguGVI1SrbM4yjxzvDksV66Fq1mmT6bDSqm/zGZDInIAOK2UOp76vUJE9qeGVlt1HBYT7z/YgTsYpeWa+vZoPMHZYS81TktRVGfuaquiscKG3Wyk0lG6wbTfFcAdjLK5qfifJArh7Te1MuoJXdUda8wbYng6xKam8hvigrcUO1oraaiw0j8VwB2MlESjmqZKGx842EE0nshJV6d4QnFm2EOl3UxbjSOrddyxqZ4NjU6qHZaSP7aWcm3J9p1pNr5AsvHSDN8800pKPKFw+SPUlFkwzvNeZaH69qfOjXNywI1BhA8c7KC6CJ5c071gjycUk/4wtWXWefezGEz4wnzn+ABKwaQ/UujiFEw0nmA6EKW2zHLduz6LyXDVhTEUjfOtowNEYgl6Jv1F/Soi38a9YX52agSLycDbdq9hY2Nhb9AmfGHKbSaspoWDUi6vI89cnOBozxQi8L797TSUZx6gRYTW6usDcSgaJxCJF32N3YylXlsyDaZ3LaNMkhocHIDUeKjZ9nMtCt97cZB+V4DOOgf37Wld8nKxRPJjUCjiVz6SovWDE4P0TgboqHXw9puWvp/5FE8oZj7KWDxR2MIUiFKKb77Qz7g3zJbmCt64vWmR+ZOfG0A0XvzHYT4d653i5IAbi8nA67YUdkyOw+fHOdozRYXdzPsPdGAxZTU+SUZiqeNh7jGSC75wjK8+10swEuc1G+u5uaP4GyYt9dqSaTpB1zLKdCnV1/QLqd8/AlxKM3/RG3EHARiaDmW03Gs31lNpN1PntCyp/1KhDbtDV/1bjBorbNyzsxmXP8Ke9qpCF6cgIvEEE74wAMOpYzMdu8XIfXvW0D8VYMeaypUuXkmxm4101DoQkayrOXNlOHV98QSj+MMxLKaVf6K7ZX0tDouRKoeF5srcvYqaDkQIRpKdOkaK+Hoy11KvLfl8MvxvwGeAPwcU8AvgoTxuP+fu3NzI6SE3O1ozuxDZzEYOrKtdoVLl3p2bGzg16GZ7kV9wl1IV1/nxHy1rGz2fuGdZy68kq8nIHZsaOD/qpbuzZknLtNU4Ch4sitHtG5NdYlqqbNQW+Ib3tg11PHMx2cUkX6+ErCYj+1fgGpXsJlOFyx/hwLqlHaPFYCnXlrwFU6XUGPCefG0vH7a2VLC+wcnpITf9rkDRX5TiCYUvHKMywxa7W5or2NJcseDfL0/48QSjbGupwGQ0oJTCE4pRbjXlpI+etnS726rY3VbFlD/CsV4XXfXOkumS4AvHsBhXvgpzKZor7bzj5uxeacTiCYLROOW2K+fZpC9Mz6Q/q242LVVXl8UfjmEyCuFYgvOjXjpqy4q6hisUjaNUsiZERLhj0+KDhSUSitNDHmxmAxsK/L56qfIWTEVkI8kq3kal1HYR2Qm8VSn1V/kqw0p48tUxTg95iqox0XyUUnzraD/D7hC723JXDTriDvH9FwcB8ISi3L6hnkdODnNhzEdXg5O37mrJ2ba0pfvO8QG8oRgv9bv5jdvWFro4izo16OaxM6NL7iBfrCKxBF9/vpepQJRb19exb20NSim+fWyAQCTOK0OeZa3//KiXH708jM1sxGgQfKEYdssUD92+rihvXEc9Ib51tB+l4L6b1szbIGk+x/umOHw+2U//3j0G1taVrWQxcyKft4FfAv4UiAIopU6yCp5U1ey/imJuwhGOJWbfefZM5i7Z9ty9nnlJ35taf+8qTOpdaor5mJyrdzKAUuANxQpdlGXxhKJMpZK99845z9Q1/2arz5X8nIKRON5gcjvF3IZxcDpINK6IJRSDU4u/x58xd5dUMe/gHPm8DXQopY5ck6qutM8ckn2pasuSDYmKuam3zWzkYFctF8d97Ous4R9ytN7mSjtv2dWMOxhjZ+rd8Ws21nNywD37u5Z/9+1Zw8VxP+sbSiOb1d7OajyhaFGfQ0tRW2Zhd3sVw9Oh2XYRIsKv3dTK5Qk/GxudfGYZ69/TXs2kL0KZ1cT+dTVcGvfTWecoyqdSgC1NFfRNBognFNsyaHNxU3s1ZqMBq8nAuhLJyJbPYDohIl2kbjpE5B3AcB63nxFF8h3OYtVOVpNxyY09Cu3AutrZE3zm7jYXOTyvfQ+0s7WKna03ZovafInEEsQSCRyW+Y/PWqe14A1nMtFQYeO9+9oB+B+ANxTFaTUVPE90pkSEQ/O8E6wvt86b/CEWTxCKJZZcvV1TZrlq2MZifFc699pptxi5d0/m/ZeNBsnp66h8yGcw/SjwRWCziAwCl4H787j9jEz6wnzpqUvc1FFNW7WdtXVlJXdipzPhC/OFJy/Q3VlNd2fNghdlrXDma3nc84l7iCcU//yry4SjCe7YVEeZ1UxHrQNzkTTeWa7pQIQvH77MluYKtjZXYDMbVuUA5qFonP840sd0IMprN9WXxMDaE74wvlBsttvQfFypa+drNtZxc8fSHzSWsu5ils/WvJeAu0WkjOS72gDJd6a9+SpDJuIJRTgW55tH+tjQWM7NHdW8ZmN9oYuVMwmleGXYQ58rwOWJAL9+S2ehi6QtUSyuCEbiJJTiq8/10VJlZ32Dk7esksZe4ViyY/xzlyY4M+xBBN69ty2n/R2LwXQgOjuYdu+kv+iDqcsf4evP9xFPKG7pql2w68xMUpqeicCSg+mkLzy77pmGW6VmxW9lUzl4/1REPiciryMZRH8duAC8a6W3ny2rycArgx56JvycGfbgXkUjyEOyKsYdjNJYbuXVUS+ffuwcj5wcKpmX/Tcyi9nAhkYnsXiCE/1TPHtxgn5XoNDFyplym4mZB5NJXxilwHdNwyR3MMo/P32Zh395kTFPaXT+v1ZjhZUda5J5gG9ur+bMsIcxb+72xR2IcnJgGl84Riye4FtH+/nc4+c5O5Jdi2J/ODabDSldQzG72Ug8oVjf4CSeUJwecjM4nb7xUSASn7Pu66+1Pz89wmd+cZ5nLk5kVfZ8yEe90L8Dm4CXgd8iOUzbO4H7lFJvy8P2Z4nIp0TksIh8erF5feE4fVMBxnxhorEYu9qSL8+j8QSeeb7sUhMIx/CFYnjCMeqdFhIKTva7ZzPozMcdjOY0tZiWHQEObWrghZ4ppgNR+qYCzM0wF4jECEXjCy5f7AxiYNwb5qUBN0PTQZoqbdc1pDrZP82rIx6mAxHOj/kKVNLlSfa5rGf/2lpODEzz01MjfPNI/1XBJByL4wsvHLgmfWH8C/z9W8f6+cWZMb734iAuf4SBqWTL2tOD2QXTthoHr9lYz662Sm5Zv3BCh5kb9SfOjvHYmVF+fnqUbx8dYHKea0ssdT1NrruO3W1VHOy6su5xbxhvKMrpIQ/xhOLUoDursudDPqp51ymldgCIyJdJNjpqV0rl9XZSRG4CnEqp20XkCyKyVyn1wkLzJ5QiEInhDcUY80aIxBOEY3G+/nzyHcftG+pKpuHRfOIJhScUZdwT5q27WvjpqREmfGG+8UI/79vXfl3jlafOjXOsd4qGCivv2dtetAnvbxSxRAKjQYjGFf5InOcuu7i500VDuY3vvTiI0SC88+bWknzXmFCKcyNexjwhKmwmNjaWX/UObcof4ZGTQzx3yUW1w1K0+aKX4tFXRjk74qVn0k9btR0Rw2yeZE8oyn8830cwGueN25vY3HR14pSXB5J9cy0mA/fvb78qOYdSanY9kViCWqeVjloHI55Qxhnb5lpKLl1vKMa5US9lVtNs/9CEUrPVvzMisQT/caQPlz8yb7Xxsd4pnjo3js1sZGOjk57JALuKuGFjPoLp7G2WUiouIgP5DqQpB4BHU/9/DDgIXBVMReQhUikOW1rbaKqwUVumqC6z4g/HcQfnvuMIlHQwdVhNrG9wsrGpnA2N5YRiCU70TROLKyb9keuCaW+qGnHMEyYYjZd85/pSV2m38NFDXfz9Y+eJJxSJBHiCMSKxIPGEIp5QDLlDJRlMrSYD7bUOyu1m1taVXdeqMxCNE4wmaKq0UV9upQTbqsyaqS5dU2VnZ1sVHTVls92Dxr1hAqk8tn2TgeuC6UiqejsSS+DyR64KpiLCfXvWcGHMx6amcowGydtNh9koNFfaqHNaecP2Jl7sm6a6zHzV0H+QrM51pUZh6XUFrgumo6n9C0Xj7Gyt4p6dxd0mIB9XxF0iMlOvIIA99bsASim1cJ663KriSmJ9N7Dt2hmUUl8k2eKY7u5u9ddv38EjLw2zvsHJ9jWVGCSZrm3YHWJ/CeWVnE9ThY33H+iksSJ50Hd3VOMLxXBYjHTN06/r1q5anr00jmMJJQAAIABJREFUydraMh1Ii8RrNjZQabfw2JlRWqvtHFhXSyyRYGg6iMkoJTuuq9GQ6pc56efgutrrakHWVNl5Z3crT5+fYFdbFWvrSqMf4nzu3trIsd4p2mrs1wXLjhoHm5vK8YSi8z4R7ltbk0pbaKKz9voMQU2VtrRDK66UaoeFN+9oZktzxWz/9vnUOq3saa9iaDrEwXkaMx1YV0s0nqDaYaG1uvgbn8mN0uBERD4KjCul/lNE3g60KqUW7D9dV1enOjs781a+laYUjPvCKKUwGw14xodYqf2b8IWJJxQGg1BfoH5wPT09C+5fKJrAHUzeETttJspKrFtQun1bDUp5/+IJNdvuwGoyUuW4Pg/2cvbPF47NviOtdljyMhxbpubuXzAax5PK1FRuM+PIQb/2Qjt27JhSSl33wZfWVWR5ngU+DPwncDfwr+lm7uzs5OjRo3koVn7E4gm+/PRlgpE4bTUOPvHhe1ds//71V5eZCkSpdpj54K2FyQvb3d294P5dnvDP5hO+c3MDu0qsc3i6fVsNSnn//OEY//Kry0Tjii3N5bxxe/N18yxn/56/NMkzFyeLurvQ3P07P+rlkZPJ3Dyv39bItpbSz4omIsfnm37DBFOl1HERCYnIYeCEUupIocuUTyajgXd3tzE4HWR9g5NPrOC2fu3mVnomkoOmF6O1dWXct2cN0XiiZNLtzWehpA5a4ZRZTbxrbxtjnvCShu3K1N7OGiodZsospqIMpNfa0FjO23YLCaWyGjGnlNwwwRRAKfV7hS5DIVWXWfIyqk25zbysFoP50FkCo1Bopamh3EZD+cq8qzQY5Lp3q8WuVHLrLlfxVbhrmqZpWonRwVTTNE3TlkkHU03TNE1bpqIIpiKyX0SeEZGnReRTqWl/nPr9ayJiXolpmqZpmpYLRRFMSY4cc6dS6jagQUReCxxK/X4SuFdEGnI5Le97qGn/P3tvHibXUR56/97eu6d79k2zabRvtnZLlrxvYHbbGDA2BHzZEggXkpvkQp57w0eS+z1AQgKEj803kAVCDMQQVgdv8oK8SbIsW9YujTT7Pt0zvXef+v44PeORNEtr5sz0ovo9Tz8zXV1d560+59R7qupdNBpN0ZIXylQp1TMpxGASMzrRnsz78dB/2y0u02g0Go3GEvJCmY4jIhuBGmAEGA9BGMQMBVhucdlUx/+oiOwTkX39/f0W9Uqj0Wg0xU7eKFMRqQS+DnwIU+GNO1OVYipXq8suQin1HaXUdqXU9pqa4kkErtFoNJqFJS+UqYg4gO8Df6KU6sHM5nJD5uNbgecWoEyj0Wg0GkvIC2WKmSz8KuBLIrIHWAE8JSLPAJuBnyml+qwsW+T+aTQajaaIySqcoIhcC6xSSn1PRGowk2yfyeJ7tkzdGVO7K6V+CPzwguJngS9eUO+LVpZpNBqNRmMFs85MReRzwP8EPpspcmIuyU5X/99EpFRESoBXgddE5E+tEFaj0Wg0mnwkm2XeO4G3A2EApVQXMFP4//WZmegdwG+AZcD75ymnRqPRaDR5SzbKNKHMDOIKIDPjnAlnJsLQHcDPlVLJ8e9qNBqNRlOMZKNMfyQi3wbKReQjmEEPHpih/reBNqAE0+hnKa/7eGo0Go1GU3TMaoCklPpbEbkNUyGuAf5CKfXIDPW/BnxtUtFZEblp3pJqNBqNRpOnzKpMReSPgQdnUqAX1K8D/l+gQSn1JhFZjxm+7x/nJalGo9FoNHlKNsu8AeC3IvK0iPxhRlnOxD8B/wU0ZN4fBz49dxE1Go1Go8lvZlWmSqnPK6U2AJ8AlgBPisijM3ylWin1I8DIfD8FpK0QVqPRaDSafORSIiD1AT3AIFA7Q72wiFTxuvXv1ZixcTUajUajKUqy2TP9OPBuzGwuPwY+opR6bYav/DHwc2CFiPwu8727LZBVo9FoNJq8JJtwgs3Ap5VSB7NpUCl1IJPcew0gwLGMr6lGo9FoNEXJtMu8IjKesuxvgHMiUjn5NcP33gV4lVKHMQM3PCgiWy2VWqPRaDSaPGKmPdN/y/zdD+zL/N0/6f10/G+l1GgmOP4tmC4x37RAVo1Go9Fo8pJpl3mVUm/N/F12iW2OW+6+BXhAKfUrEfnrOcqn0Wg0Gk3ek03WmMeyKZtEZyb84HuAX4uIO5vjaDQajUZTqEw7MxURD+ADqkWkAtOYCKAUaJyhzXcDtwN/q5QaEZElgE7BptFoNJqiZSZr3o9hRi5qwNwnHVemIeDr031JKRUBHhKRWhFpyRQftUBWjUaj0Wjykpn2TL8KfFVEPqmU+odsGxSRtwNfxlTCfUALpjLdME9ZNRqNRqPJS7LxMzVEpFwpNQKQWfJ9r1LqG9PU/yvgauBRpdSWTMaY91kjbnFwsm+U/zrcS7XfxZ1bmnA59JbyfImn0jx0oJOhcII3X7lkTm3sOdbHoY4gm5rLuWF1jcUSagqJgbE4Pz3QiQjcva2Jcp8r1yItKmcHw/zyUDflPifv3NqEx2nPtUg5I9uxJZtR/CPjihRAKTUMfGSG+kml1CBgExGbUuoJYHu2gl8OHO4KkUgZdI3E6B+L51qcoqAnGKMnGCORMnita27pc1/pCJI2FK90jMxeWVPUnOobYyyeYjSW4lR/ONfiLDqvZcaovlCc7mAs1+LklGzHlmxmpnYREaXUeKxdOzDTY9qIiPiBp4AfiEgfcPldjdOQNhTdwRj7zw6xdWkFtQF3rkXKOx4/2ssrHSG2tJRzfZYzxPoyD0vKPAxHkmxoKJ39C1OwqbmcQx0jbGouv+iz/tE4P32pA5sI79zaREVJfs5UWj/zq4vK2r7wlhxIUtisrPXzSmcQmwgrakrm3d4LZ4Z49tQgq+r8Fki38GxoKKNtMEK5z0lDuWfW+r861M3JvjF2r6xaBOkWh3gqzX/s76RvNIbdBk67fcaxJRtl+jBmFKNvZ95/DPjNhZVEZCVQB7wDiAJ/BNwHLAU+eWndKF5C0STRRJptSytZUubBaddLvBfySkcIQyle6QxmrUzdDjv37GiZveIMXL+6ZtrjneofIxw3XajPDIbzVplqrKHK7+bD1y23rL1XO4MYSnGsZ9SyNheSlioff3DjiqzqxpJpjvea/Xq1s3hymvSF4vSGzFn5sho/b9vUMGP9bEby/wk8Dvx+5vUK4J2i3leAkFIqrJQylFIppdQ/Az8F/p+se1BEjMVTdI5EyUzqASjzOllR68fttLGx6eIZUK7oCcYIRvIjhPKWlnJcDhtbWnL7+/QEYwSj5m+yui5AmddJZYmLFTWFMbvQzJ3ekLX3w6Zm85qe66pJNgyHE/SFFn9J1uM0Z2wuh+28VR2lFB3DEcLx1KLLZAV1pR6aKrx4XXaubCybtf6sM1OllCEizwMrMH1Iq4H/mOrYSqlXpvj+KyLSOqskRUYkkeL7z50lmkhzVWsl166qBsBmE94+yxPOYnOoY4THjvThsAn37myhyp/bpeeZZoiLxcH2EZ442ofTLty7cymVJS7+27WXGgxMU4i82hnkkdd6cdiEe3a0UGPBVsy2pRVsW1oBwJ/Pu7WL6QnG+NG+dtKG4vYr6lm3ZOGU9lS8YUM9b7jAX2PP8X4OnhuhxG3n93a1FpwRk8th413bm7OuP1PQhtXAezOvAeBBAKXUTdN8ZaZpxFQz2aImHE8TTZjLgoPh/DYyGhxLAJAyFCPRZM6VaT4wmDEMS6YVwWiSSr2se9kwkDn3KUMRjCYsUaYLzXAkQdowV8DG7+dcMy5HOJ4mlkwXnDK9VGaamR4FngbeqpQ6CSAifzRD/X0i8hGl1AOTC0Xkw5hBHy4ragJurltVTU8oxq7l+b0pf9WySuKpNCVuB8ur529sUQzsWFZJImUQ8DhprfLlWhzNInJVayWxZBqfy8Hy6sJY0l9dF6A3FCOeMiZmwLnmhtU1PHd6kMYK72XhWjSTMr0LuAd4QkQeBv6d16MgTcWngZ+KyH28rjy3Y1r+3mmBrAXH9tZpM9XlFX63g9uvmJtvZrES8Dh50xz9VQsFbfk7NSUFeD/YbcKNa2pzLcZ51ATcsxrtFBPTGiAppX6mlLoHWAs8gaksa0XkmyLyhinq9yqldgOfB9oyr88rpXYppXoWQvh8IG0ojnSHcrLxny90jUQ51jOKYajZK+cJI5EEh7uCxJLp2StrNPMkFEtyuCtIJGGdMU40keZwV3DCSK6YUEpxsm+U9qFIrkXJmmwMkMKYuU3/LRP96F2YFr6/nab+E5jK97LgqeP9HGwfwW4TPrCrlTKfM9ciLSp9o6bhg1Kwc3klu1dU51qkWUkbigdfbCeSSNNcOcrd25pyLZKmiFFK8aMX2xmNpagrnd1nM1t+/nInXSMx/G4HH75uGSIzLRwWFgfbR9hzrB8wI1A1V+b/Vks2fqYTZKIffSfzuuwwDMV/He6hOxjjprW11JW6OdU/RjJtADaShpFrEReESCLFnmP9nB0Ms6Y+wM1r6yY+iycNxj1/4sn86f/gWIKHDnTw1o0NF4VrTBuKRMqUdXxm2j8aZySSYEWNH5uteAalQuWxI72cGQhz7apq1tYvrmUqQCptcHogTLXfbYnxWfyC6y0bEimDXx7qYiSSZO2SAOvqS8/zb45l7rdE2sBQYC+Qy7Z/NE4wmmBZVQmPHOmjcyTKjWtqznM5i00aSwpl9eiSlOnlzsBYnKMZp+v9Z4eJJFIMhROEEyneu6OF6iK1gv2P/R08drQPwbzIdyyrwu82L53mSh+3ra8jGE3mjeEDQMowODsY4dxQmJW1gfM+czlsvGNzI2cGw1zZWEYwmuTfXzhHylBsXVqh4/LmGEMpDnWYzv8vtg3nRJk+frSPw10hXA4b91/Tis8196FSRLhjSyMn+8ZYtyTAdEHNL6R9OMLZwQgn+8Y4cG6YdUtK+W/XLMPrMq1i33zlEl7rDrGipgR7gTwAjkQS/PCFc6QNxeo6P8d7xwDY3zZ8njLd3mqOJW6njZW1hWEEppXpJVBR4qIm4GZgLM7qOj+/OzmI026jocybkxt+sQgn0lSXuOkORWmq8OK7wMT9iiwcmhcbESHgcVBfNrVXVkuVj5aMlW5fKEYqs98bKVAH82LCJkJjhZfO4SirczSQhjN7m8m0QTKlZg6gmgWN5V4ayy/NQ7C+1EOp10naUNQG3KYshoEX8/6rCbi5IVBYD36xpDHhwgNCXamHvtHYRWEWnXYbu1bktxfEhWhlOgujsSQigt/twGm3cd/OFlKGwmm3UeV3c6wnVLCKdCicwOeyz+r/9bZNDRzrCbG8xs/SSl9B7M1Ulbi4e1vTxAx6JmpLPdy2vo7+sTg7CsQCu9h517Ymkmk1bUalWNL0XVwol4ub19Zx4OwwS8o9C24HMTgWJ+BxXtTXEreD+3e38o5NDbzSGaSh3EuppzBsMgbG4lT4XBfNmOvLPNy6ro7BcJyrWivxuewznudCQivTGXi1M8jXHz9BidvBp25ZRUtVCSKCM7M5MZenzXwhHE/xwFOniKcMPnrdcux2oXM4SqnXyfILwuUVYj97QzH+7pHjvHNrE16XjVQa1tYHpt0PzcfZtVVM5QKTa6aTadw1x7zP4Eh3CK/TTusk/+fRWJJ/fe4sp/vC7FpRxTsXwICszOvkprUL72ry5PF+DpwdpsLn5L6rl14Uq9tmE6oD7illSRuK17pCBDyO836f6Yin0oTj6XntAbcPRQhGk6xbUjrt0vJIJMG/PnuWZdUl3LGl8aLPr2w6/15zOWSi7VAsydp6s+1U2uC17hAVPhdLyjwEo0kqfK68tWmwTJmKSAkQzYQfXI3pUvMbpVRB2m0n0wZ/9OBLdA5H8DgdrKz18wc3rsy1WJYRiiV58lg/JW47/+c3R3Db7QyG41zZWMa7tjcXhPXcTMSSBk8c7eX5U4NU+11saqlgNFbDzjwPoKExebUzyJPH++gajlLld593TQ6Hk7zaEeRQR5CXO0ZorPBydYGe166RKGAa5ew9NUBrVQlLq7ILnPLc6UFeODMEwHt3tFBfdr6lcDCS5OxQmGXVJTjtNr7/3FlGYyl2r6ia033QNxrjPw50oBSMRJITIVIvJJ4y6ByJEkmkeNumBo72hCj3uWZ8IO8Lnd/2NSurefrkAAfPjSACAbeDUCzFmvrAnPMVLzRWzq2fAjwi0ojpNvN+4J8sbH/eiMjfi8jTIvLV2ep2B2P0hGIk0oBSVBRZBI9wPE1XKErSUMQSBoYyiCTSpA2FoQrHX3RaBIbCSfrH4pwbjjISTjKcJ4H8NTMTSaT57jNn+MXBLl7uCNI/GieRft26s6nCS6XfhcthI+Bx0BOM5lDa+bG1pZwStx2Xw8aBsyP87KUuRiLZhQNMT/LrTk9xz/54fzuPHenjZwe7CMWSjMbMfeDOkbn9Xqm0mrDcT6ant9wXoCdoKtPfvtbDbw/38pN9HRMhOqciaVzc9rjfumEoejJ+/J3D+XuurVzmFaVUREQ+BHxDKfUlETloYfvzQkS2An6l1HWZwBNXKaVenK5+PGXgcdhx2Gy87+qWKZcrpuNU/xj724ZZVednS0v+WLhOJmUoPA47y6pKuO/qpZzoHWOrUmxbWnHRk/GZgTAvnhliRa0/ryx2Z6Lc66S5wksibVBX6iFhGLzWHWRjUxkNBbZkDeYe4SOv9eZajEUhFEtyvHeUeNrA47RjKEXlpIdZm0347JvW8d3fncFhE25dX59DaS+dsViKH+9r56rWSp441k80kWayGYLMGGjudXatqMLnshPwOC+a9SmlSKZNZZRIGdQGPGxvraAnGJuzL3hDuZc3XVnPSCQ5Y0ansXiK7mCMyhI3qXHFqNSEkd9UNJZ7uf2KekLRJJszbV+7qpqAx0lliZNwPM2xntGcZ5KaCUuVqYjswsxh+qFMWT5FNr4aeCTz/6PALmBaZVrisrOuoZSrllbyyVtWXdKB9hzrJxRN0hWMsqGhLC83170uO1c0lnHHlka2t1bOGPrwyWN9DEeSdI5E2dBQWhABqytLXPzRG9YwMBqnscLLS+dGANPoqhCV6audQU72jeVajEXBBmxsKqM3FKPC56K21MOLbUO8YcPrSrPE7eCTN1/afZkvhBMpOoajRBL9E8kwmiq8LK/xU+N3Z23w5LTbpr1vRYQ7M+44a+pN17DrVs3f8jdbY0u3w0ap18Ft6+up9o9QUeKcNWDFhZlu3A47O5a93r/J6d3yESuV6aeBzwI/VUodFpHl5FckpHLgdOb/ILDhwgoi8lHgowD1DU3cva2Za+Zgnt1Y7iUUTVIb8EwYK+UblT4nd29rYsey2fvXUO5lOJKkttSNq4CSmb8xM/ialp8GTrtMDCyFRn2Zp2B8CedLqdfJzuVVLKsu4XcnB4kl0wX5ADQd4+dxfUMphqHoHY1zzYoqy7M11Zd5LtpHXQzcDjutVSXctaUJj9NecC4uc0WUxftjIuJTSuVdQEUR+QTQr5T6kYjcBTQppb42Xf3q6mrV2to6a7uxZJpQNIXdLlT6XMzmNaKUmZItbShK3I6sXDcWgra2NrLp32wYSjEUTmAo0wLSbcEsfDiSIJEycDvslM/RLWG2/o1EkhOZcrI5B4mUwUgkCQIVPudFVpeLSTbnLhRNEk2m8brsF7lT5Ms1OB1WXZv5ilX9G42liCRSeJx2yry5dZkZCidIpg28TjtDvZ3z7l8ibd5vNmFKF5vFwFCKwbEEhlIEPE58mWAZ+/fvV0qpiwYAK615dwH/CPiBFhHZBHxMKfVxq44xT54FPgb8CLiVWYyjWltb2bdv36yN/ufBTk73hwF4z1XNsz5Bj0QSfO93bQA0lHt4z1Uts0u+AGzfvj2r/s3Gqf4xfn6wCzCXaW6/Yv77V1977ARpQ+F22vj4HC2oZ+pfLJnmm3tOAeYDQDZJv58/PcjeU4MA3LimJqd74dmcu/Hf0GkX/vCC5dDhcIJ/2tsGQGOFl3dfQgLkxcCqazNfsap/Dzx1mrFMkJFP3rwSR44e8CbfTxU+J1//1Lvm3b9xlyGA29bX5cR1rWM4wo/3dQBmiru3bDStiEXkwFT1rfz1vwK8ERgEUEq9DFxvYfvzQil1AIiJyNNAWin1ghXtbm4up9TrZEWtP6sg1uU+F1cvr6Kpwsu1Fuxh5JrmCh9Lq3yU+5xsarbmgr9lXS2NFV5umRQD2Eo8TjubW8oJeBxclWWQho1N5ays9bOmPnDR3k4+snNZJQGPY8pl/IqSSdfgyvxPTKCZmu2tFQQ8Dra3VuRMkYJ5P92wpoamCi83WJQGbkNDKVV+Fw3lnvPCDC4mjeVetrSU01LpY+fy2ccJS9d3lFLtF0THyasIxUqpT1nd5tKqEj6UxcxmMuYeQnHsI7gcNu7aaq3T/IaGMjY0LOyT6E1rarnpEm58r8teULkZdy6f2Zcw36/B2YI6aGBLS0XeeAtsbalgq4WyVPvd/N6uVsvamwsil5Yj1srHmXYR2Q0oEXGKyJ8ARyxsX2MBi5VzNN9zmyqlsNpeQDM/8v2ayRcK7Xe6XO41K2emvw98FWgEOjEDN3zCwvY180ApxS8OdXO6f4xdCxwt5vGjvbzcbvp03rJuYZZq50MwkuTH+9tJpA3u2tKUE4tHzfmc7BvlN6/0UG5BurNi5txghF8c6sLnsvPu7c2U5Jnx2IUMhRP8ZH87hoK7tjZSGyjee82ymalSakApdZ9Sqk4pVauUep9SatCq9jXzI54yONU3hlLwWndoQY/1WlfovL/5xtmhMKOxFPGkcdn4buY7R3tGSRmKgdHpo+Ro4Hjv6IRledccIxktJmcGwoTjaaKJ9IShZrFimTIVkS+JSGlmifcxEekXkfdZ1b5mfnicdq5sLMPrslu6tzEVW5dW4HXZ8zZa0vIaPzUBN+U+J2uXFKbfabGxsbEcv9tR8DGhF5oNjaUEPA4ayj0F8VutrPVT7XdRWeJiTV1x32tWrhG8QSn1ZyJyJ9AG3IUZr/f7Fh5DMw9uXV/HrSz8suvuFdVzDlm2GPjdDt539dJci6GZREuVj49cvxyAL+RYlnxmSZmXD1+3PNdiZE2Z18n7c2xItFhYaYA0rpjfAvxYKRW0sG2NRqPRaPIWK5XpL0XkKLANeExEaoCYhe0jIq0i0isie0Tkt5myPxWRZ0TkByLivJQyjUaj0WiswEoDpM8Au4HtmRymYeAdVrU/iUeUUjcqpd4gIrXATUqpa4FDwB3Zli2AXBqNRqO5TLHarroBuFVEJts//4vFx7gpE8XoIeAYsCdT/ihmxppwlmU/tlgujUaj0VymWBmb93PAjcB64NfAm4BnsFaZdgOrgTjwn0AA6Mt8FsTMDFMOhLIom6oPE1ljWlpyEzNXo9FoNIWHlXumdwO3AD1KqfuBTYClMeGUUnGlVFgplQJ+CZwCxgOllgIjmMoym7Kp2v+OUmq7Ump7TU3hx83VaDQazeJgpTKNKqUMICUipZgzRkvTUYjIZEela4CTwA2Z97cCz2Em/M6mTKPRaDQaS7BSme4TkXLgAWA/cAAz7ZmVXCci+0VkL9CplHoeeEpEngE2Az9TSvVlU2axXBqNRqO5jLFsz3RS3tJvicjDQKlS6pBV7WeO8WvM/djJZV8EvjiXMo1Go9ForGDeM1MReaOI3D25TCnVBqwWkdvm236xEk+lCy77Q76TNhTx1Pyy/sWSeZU1cMFRSl12fdZkRzyVJq3HKCC7scWKmelfMLXf5h7gF8AjFhwjLznUMcKrnSE2NpVNmwleKcUFOV55tTPIo0d6Kfc6uWdHCx6nfTHEnZGp5BznlY4ghzpH2NhYzpVNi5/xPhuiiTQ/fOEco7EUb7zi0kImKqV47EgfTxzrw+O0c1VrBbdfsWTG3yRfebFtiBO9Y1zVWsGqKWKhTu5T2lD8ZH87XSMxdq+YOf+pJne0D0V45uQAjeVerl89s2GkVdfs8V4zi4/f4+C9O5rxueamKi6UxzAUjx3tYygc56Y1tdSW5n8WmWzHFiv2TN1Kqf4LC5VSA0CJBe3nLU8e66c3FOPJ4xd1n2Ta4EcvtvMPj5/kyAVZWk71m9lbhiNJBsOJxRJ3WtqHInxjzyn+eW8bkUTqos+fPN5HXyjOk8f7pvh2ftA/GicYTWIoxam+S8tO0RWM8UpnkNP9Y3QORznZN8bZwTDf2HOKf3m2jWiiMGZu8VSaZ04M0BuK8fSJgYs+f+JoH1977CR7jpnncSyeomvEDFJ2QmfPyVv2nhqgJxhj/9lhhqcZL0KxJN995gzfevI03cH5Z5M53T+GoRShaJLe0Nwy+bzaGeQfHj/JT/Z3TMxwO0eivNoZpGskxgttQ/OWczHIdmyxQpmWishFjy2ZkH1eC9rPW1qqzKwNU2VvGAon6ByJkjbURcp0a0sFlSUuVtcFqM+DJ7NjPWZap6Fwgs7hi2/E8f7lc5aKhnIPK2r9VPldbGmZ0o14Wip9LgIeB00VPhrLvexaUTXxmwyOmeexEHDZbSzJ5GZtmeJcvdIZxFCKVzvNsNllXiebmsso9znZuaxyUWXVZE9LpTknqSxx4fdMPUM8NxghGE0SS6Y53jv/B6PNzRVU+V0srymhuWJuw/hrXSHShqJ9KMJIxHwIqPK78GdysE51jeYj2Y4tVizzPgQ8ICJ/qJQKA4iIHzNR+EMWtJ+3vG1jA6OxFIEpLvBqv5vWah+9oTgbL1gaba708YHdrYsk5eysbyjlzEAYv2fqFFgz9TNfcNhtvH1Tw5y+63XZ+b1drcRSaUo9ZtjmjuEIZwcjGSVbGM+EIsK7tjczFktR6r34XG1tqeBQ5wibm14fEG5em3/J2zXns2tFFesbSvG57DjtU89/llWXUB1wE0+mWVc//1Rn9WUefm+e2V42NpcxGE7QWOGlwmcmffe5HHxg9/n3Wr6T7dhixej4v4C/Bs6KyNlMWQvwj8D/tqD9vMVwh9DRAAAgAElEQVRmE8p8U18Qdptw55amRZZobjSUeyfSX03FTP0sFlwOGy7H6wNVU4Vvxt8kX7HPcK6uXVXNtavyNzWeZnrKvDPffyVuB+/Ps7SCa+tLWVtfelH5hfdasTBvZZqJRvQZEfk8sDJTfFIpVRhrYxqNRqPRzBMr/UyjwCtWtafRaDQaTaFQfHNtjUaj0WgWGa1MNRqNRqOZJ/Ne5hWRrTN9rpQ6MN9jaDQaDUDrZ351UVnbF96yKMe5lGPN9/uawsOKPdMvz/CZAm624BgajUaj0eQtVljz3mSFIBqNRqPRFCqWeuGLyBXAemAirI9S6l+sPIZGo9FoNPmGZcpURD4H3IipTH8NvAl4BtDKVKPRaDRFjZXWvHcDtwA9Sqn7gU1AfqYY0Wg0Go3GQqxUplGllAGkRKQU6AOaLWxfo9FoNJq8xMo9030iUg48AOwHxoBnLWxfo9FoNJq8xMpwgh/P/PstEXkYKFVKHbKqfY1Go9Fo8hXLlnlF5E4RKQNQSrUB50TkDqva12g0Go0mX7Fyz/RzSqng+Bul1AjwOQvb12g0Go0mL7FSmU7VVv5mk9ZoNBqNxiKsVKb7ROTvRGRF5vV3mIZIGo1Go9EUNVYq008CCeDBzCsOfMLC9jUajUajyUustOYNA5+xqr18YP/ZIX55qJvtSyt4y8aGXIuzYLQNhNl7coBYKs3mlgq2tlTkWqR5MxZP8cjhHoYjCerKvFy/qhoRybVYlpJKG/zwhXOcG4pw786lLKsuybVImkUklkzzYtsQAY+Tzc3ls9Z/+kQ/PcEY162qob7MM2v9XBNJpHixbZiqEheGUhztHmVLSzmr6gK5Fm1KrEjB9hWl1KdF5BeYWWLOQyn19vkeI1d844lTnOwb4+nj/VzRWMbSquIZrOIpg+88dYq6Ug/D4QQH20foDsYYHEtQ5nWyosafaxHnxcBonC8/cpwrGkpprPCxpi5QEAPIpXCke5RfHOqifzTOS+dG+Id7t7CkzJtrsTSXwJHuEE8d76el0sftV9Rf0gPfs6cHOXhuBIBKn4uWKt+0dftGY+xrGwZg76kB7traND/BZ2AsnuJbT55iU1M5u1ZUzbmdp08M8FpXCKUU4UQKv9tJMJosXmUK/Gvm799a0FZeYbcJKcPA5XDQHYwVlTKNJlKE42lO94dprvDhctjwuew47ObfQsdQYBMYjaXwux2UeZ25Fsly6srcKAWJlIHLYePVzpBWpgXGgXPDRBJpjvaMsntFNWW+7K9Tn9O8T20ieFwz79iVepwEPA5GYykayxf2Gokk0kQTafafHZqXMh0fhxx2G43lXoLRFI0V+Xt9W5GCbdzIaLNS6quTPxORTwFPzvcYueKzb17LA0+fpi7gYVVtYc/ULsTjtGMToSbg5u2bl3DjmmoGwwkCHmdRDMg+l53rVtfwzi1NLK324XYU/gPChdQGPPzN3Rv5l2fPUup1FN01ejmwbkkp/aP9NFX4CHgubTjesaySKr8bv9tBbWDmVReP0877dy0lEk9TUeKaj8iz4nGain19Q+m82rlmRTX1pR7KfE4qfS6C0SQVvoWVfT5Y6bryAeCrF5R9cIqygmFZtZ//c8eVAEW33+Zx2vnkzSux2cx+VQfsVM9yQxYS9WUePnP72qI7bxfSWu3nL962AcNQE+dSUzhsbalgc1P5nM6diLDyEh6g3A77ojxUlnqcfOqWVfO+Hm02OW9Jt8rvnq9oC4oVe6bvBe4FlonIzyd9FACG5tt+rinmwbjYB99iPncXUuznspgpxnNXjH2aDStmpnuBbqAa+PKk8lHgso3NO76PVSwk0wZOe/H0pxBJG6/b9+nzUdgU+/lLGwr7ZaZQrdgzPQucBXbNX5z8QinFE8f66B+Nc+OaWupKs1sGffpEP/vahlleU8I7NjcusJRz50h3iIPtI6xfUsqmGUzr954c4PkzQ7RW+7hjc2NBzfhSaYNHXutlLJ7itvV1lOfxnstM9I3G+Mn+DgQhnEjx9cdP0ljhpbncS9tQhKuXV2nXmAJhMJzg/3viJLeuq+OKxsJJ+Zw2FI8d6WUkmuTmtbVUT7Ps2j8a51tPnuLOLY00ZGnslDYUjx7pJRhNcsva2rxf0p0KK5Z5n1FKXSsio5zvGiOAUkrNbxc6R4TjKb7wm6N0B2Msqy7hudODvGNzI6FYkuFwguYK37RLGcd6RgE43R/O2xnq4FiCv/mvYyyvLqEvFGdjU9m0SvJozyiGUhw8N8L1q2oK4kKPpwz+79On6QnFSKUVZV4nB84Nc/PaulyLNifODkaIJw0A4kkDpRSPHO4lGEuwotpPKm1MKNOeYAybjVmNUjS5IZU2UApO9I3OqkyHwgnC8RTNldO7vUzHnmN9HO4KsaWlnN0rqucq7gTtQxEOd4UA2Nc2zO1X1E9Zz1CKRMqgbcAc/x4+3EOFz8mdW5ouGgtHY0mGwgmSaYPXxts+O8wbN0zddj5jxcz02szf/HT+mYSI/D2wHTiglPrUTHWHIwn2nhwgZRi0VvlorvQRSaT4/nNniScNNreUc9Oa2im/u2NZJS+cGWJ1XSAvFSlAMJrgTP8Ybrtw6/qZ/dt2LKvke787Q8pQPHSgkw9e05r3S1QDY3F+8PxZKktcVJW4SBuFrVhW1wU43juKIPhcdsKJFJ0jEaKJFGlD8YbMwHa8d5RfHepGBN65tWlOg7BmYfE47ZR6nWxprqAnGGNgLI7DJuw53k99qYe3bWrAbhMGx+L82/PnSBmK61dXs21pZdbHUEpxsH0EpeBg+4glyrTK78LnshNNpmmawUXFUPD8mUGq/E4GwwmiGVeZnmDsPF/YWDLND54/RzSRZmVtCV6XndgsbeczlljziogdOKyUWmtFewuBiGwF/Eqp60TkmyJylVLqxenqx5IGQ5EES8q83Hv1UupLPQyOxSdmB8FIctpjbWwqZ2PT7BFJckkyrUgZimU1fu7cMvNS9BWNZWxbWklvKEY4kSqM/R4FKvNqrfZjF3i5PUhrVQnLCzAgRZnXyX07lwLwRZvgcdiJpww8Tgfr6ksnHuxGMtelUub/zdmPv5pFoszr5EPXLiMYTfLPe9tIG4rRWJKAx8mZgTADY3HqSj2MxVOkMvvkIzOMN1MhIlzZWMbhrhAbG60ZiwIeJx+8ppV4yqDUM70/bCJlzrxfODPMB3e3cm4oQoXPRV3Z+StasaSpZM3vKD64u5VEeua28xlLlKlSKi0ix0SkRSl1zoo2F4CrgUcy/z+Kucc7rTL1OO00VfhY31BKXcC8CKr8bm5eW0t3MMbOZYU9SrkcNloqfWxsKsvK8u7WdbXsPztMa3UJPlf+JwPyexzcuKaWar+L5TX+iaX3ZPqiIF0Fh1KmI/uaugAep523bno91OWm5jLC8RR2m8zbz0+zsKQNhaHM67G+zEMsaVBX6qYy4wfaUulj94oqQrEUVy+/9OAHt6yr45Z11m5rZONe47ALIuZDw+bmcra3Tj1Wlvtc3Lqujs6RCDuWVeFx2vE4C9cfXJSyZnARkaeALcALQHi8PF/CCYrIn2Mu7z4sIrcCu5VSf3lBnY8CHwWoqqra1trauiCyjMbM2Z3f7cjZMnBbWxsL1b/5EkmkiSbT+Jx2vHOMxmR1/wylCEaTCFDqdZFLQ0Ur+pYP1+B05PO1OVdiSYNwIoXHYaO/u6Po+jeZYjp/oWiSlKEIeJw47eZNv3//fqWUuuimsXKK8b8tbGshCALjj+qlwMiFFZRS3wG+A7B9+3a1b98+y4UYDif4p71tACwp83DPjhbLj5EN27dvZyH6ZwVfe+wEaUPhctj4xE0r59SG1f177vQgz54aBOCGNTU5TQYw374NhRP8c+YabCz38u6rmi2SzBry+dqcK9995gzBqLlU+4PP3lt0/ZtMsZy/9qEIP9nfAcCqOj9vzSQ7EZEDU9Wf9yOpiKwUkWuUUk9OfgFpoGO+7VvIs8Atmf9vBZ7LhRB+j4Nqv7mMU0yxfq1kacZIIZ9cPZoqvDhsgsthW/DYpgtNwOOgauIa1AZKi0Frtfk7F/q1czlR5XcR8DgQgaWVs49FVsxMvwn88RTlQeArwNssOMa8UUodEJGYiDwNHFRKvZALOZx2G/fuXEokkSJQoBvtC83bNzUwGk8RcOfP3mxThY+PXL8coKD3dSBzDe5oIZpM62twkbh5bR3bWyvxuxx8CWj9zK+mrNf2hbdcVDZV3anqaazF53Lwgd2tJFIGJVmMRVaMVlcBD4jIHuBh4BmlVEop9YqItFrQvmXM5g6zWNhtogexGRCRvLToK3QlOhmH3UYg3y2yi4x8vKY1M+O027L2XLBCmfYDN2ZedwJ/KyLnMBVr3vueajQajUYzX6xQpvuA9yulHsBUoIjIMuCvAKeIvKCU2mHBcRYdpRRPnRigfzTODatrqAnkf+SfS+F47+hEOMFCCmt2KYyHQAsnUty8tq7o8pruaxvi9ECYq5dVzZgcuhAJxZI8fqQPj9POretqceiZdNFiGGbo1mA0yU1rahc8TdxCYMXV+WngfhF5SkS+LCJfBh7EjDS0E7jWgmPkhO5gjANnh2kfivDs6cFci2M5jx/to3M4ymNH+rDKRSrfON0/xuGuEG0DEfafLfgkRucRSaR4+sQAncNRnjzel2txLOelcyOcGQhzpDvEib6xXIujWUDODkU41BHk7GCEF9oK8z6dtzJVSvUqpXYDdUAnMAy0AK8AX1BKJeZ7jFxR7nNS4jb3yRrLCzsc3VSMB6FeUu4pqOD1l0K1343LYUOEokh6Phm3wz5hGZ5tQPFCoqHMg4gZYKTYVoU051NZ4sKdSSpeqBbPVppLhpVSfycinwT+Tin1JRF52cL2Fx2fy8Hv7WolkkhPRCUpJt565RKGIgnKi2zpczIVJS7uv6aVZEpR5iuuftptwj07WghGk1QV4fW5qi7A/QEPTocURNQtzdwp8zq5f/cy4ql0wWZ2snITQkRkF3AfMG7LPWv7IlIqIlkZKonIThHZKyLPZILWIyJ/mnn/AxFxXkpZNnic9qJUpGAm8K32u4t+L8rnchSdIh3HabdR7XcX7cpCmc+pFellgtdlL1hFCtYq008DnwV+qpQ6LCLLgSemqywiV4nIK5gJxF8VkZdFZNssxzgL3JzJVFMrIjcAN2XeHwLuEJHabMrm2dd5EU2k+d3JgYl4sRprONIdYu/JAWLJ9Jy+3xuK8fSJfnpDMYsly1/aBsI8faJ/IjqPxiRtKPa1DbH/7DCGUZz2BJrsyWZsseyRLxP16EkR8WXenwb++wxf+Ufg40qppwFE5Frge8DGGY7RM+ltEtgA7Mm8fxRzVhzOsuzHWXVsAXjyeB9Huk1FWlni0vtBFtATjPHwq+blEUnMTZn+7KVOIok0R7pDfPT6FVaKl5dEEil+/nIXaUPRE4zxru35FVYwlxzqGOHpEwMAuB22orV218xOtmOLZTNTEdklIq8BRzPvN4nIN2b4SnpckQIopZ4BUlkeayNQgxlfN5QpDgLlmVc2ZVO1+1ER2Sci+/r7+7MRZU6MZ12w22QieLJmfjjtgi2z1DnXwO3uzPdmy4pRLNhEsNvm95sVK5OvAbf+bS5rsh1brNyM+ArwRuDnAEqpl0Xk+hnqPyki3wZ+CCjgPcCeTN5RlFJTBhMWkUrg68C7gW1AU+aj8eD1wSzLLuLCQPczd3fuXLeqmtpSN1Ul7oLeI8gnqvxu3rW9iZFIkjX1c4sV8s5tTZwdjFw28Wo9Tjv3XNVMdzDGqrrCy/G6kKxvKMXlsGETCjL/rcY6sh1bLN3ZV0q1X2AIMdN626bM389dUL4FU7nefOEXRMQBfB/4E6VUj4i8CHwc+BKvB6/PtixnOOw2NjToZSOraSj3zstFJOBxXnbLeVV+N1V+vc0wFStrtRLVmGQztlipTNtFZDegMtaynwKOTFdZKXXTHI7xLsxYwF/KKO3PAk+JyDPAOeArSqlEJoDEjGVzOLZGo9FoNFNipTL9feCrQCNm8IbfAp+YrrKIlGHOSseXgp8E/lIpFZzuO0qpH2IuC0/mWeCLF9T7YjZlGo1Go9FYgZXWvAOYVrLZ8l3gVcy9T4D3Y1rz3mWVTBqNRqPRLAZWWvN+KROAwSkij4lIv4i8b4avrFBKfU4pdTrz+jyw3Cp5NBqNRqNZLKxc5n2DUurPROROoA1zhvkUpsHQVERF5NqMSwwicg0QtVAejUajKUqmSy4+FTqR+OJgpTIdb+stwI+VUsFZQpz9AfDPmb1TAYaAD1goj0aj0Wg0i4KVyvSXInIUc3b5ByJSA0wbl00pdRDYJCKlmfeh6ermCsNQnBuKUOV3EfAUZ2xXgFTaoH04Sm3ATYm7eOKgKmWev3Kvq2hj8w6MxYkl0zRVXB6+sZPpG42RSquizJijOZ9oIk1PKEZjuTdvA4xYaYD0GRH5EhBUSqVFJAy8Y7r6IlKFac17LaY7zTOY1rx5kzj0saN9vNoZxOuy88HdrXicxRkZ5+HDPZzoHSPgcfDB3a1FE/j+mZMD7GsbxuWw8YHdrfiL6EEBoC8U44cvtGMoxc1ra9nUPGVgr6KkYzjCT/Z3oBTcfkU965aU5lokzQKhlOLBF88xHEnSUunjnduaZv9SDrB6dGkAbhWRyck//2Wauv+Ouaf6zsz7+zCTit9qsUxzZjz4dzSRJp40ilaZjkTMfo7FU6QMRbFE0xvvVyJlEImnik6ZhmJJjExS95HLLFB9MJpkPJ/9+HnWFCeGglDMjDSbz9e5ZaOLiHwOuBFYD/waeBPwDNMr0yVKqb+a9P6vReQ9VsljBTetqeHFtiGaKnxFu0wIcNv6Ol46N0xrdUlRPTBcv6pmIrF0bWnxJXdfUeNn5/JKIvE0O1orcy3OorK2vpThcJJk2mDr0stnRn45YrcJb75yCSd6R7myKX8jlFn5qH43ZojAl5RS94tIHdNb8gL8VkTuAX406fv/ZaE88yKZVrzcMcKGhjKaK4tvPyocT7H35ABXLaukrtTD7VcsybVIlnNmMIzXaWd9kS4BnuofI5402N5agddVPA9BYNorvNg2RNpQ7FhWedHWg90mXLuqOkfSabIlkkjxYtswFT4nG5vm/tCzstaf9+EdrVSmUaWUISKpjFFRHzBTTqePYOZA/dfMezsQFpGPAUopldMRMBhN8HJ7kCPdo/zBDSuw2Yoru8tYPMXzZ4ZwOmxcVYSzmkTK4ImjfQCkDIOb19blWCJrCcdT/OpQD4ZS9I/FeXeRpU97rTvE3lOm+YTLYWN7EV6jlwPPnBjgcJdpW1oTcLOkrHiNxaxUpvtEpBx4ANgPjGGG+psSpdTcUnssEuMpdzxOe9Ep0sl4i2hZdzI2m5k2yVAKn6u49krBnJm5HDZiyTQlRdi/yVblxXj+LhfGz6PdJniKxRhjGqy05v145t9vicjDQKlS6pBV7S82FT4Xb7qyvmhdDipKXNy5pZHW6pJci7IgOGzCPTuaGY2lWFFTfH30OO28d0czvaE4y4uwf8uqS7h7WxOGUiytKr7+XS7sWl5FXambUq+TipLiTjc5bx8IEXmjiNw9uUwp1QasFpHb5tt+rhAxjRzmYwE6Eklwun8Mw1iw1KhzxmW3nadIzw6G6R+N51Ai66kr9bCy1s8swUOmpW0gv3+Tcp+LNfUBnFm6MkUTaU72jRFLzpQZMX9orvTlTJGeG4zQNzqtm7wmC9KG4sxgmBq/h9pA8RkAXogVM9O/AO6YonwP8AvgEQuOUXCMxVP84PlzJFIGm1vKuWlNba5Fmpb9Z4d56ng/NhHeu7P5srjwZ2Nf2xBPnxjAbhPu3dlCdRHk/PzJgQ4GRuPUlrq5b+fSXIuTt7x0bpg9x8z74Z4dzdQVoSX4YvB4xk/f7bRx/+5lRWckdyFWKFO3Uqr/wkKl1ICIXPRYKSIzWhIopYYskCnnxJJpEikDgNGMj1S+EoqZvluGUoTjacjr3ezFYfw3SRuKcDxVFMp0NNOnfL8ec824T6OhFGPxFMVlurZ4hKKv+3knUoZWpllQKiIOpdR5d2gmQfhUplsDQAcwXn/yGpwijzLHpA1FMJqk3Ou8ZCOkar+bW9fV0RuKcdWy/LZEvHpZFShzabsuUPhKA8yBMJJIzdl4ZdfyagQh4HHk9Z5dKm0QiqWo8DlnXc5+28YGjnSHiiZaUDCaxGW3WT5I71xWiaEUJS4Hy4vUpmAxuGVdLS+2DdNQ7pmzn34wksTttBWE/7sVyvQh4AER+UOlVBhARPyYicIfmqL+14CbgN9hJvp+RimVf5uKwEMHOugYjrKy1s/bNjVMWefcYIRHj/RSE3Dz5iuXYJ+kdK9sKuNK8tfJeByvy05jhZdfv9LN4a4Q9+5oydpYIJEy+OWhLkLRJG+8oj5vTN8HRhN895kzvPuqqZet9xzr42TfGFcvr+KKxovPkddl56a1+bs0D6Yv5oP72ukLxbmysYxb178+h3r+9CCvdAbZ1Fw+4frUXOkrGp/poz0hHn61B5fDxr07Wij3WWfc4nHaLd+W2XtygNe6Q2xdWmFpu/lMuc/FbevnNq8fHIvznadOcao/zObmCj54Tf6HA7UiCOv/AnqBsyKyX0T2A2eA/sxn56GU+jSwGfgxZkLwlzK5UJdZIIuldI2YBgidI9NnhnupfZhgNMnJvjF6Q4VrsNA5HEUpUzn2XYLRTftwhLODEYYjSV5uDy6ghJeGQpFMK/pCF/cllkzz0rkRRmMpXjhTuLsKibQx0b+O4ch5nz1/ZojRWIrnT+dNqGtLGb9e40kjr43EwHzoGT8fhXy9LSavdoVoH4oyGkvRORJhOJzItUizMm9lqpRKKaU+gxmg4YOZV4tS6jNKqSkDKSqTJ4A/A74F3E8exeQd5+a1tTSUe7hxTc20dUxrUaj2u6jy57fpdyyZpn0oQnoK6+KtSytYWuVj3ZLAJbmSLCnzUOp1YrfJRISSRMqgfSgysWecC9wOO6vrAqyuu3gD2O2wUe13E46nWFNfuBvEHqed61dX01Du4frV51+j4/2eqv/5SudIdGKveja2L62kpdLHuiWlLMuzpdixeIr2oQjjC242m7Cqzrw31hTQ+bCKgbH4JT/wLK8uYWmVj5qAi13Lq2ksgMxAVvqZRoFXZquXMUp6B/AeoAZzKXibUuqcVbJYxZVNZbPGgtzQUMbqugAOm8zZBWMxSBuKH75wjpFIcuLGnkyZ18ldWy89G4PP5eD+3a2klZpw0fjpSx10jcRYUubhnh0t85Z9LpT7nLxl49QhEruDMYbCCTxOe8EbFm1bWsm2pRfvyd9+RT03r63N23RVF/L86UH2nhrMWt4ynzMvs4fEkml+8NxZIon0eVb8b93YQCJlzNq/S0n6nS1TtTlVwvD5HnuqNs8NRnjopQ4A3rapgRU12YUEbK708T/esAabSMEEzcnFInQfcAIza8wJTKOj7SKyHUApNdU+a16TrZ9fLkkZxkQWnCGLl0xsNsE2yY5sMNP+YJ4uzQyFExhKYbcJg+E4xWq+XCiKFF6/JnO5mmEF0USaSML04x0aO//6L6TzYRVDkcREdp+hcIIV0y/yXUShpYLMhTL9MaYCXZN5TUYxtdFSXpI2FCORBBU+V94/Pbkddt6wvp7TA2Nsaanga5fw3fF+lvtc5xlYTcftG+o53BViQ0N+Wo2urQ8wMBYnkTLY2mIahMSSaWLJtKWGLLkglTYfmipLXHm9UnIhu1dWo4DKEhc/yLUwGYbCCfxuxyUpwYoSFzesqaF7JMbO5fltxb8YbGgoZTicIG0oNmZW+YrlXrsQK1OwPaaUumW2MqXUB606Zq75z4OdnB2MsLymhHdsbsy1OLOyvqGU9XNQcD9/uZO2gQit1T7u3DL70tryGj/Ls1zOyQUOu40bJ1lrRhIpvv/cWcLxNNevrmFbgVpcKqX40b4OekMx1jeU8sYN9bkWKWvKvE7efGX+ZC7ae2qA508PUeZ1ct/VLbgvIa7s1pYKyM3uRt7htNvOs4oPx1P84HnzXrtxTQ1bWgrzXpsKK8IJejKBGKpFpEJEKjOvVuCSNIyI3D9feRaaA+eG+fUr3QyFE3QOm1a+HcPTW/sWA53DUcbiKR4/YkY0KQRC0SR7Tw6QjdfVSCRpBqtgZsvtfCeRNugciXC6f4w9x/pIpQt3yfTVziC/OtSdMwv58Xs7GE0ypoNcWMZwJHHevXawfYRfHepmYCy/LbKzwYpF6Y9hZolZCxzI/L8f+E/g65fY1uctkGfBGByL8+Sxfo71jPLk8T5uXldLY7k3r0MFWsHNa+sYCscJeBw8eqSXSCL/B5doMs3zZ4Y4MxCete6SMg+bW8ppqvBydQEvzbkddurLPESTaZx2G0e6R3Mt0pwwlOLRI70c7x3lsSN9OZHhmpXVNFZ42bGskqoCN1LLJxrLvWxuLqe50sfa+lKeONrH8d5R9hy7KIhewTHvZV6l1FeBr4rIJ5VS/zBbfRGZLpOMQH5H7vK5HHicdmLJNJUlbjY0lLGhIf+DMsyX8SXDI92j5h5SgRgGOGxCmXf2yCsiUjQPRFcvq2JgNIGIadFciIgIfreD0ViKypLc9KGh3Ft0OWLzARGZWPaNJdP4XHYiiTRVRZBRxkoDpG+LyH8Hrs+83wN8ewpf0zrgjcDwBeUC7LVQHsvxuuy87+oWRiJJmiry3+/JSm5bX8+GhjKq/K6CsLKrLHHx/l1Li87IYTZW1QW4b6cZ/rJQ3X4EuHdnC4NjCRoKwL9QMzc8Tjv3Xb2U4XCiKMZTK5XpNwBn5i+Y0Y2+CXz4gnq/BPxKqYMXNiAieyyUZ0EIeJwEPIX5xD8f7DYpqFB0TrvtslOk49QWQZYTn8uBrzK/w8dp5o/f7cj7MIHZMu9eTApyf5VSatOkjx4XkZcvrK+U+tB0bSml7p2vPFahlGkE0VKTDjcAACAASURBVFjuLcqktomUwYne0Xnl+8x32ociRBJpVtcVZx9HIgk6hqOsqPEXXUaOU/1jAFk7+WvyBwUc7gpSE3BfVukcrViveyHzNy0iK8YLRWQ5UBhZiKdgJJrgkdd6eXBfO8kCtoqcjuFIgl8e6ubljsKwzr1UkmmD/zjQwa9f6S7KeKhpQ/Hgi+088lovvzjUlWtxLCWWTPPzg138/GAXx3oK04jqcmY0muS3h3v50YvtjMXz31jRKqxQpuOP/H8CPCEiezLLtY8D/8OC9nPCuEdFXyhGWxYWoYXIwFic3lDhuoLMRCJlvB5VpwgfhgylJh7y+kIxTvSOZuUGVAhM7kY8NfXzeE8wxrGeUYwp4kxrcktaKfpH40QTadLpy+f8WKFMa0TkjzEzwXwbU4k+DjwAbLGg/ZyglOK1riCDYXMGd7KvuJ6QY8k0hzqC7DsznHVw8UJiLJ4ikTKoK3WzvNrPd546xfd+d2YipGIhYyjFv79wjrF4inKfk9FYil8eKp4ZeNIw6A3FqChxcsUU1vKDY3EefLGdX7/Szd5TxZkVp5AZjaU42D7CcCQx5zymhYgVytQO+DEDnDowZ6qS+b9gg56mDEVliYtYJs5mNFFcsxsRweeyMxCOkyrSp8e6Ug+r6wK0DYYJx9OMRJJFscqQSCkGxhK4HXY8DvtE4uRosmB3Vc4jmkhTV+ohljSmDNOZSBsYmelrrEj6XEykDUXA4yB0mQW7sMKMqlsp9ZcWtJNXuBw2mit97FjmoaWq5JLjzGaTISKXeF12llWX8PZNDVRmYWCV7/25kIDHwa4VVWxuLmcokuC1rhBOu7DsEtLL5RvjqfNcDhsVJU6iiTTXr6lhcCzOaCzF9tbiCM3mc9lx2oWNTWUYhsJQ6jx3rCVlXm5bX8dwJDGR+FyTPwQ8DhorvLxzDlmoChkrlGnBmEmKyN8D24EDSqlPzVS3wufiD29eNafjPH2in31tw3kds7fG7+YL79yYVd29Jwd4/swQrdU+7tjcWBCWsT6Xg6uXVwFQG/DwkeuX51ii+dE3GuMn+81UVtFkiuFwksYKL0tKPQWR6/FSCHic/OHNqwjHU3xvbxvheIo3X7lkIl8uwBWNxR8spVBRyrTCzrc8swuNFVONW2avkntEZCumf+t1gEtErlqoY41bIJ7uDxd8SimAo5n+tA1EiBdBfwqRs4MR4klj4gWZmMkFENpxrvSEYoSiSdKGmnCV0eQ/hlIkUkZRbKlcCvNWpkqpQrF6uBp4JPP/o8CuhTrQjmWVBDwOti2tKKil0ekY78+WlvKJ/TnN4rKmPkBtqZu6Ug8+l4OAx8GVjWUEisThfSqaK3wsrfJR4XOyqak81+JossRpt1EdcLNuSX6mYFwopFjM6WdDRP4cc3n3YRG5Fdh94V6viHwU+ChAVVXVttbW1gWRJRRLEs0YNlX53ThykAu1ra2NhepfLkgZisFM5gmfy8FgT8cl929gLE7aMJOG53MoPqvOnVLQPxZHKYXbkT8Ro/Lh2owm0hNW7mVep6UPkfnQv9kYjaUmElpUlrhx2rMfowqhf/Nh//79Sil10SypeB9rLyYIjD8qlQIjF1ZQSn0H+A7A9u3b1b59+xZEkO8/28aBcyPUl3n40LXLcpKVYvv27SxU/+ZLXyjGib4xVtcFqAlk99v0jcb4t+fPoRRsbi7nT9/35kvu3/99+jSjsRQBj4MPX3f+HqthKF5qH8EmZvu53De24tydGQjTNhDmwNlhbDZhaZWPu/LEYCQfrs1DHSMTGWtuv6J+3rOskUiCw10hWqtLeMet1+W8f7Ox51gfL50zh8h7d7ZQN0uIyo7hCGcHI2xoKOXW63fnff/mg4gcmKr8clKmz2Kmi/sRcCvwT7kQYiyeonc0jsMulPucOr3TFDz0UifRRJoj3aGLlNp01AY8vH1TA8ORJFfO0Tjlrq1NnOwbO8/QZZyXO0Z46riZJsrlsBV0tqDRWPL/b++8w+Qqrrz9nu6ePKNJGmmUIyIoAEpEk+01tjHGYIKBXRs+mwWvWfCya/yt91u89rMG52WDbdbexQQbDCZjm2RExkIoI5JQDmg00uTY032+P6paao26Z3q6+3aaep/nPtN9p7r6VN26fW5V/eoUj63eRViV+spi5k6q5phRNiQ3HPMnVSMIInBUY+or/J5ct5um9j5WbRu8v0ducsrssVSVFlFTXjSsI+0fCPPIqp0EQ8rWfd0ATL/5ycPSbbn1k57YmiuMGmeqqitFpFdEXgJWq+ryYT/kAT6BkoCPCdVlbkeMOBT5ffQQGvF888wU47jWVRSzdEbspRZFUUsz8mULunj4RPD7IByChqpSt7wkBiLC/Mnpe2CKtJ982HEJjL2LpiW21Mon4Pf5CIZCIxoOLjRGjTMFGG45TCYoLw5w8ZIp7GnrY06jC+Idi4sWTWbrvq6cktbPm1RNScCHiMTsueYTFSUBLl48hT3trg1mik8tmMDGpk4m15bzi2wbk2YCfh+XLJnCjpZujhhXxW3ZNihLjCpnmiuMqyodVbspjJTqsiIW5KB684jxeRvQ6zDGjSktiK3a8oXy4kBOtul0UVdRnFDwl0ImP8YcHA6Hw+HIYfLemYrICSLyqoi8bCMcISJ/b9/fKyJF8c45HA6Hw5EO8t6ZAluBs1T1VGCciJwOnGnfrwU+IyLjBp/LnrkOh8PhKDTy3pmq6oeq2mvfBoG5wDL7PhLpaHGMcw6Hw+FwpAXPnKmIPCUiN4rIUUl8doyIjEjtISILgAZMMIZ2e7oNqLHH4HOx8viyiKwQkRV79+4dqdkOh8PhGKV42TP9K6AFuEVEVorIT0XkfBGJu95BRJaIyDrMUOx6EVkjIouG+yIRqQP+A7ia2JGOho1+BCYCkqouVtXFDQ0NiZXS4XA4HKMez5ypHX69U1UvxQyz3gUsAp4WkWdF5B9ifOyXwHWqOl1VpwFfAf53qO8RkQBwD3CTqn4IvAGcbv99DvB6nHMOh8PhcKSFjMyZqmpYVV9T1f+nqqcAlwI7YyQNqepLUZ97GRhuj6nPAUuA74nIMmAW8KKIvAwcBzyiqk2Dz6VcKIfD4XA4LJ4HbRCR7wHfAXqAPwILgBtV9Z4YyV8QkZ8DvwEUuARYZvciRVUPCzCsqr+x6aN5DQ4NxKGqtw0+53A4HA5HOshEBKSPqeo/iMgFwBbgs8CLmKHZwRxr//7zoPPHY5zrWV4Z6XA4HA5HsmTCmUa+45PAA6raFm/7KlU9MwP2OBwOh8ORVjIxZ/qEiLyDER89JyINQG+shCJSLSI/iixPEZEfikj+7nXlcDgcjlGB585UVW8GTgYWq2oQ6ALOj5P8f4AO4GJ7tDOMmtfhcDgcjmyTqV1jjgKm22UsEe6KkW6Wql4Y9f5bIrLaW9McDofD4UiNTKh578YsV1kNhOxpJbYz7RGRU+2SGETkFIwK2OFwOByOnCUTPdPFwDGqqgmkvRb4lZ0nFWA/JpKSw+FwOBw5Syac6XqgEdg9XEJVXQ0cKyJj7Pv2YT7icDgcDkfW8cyZisjjmOHcKmCDiCwH+iL/V9VPx/hMPWaN6amA2ohF/6Kq+7yy0+FwOByOVPGyZ/qDJD5zHyagQ0SEdDlwPyaersPhcDgcOYlnzlRVXwAQkdtU9evR/xOR24AXYnxsgqp+O+r9d0TkEq9sdDgcDocjHWQiaMNHY5w7N07ap0XkUhHx2eNi4CkPbXM4HA6HI2W8nDO9FrgOmCkia6P+VQW8GudjXwJuAO627/1Al4hcA6iqjonzOYfD4XA4soaXc6a/Bv4AfBe4Oep8h6ruj/UBVa3y0B6Hw+FwODzByznTNqANuAxARMYBpUCliFSq6javvtvhcDgcjkzi+ZypiJwnIu8DmzGioy2YHmvO09k3wKsbm9nS3JVtUzylrTvIKxub2b6/O9umpJWe/hCvftDMxqaObJviGet3trF8836CoXC2Tckoqsqa7a2s2LKfUDiReDCOD/Z28uoHzXT3D2TblIIkE0EbvgOcCDyrqseLyJnAFRn43pR5dsMeNjd34RPhqlOnU1ValG2TPOGPb+1mV2svK7e28OXTZ1IS8GfbpLTwwntNvL27AxG48sRi6itLsm1SWtnS3MUzG/YAMBAKc/LssVm2KHO839TJn95pOvB+8fS6LFqT+7R29/P4ml2owv6ufj61YGK2TSo4MuFMg6q6L6LQVdXnReQn0QlEZMg7Id4cq9cU+U3H3e8Dvy/2HqyFQMBny+kXfHH2ms1HIuXyiRx4XUgE/BL1uvDKNxSBqPuxaJSVPRl8PsEvwoCqqy+PyIQzbRWRSuAl4F4RacJswxZNM7ADiIw/RP+iKzDTcytjUBwQWrr6OWlWPeXF8auqNxiiyO/LW4f7ifkTeG1TM2t3tPHbFdv57PGTKStOvHc6EAozEFZKi3KnR9vc2ceOlm5OmV3PlLpyqssPHVVQVXqCoSGva64zubachqpiNjZ1HeJc4GD5yor8SAE9IEUoLfLTGwxRWuTniHGV2TZnWLxobztaunlk1U7qKor57MLJQ95/Y0qL+NziKTR39nFko9N5ekEmfknOx+z8cgMmolE18C+D0twOnAm8AvwGeDnBwPie8taudmoritmyL/5c4rodbTz3zh5qyoq4dOnUnHIoiRJxnKrQ1N7H1v1dHNWY2Cqkzr4B7lu+ja6+EOfOb2TO+Ny4UUNhpaU7SFlRgAnVZYf8T1V58M0d7GjpYeG0Wk6f05AlK1Ojpz/E3o5+qsuKWLOjlYXTag/87/frPuS9PR0c1VjFufMnZNFKb9iwq/3AvbajtSdn2l08Hluzi017u5g3qTpted63fBtvbGmhpryIpTPqmT3MQ0VjdSmN1aVp+37HoWRic/AuYApwhqr+CvgF0D8ozQ3AccADwJXAKhH5nojM8Nq+oZg3sRqfCPMmxXcsm5o7UYWW7iD7u/rjpst15oyvoqTIR215EVNqyxP+3J72Xjp6BwirsjmHhFo+EcaUFTG1/vCy9A2E2dFidvb7oKkz06aljdIiH3PGV9k2euiP9Ad7Tbk25dA1SSdHNpr2WldRzOTasuE/kEXC4YP3xqa96WtvYTXTT30DYcZXFZYeIB/JxH6mXwK+DNRh9jWdBPwMODs6ne2JPi8iq4BLgW8D7wP/7bWN8TjnmPGcc8z4IdMsmlZLe0+QhqoSGsfk71Pf5Npyrjtj9og/N7WunNnjKmnrCXL8lBoPLEuOhqoSrj419rNYaZGfpTPq2NjUydIZ+StcERE+uSB2r/OU2WNZv7ONBZPT1xPKJabUJddes4HPJ5w8ayxv725n4dTatP2gfWL+BMaPKeXIxiqqygpTHJlPZGKY9yvAUuDPAKr6vl1zegARqcAMB18CNAAPAYtyYS3q9v3d7O/q55iJY2JO3E+uLefKk6Zn3rA00N4bZGNTJzPqK6itKE4qjyK/j/OOzW1l4Ka9nXT3hzh6wpgD89qnzB7LKQWgfm3q6GVnSw9HNlYdMh+3aFoti6KGffORcFjZsLudsmI/sxpyf150KJbOqEv7g9u8SdVpHTZOhK37umjrCXLMhDGjTvQ2HJlwpn2q2h8RQYhIACMqiqYJ0wu9z/5VYLGILAZQ1YcyYOdhtHT189DKnYRV2dvRN2wvNd94dNVOmjv7ebOkhS+dlhWNl+fsaOnm0dW7ADO/e+LM+ixblD76B8I8sGIH/QNhNu3t4sJFk7NtUlp5c1sLL7/fDMCFCyfHHLJ3ZI6m9l4eXrUTVWjrCfKRI/JTa+AVmXCmL4jI/wXKROSjmHi9jw9K8wDGgR5pj2gU01PNOGFV1Pr9UPb1UGlnIHywbKpakKrPcFQsg0Jb3B+21w0Ks31GX6+B8OgKSpGLmN8J83ogjffS9JufTCjdlls/mbbvHI5YNg33/ZlwpjcDVwPrgGuA32NESAdQ1S9kwI4RU19ZwnnHTmRfZ/+Buac121vZ3dbLiTPrqClPbmg0Vzj/uEm8+2EHs8ZVDOtImzpMUIdp9RUcPSH39xto7w3y+qZ9nDCjjnPnN9LVN8Cxk3NnTjcdlBb5uWDhZLbv72buRHNN+gfCvPJBMwE7T5evy7Xe3t3Ovs4+5k+uZmJ1GTPzfJg3GVSV5Zv30947wMmz6qkoye4yrgnVZXxqwQRae4IFdy+lA8+vjqqGReQR4BFV3TvSz4vIF1X1fz0wLSFmNVQyy45m7OvsOxB1pTcY4jPHT8qWWWmhrqKYk2YlNuz57IYm9rT38s6HHUyrL8/59Zk9/SFe+2Af48eUJrzMJx+ZVFPGpJqDatbV21tZva0VgNry4ozPqaWDsCpPvfUhqmY5xzlHF9b0SqJs29/Nqx/sA8AncHYO1MMROb4EKZt4NoMshltEpBl4F3hXRPaKyP8bYVbf8sC8pCgr9lNSZKpscBCAQqfGlreiOJA3EVT8PqGqNLedfrqJXCcRs1A/HxERKuzDWvUoVqlWlgQOjCzUjLLfm3zEy1+aG4FTgCWquhlARGYCPxWRG1X1x5GEg/Y7jUaA7D+OWcqLA1x+wjRauvqZWlfO1n1dvL27g7kTxzClrnDFEdv2daOqLJ1Rx7FTavLCmdaWF3P5CVMTjse7clsLzR19nDirPm+dEJgeTOOYUuZPrs5bwY4Al50wlb0dfUzN0n3V0tXP8i37mVRTlrXefX1lCVecOI2dLT3sauth/c62vBxpGC146UyvBD6qqs2RE6q6SUSuAJ4GfhyVdjzwF0DLoDyE+BuJZ4XqsqIDT8tPrN1N/0CYLfu6+OvTZ2XZMu94Yt0u+oJhSov8ebOcpDjgS9iR7mnv5YV3zQxEMKRx127mOv0DYZ5c+yFhVYLbwnn9w1tZEqAyi3OEz7/bxNZ93WzY1c7k2rKs6SPqKor50ztNbN9vbJlSVz6qe+u5jJddjKJoRxrBzpsObg1PAJWqunXQsQVY5qGNKRFp1Pnck0mEA+UsK8wh07JiP8UBO3yfxz9UAZ9QaYe1C71Nek2k/kqL/FnfRSnSJo0tuT8qNFrx8tdxqNh6g8MJXh0voap+Pm0WpZmLFk1mV2sPE2tyO5xZqly4sLDLOaa0iMtPmEprd5BpeTo0CibSzqVLprCnvbegpx0ywVlHjWPWuErqKopHtOmDV7bMHldJfWVxXsb+Hi146UyPFZH2GOcFyPm4e6rw3p4OJtWUxZWklxb580qyv21fN5v3dTF/UjXBUJit+7qYVl8x7OdGWs4P23p5d08HR46vympg7ab2Xjr6Bpg59tClP6rKym2tBENhFk+rJeD3UVNenHdLndq6g+zp6GXG2IoD89gVJYG8apMRevpDvLm1hbqoSFw7W3sIhTQrc78+nzBj7PD3Riw2NnWwq7WX46fWpGUPZH+ULX0Dpp4qSwIsGGZ5SlffADtbe5haV54TTjjR9aQj/Xwm158OhWfOVFWzf/VSoLW7nyfX7qa6rIir4sR4HY6O3iCt3UEm15ZlPSBC/0CYR1fvZCCs7GgxIRIfWrmTj80dz9yJ1exq7aG82J8Wh/LYmp109YV4Z3c712RpLnkgrPxm+XbCqpw8q54ToiIfvbungxffM3OkPpG4Yd7SWSfppjcY4tfLt9EbDHFkYxWfSGBnmL6BEHva+misLj0wrJ0rvPT+Xt7adfDZe0tzFw+v2gnAx+c1Znxt8+62HkoD/hGH2WzrCfLE2t1284t+zj8uvcvn/rxpP29uNdKS6rKiQx6G93f10z8QPvAA+8CK7bR0B2msLuWypVPTaofjcApzEiwNRCLK9ARDhMOKb4SL37v7B7jndfNjt2haLadleZsvnxhRzkB/6JA5oK6+EKu3t/L8O00EfMJlJ0xlbILCnXiUBPx09YWyOr8TDithew27+gcO+V9pVPlLi2LbuHJbCy+8u5eAT7j8xGmH9JhygYGw0jcQAkyYxER4aOVOPmzrZWJNKZcsya0f10jPKbI5fXSZuhIsX7pYu6OV595uwu8TLls6lYYR7MgS8AkBnxAMqSdzrZF6EuGQ/He39fDbN3YQVuUv5jZy9IQquvpN+8h0/Y1WRpUzFZEfA4uBlar6t0OlHVNaxNhKs+i9PxSm1DeyG6OrL0Rv0DTmlu7sb80W8Pu4ZMkUdrb2MKuhkm8U+Rk3poT5k8bw+qb9gPmBbusJpuxML1w0mS3NXVmdfyzy+ziqsYr23iAnzTxUgTx9bAUXLpxMfyjE7HGxF6G32O30InWSa860siTAGXMaWL+zjZNn1tHdPzBsII3IFoH7u4KZMHFEnDJ7LA1VJdSWF3M3UFUaYPa4CuoqSjg2xm5EwVCY/oGwJ1GBIvUUCittPf0jcqYVJQEuWWKW9RwxPrHh9o7eICUBP9v2d1FXUTJkW1syvZaa8iLKi/2HTKG0dgcPPDy2dPcjInz62Im8t6eDYyYWbtCSXGLUOFMRWYhRDH9ERH4qIktU9Y146Zs7+3h8zS4eW72L0+Y0cPGSKYxPcIu17fu7WbW9lan15ZQV+TkpR4KrR88LNnf2cceLm3hnVzs3fnQO/aEwlSUBZsaYJ9rZ2sObW1uY1VDB3InDL7eoLAlkfVnGno5e7n5tK0c2VjGuqpntLT0EfD7OP24iFSWBYefhTphZTzCkjCkLMD0HREn9A+EDQ9P9A2G+8dBaNu3tYs74Sl7fvJ/Z4yr5xPwJQ26Sfe68Rjbsbk/oGmYav08ODOW2dPXzzYfX01hdwpLp9Tzbs4dTjxh7YP6xq2+AX/95G139A5xz9Pi0t7WlM+roGwhTURxg5tiRzz83VJUM6YC7+gd4Yu0uTphRz12vbmH1jlbqyouZWm/mNv/q5OlxlwWJSMxrPGd8FXs7+ugbCB/YLWhKXbkTomWQUeNMgROBZ+zrZ4GTgLjOtH8gTEffAP0DYXqDIXa09CTsTJ99ew+t3UF8Ilx35qycDHIQCisDoTCb93URDJuhoXg8u2EP+7v62bS3k9njKrO+VCARwmElpEpbb5C3d3fQN2ACpW9s6ozZ0xlMZUmAj8+LXyeZZt3ONtbtbANMz2NjUye7WnsoDvjwi6AKW/d1D+lMZzZU5oU4qas/RH/I7ITjEx+N1aUU+X0Hdm1q7uw7MAy8bX932p1peXFgyPshVTp7B3h/Tyf7Ovt4a3c7/QNhNjd3MaGmFJ8IfcHQiNfY+n2S9amk0c5ocqY1wCb7ug2YOziBiHwZs5E5deMnMnNsBQ1VJcwaV8nRExKPSVlfWUJrd5Ca8iICORpovKzYz/gxpXxy/gTGDTOMVV9ZzP6ufqrLiijy5d6DQSzKiwMsnlbL3EnVHDNhDE+u203AJ1mLqJMq9RXFRDRsJQE/ZUV+JtWUcc5R4ygK+PEJLJxaGMHHq0oDJuZwbRlFfiEUNm0wwuTaco6eUEVLd5DFebhna2ReeHp9Ba2Tg6zZ0cY5R5ulOOOqShMONuLILUQLcOumWIjIV4C9qvpbEfksMFlVbx8i/V5ga5rNGAscFsgiS3kuBFam2ZZUSWf9LAS2pTG/VCnksiVKonWQT+VL5rrm4r2XDiJ1kU/XL8JIruM0VT1sGGA09Uxfw2wB91vgHODOoRLHqqxUEZEVqro4F/L0wpZUSbdNuVTGQi5boozE5nwpXzJ25kvZRkp0ufKtjOmwNz/G7NKAqq4EekXkJSCkqsuzbZPD4XA4CoPR1DNluOUwDofD4XAkw6jpmeYId+RQnl7YkirptimXyljIZUuUkdicL+VLxs58KdtIuSPO63wgZXtHjQDJ4XA4HA6vcD1Th8PhcDhSxDlTh8PhcDhSxDlTh8PhcDhSZFSpeUczIrIIE0KxBmgFXlfVFdm1Kr0UchkLuWxQ2OUr5LJFGA1lHA4nQPKQdDcwEfEDnxmcJ/CIqsbdZ8nullOCiUncBozBBK4YyOZyoXTWTy6VMdnrNER+OVO2RBlJHeRL+ZK5rvlStpEiIpXAX2PqYjEwALwEPAgUkcNlTPf9eSBf50y9wYubSETuBtYCzw3K81hVvWKIz72oqqclej4TpLt+cqmMyV6nIfLLmbIlykjqIF/Kl8x1zZeyjRQReQy4G1MXjwDnY+riL1X1PJsmJ8uY7vszghvm9Y5FMRrSwyLyYgp5TlfVKwedW2WjOg3FChH5OWbXnHZM4zmb7MYHTXf95FIZk71O8cilsiXKSOogX8qXzHXNl7KNlHrgd6oaFpEVwK2YB+OZInIRuV3GdN+fgOuZeoaI/Aio4PCbqE9Vb0gyz5uAM4BlNs9q4DTgJVX93jCfPR6zDV0N5mnsNVVdlYwd6cCj+smJMqZynYbIMyfKligjrYN8KF+y1zUfyjZSROTzmGHetZi6mAUcj3GgL5LDZfTi/gTnTD0l6iaqxtxEr6fawESkATNHEclzharuTdXWbOBF/eQKhXSdkqUQ66AQy5QsIhIAjuBgXbyfypxjJvHiOrphXm/xYeq4CPDbI2nsxPlpwMmYp9wWoEJEUpo4zyJprZ9coQCv04gpxDooxDIlixUgXcOhdfG6iPxcVTuyatwweHUdXc/UI6zAppjDJ7lTFSCt43DRTkoT59nAi/rJFQrpOiVLIdZBIZYpWQYJkKLr4oAAKVfx6jq6nql35JIAKRfxon5yhUK6TslSiHVQiGVKlgMCJPu+RUR+BySld8gwnlxH50y9wwsV36Mi8gSHT5w/npqpWaFQVY5QWNcpWQqxDgqxTMnyn8AyEYkIkKqBucB/ZdWqxHhs0HUcA5wOPJZKpm6Y10OcAGlonACpsCnEOijEMiVLlAApolJ+L1/mjkXkNOAYTMCGduANYKaq/jnZPF3P1FucAGlonACpQCnEOijEMiWLiNSoaivwtoh8CtOz+0BEHtQc76GJyA+BcZioTWOBq1R1r4jcD5yVdL45Xu68xQmQhsYJkAqbQqyDQixTsojIn1T1LBH5LubB4lHgFGCyqn4xfil7aAAAEWBJREFUu9YNTXRkJhFZANwO3AR8T1WTdqauZ+odToA0NE6AVNgUYh0UYplS5WRVPd2+/qOILMumMQniF5FiVe1X1bUicgFwD2bON2mcM/UOJ0AaGidAKmwKsQ7iCVfyuUzJstA++B4TGfIVER9QlW3DEuBGTG+6CUBVW0Tk08DnUsnUDfN6iBMgDY0TIBU2hVgHUWVaBHwAbFTVN7JrVXYQkXlASFXftu/LgQWq+np2LcsOrmfqLU6ANDROgFSgFGIdiMgfVfXjInIk5iGwGbheRHao6jeybF5GiRbxiEi0iOdfSUHEk8+4nqlHOAHS0DgBUmFTiHUQJbp5ATgzErBARF5W1VOzbF5G8UrEk8+4nql3OAHS0DgBUmFTiHVwjIjchdkhpQTosedLs2dS1khJxCMiIczDVhFmicpdwI+jIioljIjUAJ9X1f+y788AblLVT40gjwnAr1T1YyP9/gjOmXqHEyANTSELkJxQpbDaaoQT7N9/wjiASMD3f8qaRdkjVRFPj6oeByAi44BfY+6Tf07ClhrgOlKLvvRx4KkUPu+Geb3ECZCGRmLs8wgECkHQ4YQqhdVWHelFRDpVtTLq/UxMFKKxGC3FrZg9R0uA/1TVn9sHl0eBWkyP9puq+qiI3AecD7yLeTh/ErgFM6c9D3gTuEJVVURuBT6NeRh6WlVvst9/P/AtVd2QbJlcz9RbnAApDlZGv8YeB04DfwQ+mhWj0oQTqhRWW3V4j6pusm1mHMYxtqnqEhEpAV4RkaeB7cAFqtpuRU+vi9m95mZgXlRP9wzMRuVzgV3AK8ApIvI2cAFwlHWsNTa9HzgyFUcKzpl6xiCBzQbMEMYXReTKFAQ2d2LmGe7lUFHHnUC+iTo6gcESegEWZMGWdFNs/17AQaHKz0Tk5SzalGnupHDaqiOzfAxYICIX2ffVmBjAO4B/tXF1w8AkYHycPJar6g4AEVkNTMf83vQCv7RTEE/YtCcAScfkjeCcqXc4AdLQvI15ymyLPikiz2TJnnTihCoJtlURaQR+AizBBB3fA9ygqu8NzlBEXlXVk0VkOibyzq/t+cWYfTSvH6mRNmLPTaq6YtD5IuDbwIVAB9AH/Iuq/mGk3zHM99djHrgBGoEQEBkKX6qq/VFpbwDuUNXuGPlkxN5YiMgfgC9FnFeSeczElL0J81D9VVV9alCaLwANmN/WoIhsIf491Rf1OoSZPhoQkaUYbcZFwN9glvGcixkRSwnnTL3DC4GNJ1sHZYlPcdDJRHNupg3xACdUSaCtiogAD2NUlJfac8diehvvRaULqOqAqp5sT00HPo8RrWAd4SHOMA18G5iAGT7sE5Hx1v60oqr7gMjw5C1Ap6r+IE7yGzCK2cOcaabsHYyIlAH1KTrSBuBnwH/Y4dengGvtUqSgiMwBdmJ6qE323JnANJtFBwlEXrL3YLmq/l5EXgE22X+dDXwvWfsjOGfqEar6tSiBzRGYoa47SKHOVfX7IvJnzNZB7Zhhj18BM1O3OLOo6u445/N+Pk1Vt8Y41wl43kvIFRJsq2cCQVX9WdTn1sCBea9vY+ZajwLmRIlWbgWOtsN3vwJWYZdC2B/Mf8cInxQjKvmdiPwU0/stAx5U1biqURvJ50vADFXts3btAX5r/x8zr1jilihHMdVmf4OqviIipwP/Fik2Zn458v1nAz/A/Fa8AVwLXANMBJ4XkWZVPTPb9qpqB0YktCxeXQ5Bmb1+kaUxdwM/sv/7BeaBaaV94NoLfAYzZfC4iKzDPDy9Y8u6T0ReEZH1mHvsyTjfWYVRmZdier9fs+XttWVJDVV1hwcHRnw0+PADz6SQ5w9to/tfzBKDBnv+T9kurzvcEX0k0laB6zFrC2N9/gygC+MgIuc6o/73xKC0T9jXtwE/ifpfrf1bZ//6MT/+C+z7ZcDiQd+9AFg1RNkOywuox6hJIyskauzfXwOn2tdTgbft68eBU+zrSozjvAX4JkZoM8f+7y6MQwPYAoyNYU9W7LWvbwfOynZ7S6GdXgHcnI68XM/UO7wQ2CzRQ6OOPCAiN6WQn8PhFeloq8tVdfMIP3MOcGnkjaq22JcXi8iXMU5rAqbHvHaEeUeIldcGYotbzsHMoUc+O8b2nl8BfiQi9wIPqeoOm8YPbNaDc8a/Ar6CmVdOFk/stf8/BRP5KC9R1XvSlZcvXRk5DiMisDkr6jiT1OZM/SJSDKCqazFq0W+R4tZBySAi9SKy2h4fisjOqPfFg9LeYIeihstzmRWTZJ1CL18GSKStvoVZhxuPrnQYIiIzMD/4Z6vqAsww4FBisI3AVBEZk2heaqYnlgIPYvQAEUGLDzhRVY+zxyRV7VTVW4H/gxl6fUVEjkqhiFmx14qGtmuUSGo045ypd3ghsIlEHQEOPHV/Gsh4LFtV3Re54TBzLD+OugEH31w3AMM6m1yi0MuXARJpq38CSmyvCTC9WBH5yDB5DyU4eQbTk4vkV4sRP3UBbVaYM+Q9qEYt+0vg3yIPBCLSICKfi5eX7b1Vq+rvbdmPtdk9DXw1yp6I2GiWqq5T1dsw86IRZxoCpovIbPv+SuCFocqdRXtTUsGKyP+ISJOd64w+f6eIdItIVdS5n4iIillfmpM4Z+oRqro71hObpiCwUdXlqto06FxIVe9LNs90IiJni8gqEVlnb5QSEbmeg8KJ5226n4rIChF5S0S+lV2rE6fQy5dOEmmraiatLgDOEZEPROQt4LvAh8NkvxYIicgaEblx0P++A9SKyHoRWYNZ57sGI1J6BzMn+EoCRfgmRviywf7YPwG0D5FXFfCEiKwFXga+Zs9fDywWkbUisgH4a3v+BmvjWiDIQXFaL/BFzLD4Osx6yohA6w7MBtzP54i9Hye1JSV32jxisRETvCES4OUsjKI3Z3HhBB0pI0bSP4BRHJ6tqu+JWWe5UlV/ImY92GJVbbbp61R1v5jII88B16sJlr2MGGv+sk2hl8/hGCliIxOpakrTFmLWDD+hqvOizt2JWRp1kqqeJyJnYWL+nkvUfRaVvhP4b0ywhw+BS9VsBxcZVSrHhPS8Sk0M4WWYyGunY+aRr1LV5amUA1zP1JE+YgknBgetiHCxiKzEPDHPxQgicp1CL5/DkTCq2peqIx2G94AGO0x/GTDU6FsFJu7zXMyQeGTZ013A1+1c8ToODaJfbqdwrgP+Jx0GO2fqEU7AEpskxCB5Ra6XT0Q+Y+eehhS8DG6TIvJ7sbFMHY4M8RBGmX0CMFSUtzBwv319D3CqiFRjlvtE5psHP/z+BkBVX8QollNu286ZesQoFLAkKpwYkRgkhyiU8l2GmSO7bJh0h7RJVf2EqrZ6aZjDMYj7MYE7ntGR7XOayNzl4DQpz3c6Z5pBClzAkpBwIkkxSC6Q9+WzCs5TgauxazFFxC8iP4iIS0Tkq3Ha5BYRGSsit4pItFr2FrHrR0Xk70XkDZtPvrTbnEYKTPE6EtREEvtHht+n1IeJtQsmzOTLamJ+t8hBZXj0wy/AJQAicipmh5pDYoQna7A7vI+ycQsjiGzCCKK1uMMdiR7A5cAv7etXMWs8r8WsNYxEtIm0vcFtcgtmr8njgReizm8ApmDEH3dgApP4MGrS07Jd5nw/MEOTC4H1g87fiVE1X2Hf++z7HcSIkpSLB2aodTdGHbwDuDqqbBfFSL8lVtkwAXJ+BKzHLLeKRNs6DhM4Zy3wCAejYS3DBMFYZT+zNB3lcRGQMsdIIpukM1qLwxHhMg7GV73Pvp8B/Eztki1V3T9UBqq6SkTGichEzA4eLaq6XUT+FuNQV9mklZiY1KnskjTqUdUXreI1Fvdhelj3YEIqvkKcaYVcUbxGo6oxpxpU9Qtxzk8fIq+vxTi3GhMbPRb3qOoNw1uZOG6YN8fIdQGLIz8RkTrMWr1f2KU8fw9cnGR2D2CG1S7hoPBDgO/qQV3AbFX9ZYpmO4Ym7xSvhYxzppkjbwUsIhKyKuS3xCyU/zu7kDqZvGpE5Lqo92eIiQ3qCVG2rxeRx/NRkRo9L5kCFwF3q+o0VZ2uqlOAzZjexzUiErDfVWfTDxVl6H7MnOtFGMcK8BRwlZ2XRUQmici4FG12DE9eKV69QM1OQiNJf4Z6sNbbOdPMkc8Clh7b25gLfBTj4ONuYTUMNZgn3UwRsX0esJ+oUHPZRAyZvP8uw+wdGs3vMNMI24C1YiIGfd7+L260HVV9C+Nod6rdSk9Vn8a019ds+36QBPaYdKRMXileC5psT0K7I/cP7NZXUe9nAvswQ3t+4PuYeJ1rgWtsmkpM9J+VmOGj8+35+zAxi1fbz52BEQQ8iHmAuJeDkbluxQhc1gI/SNV2TGi0/7KvZ2FCob2JeaI/yp4fj3E6a+xxsj3/NYxYYT0HhWO3Al+Jyv8WTIQjMMOokTr5lj03HbPt1V2YIO/TYqWzaf8RM4z3MqaHcFO224E7snPYdhNLgHSRfX0NMMu+3kJskY5i5knBiCH/3b5eA3zEvr4FuyWevSd/Zl+fCqzLdj3k+pF1A9yR+8dgZ2rPtVrH82Xgm/ZcCWbT3hkY0cIYe34sJtamDP5hsM60DZiMGSl5zd68MfdbTNZ2jNN/APi4ff8ccIR9fQJ2n03Mk/4NUZ+pxqhe12HmnSqtIzyeESpbbdnDmF05GCJd5PvKMcP+G50zHZ0HBaZ4LeTDqXkdqfIxYIGIRNZ5VWNUnDuAfxWR0zAOZBLG+cZiudr9EUVkNcbpvE7s/RZHSpnNcxJmW7xn7LzeyZgh90i6Evv3LOAvwQRmx8xdnwo8rKpd1saHME/zt49Q2boN2KqqkX1uPxYnXZX9vm77fY8lWXZHnqMFpngtZJwz9QARacQ81S3B9OD2YHo77w35wTxBzD6GIaAJ06v6qqo+NSjNFzAOZpGqBq2CNJ4quS/qdQiz5nFARJYCZ2OELn+DcXQjpUdVj7Oh8Z7CzJneCbSqUSqmSkTZ2sjhytafRye0Sxyi9+iMl86zH7BCb5sOR7ZwAqQ0I6ar8zCwTFVnqeoi4BvE75XlFSLSgBFO/Yea8aCngGtFpMj+f46IVGB6qE3WkZ6JmR+EoVWi0d8Tb7/FpLC9vOuBvwO6gc1i9nuMiIEi+T+HCWQQiQ5UjZlT/YyIlNuyXcBB5WQqytZ46V6031dmI9ycl0rZIxR623TER3NE8VrIOGeafs4EgqoaUeqiVqErIs+JyEox4QQje/VViMiTdsnJehGJhLlaJCIviMibIvKUiEyw568XkQ02ZFum9jEtiyyNAZ7FbCAcCRf3C8xc4Uob8uznmBGPezH7Iq7DDJu+Y+tiH/CKLev3h/jOePstJo2qrsLMDV2GiQZ0tVWwvoXdOxGzefWZ1u43gWNUdSWmN7sc+DPwC5sXmoKyNV46+333Y8Qhf8AIlNJBIbZNhyMncPuZphkxcU1nqOqNg84HMIug28XEznwdMz/2WYwo5ks2XTWm5/QCRgG71/6I/YWqXiUiu2z+fSJSoy74uCNBXNt0OLzDzZlmDiG2IGcd8EMRuQ2zSe5LIjIPmIcRy4BRle62+awF7hWRRzDqO4cjVVzbdDhSxDnT9PMWB3cwiOZyYghyVPU9EVkIfAL4jog8h5nXektVT4qRzycxyyfOA/5RROarjavqcAyDa5sOh0e4OdP08yegREygegBEZAFGgHOYIMcuq+hW1XswQQwWYtZXNojISTZNkYjMFRMxZ4qqPg98HSPyGZGwwDGqcW3T4fAI1zNNM6qqInIB8BMR+TpmreQWTHSR263QZAVWkAPMB74vImHMwuxrVbVfzLrN2+08VQCznOE94B57ToDb3byUI1Fc23Q4vMMJkBwOh8PhSBE3zOtwOBwOR4o4Z+pwOBwOR4o4Z+pwOBwOR4o4Z+pwOBwOR4o4Z+pwOBwOR4o4Z+pwOBwOR4o4Z+pwOBwOR4o4Z+pwOBwOR4r8f447IQYJBeD6AAAAAElFTkSuQmCC\n",
            "text/plain": [
              "<Figure size 504x504 with 49 Axes>"
            ]
          },
          "metadata": {
            "tags": [],
            "needs_background": "light"
          }
        }
      ]
    },
    {
      "cell_type": "markdown",
      "metadata": {
        "id": "h3Yptvr0R0ve",
        "colab_type": "text"
      },
      "source": [
        "##Matrice De Corrélation:"
      ]
    },
    {
      "cell_type": "code",
      "metadata": {
        "id": "MIm-B1ZXCNX0",
        "colab_type": "code",
        "colab": {}
      },
      "source": [
        "corr=df.corr()"
      ],
      "execution_count": 0,
      "outputs": []
    },
    {
      "cell_type": "code",
      "metadata": {
        "id": "dudbHJ5EM04c",
        "colab_type": "code",
        "outputId": "f8adc73f-f0e6-4de7-be1f-c483458367c9",
        "colab": {
          "base_uri": "https://localhost:8080/",
          "height": 254
        }
      },
      "source": [
        "corr"
      ],
      "execution_count": 0,
      "outputs": [
        {
          "output_type": "execute_result",
          "data": {
            "text/html": [
              "<div>\n",
              "<style scoped>\n",
              "    .dataframe tbody tr th:only-of-type {\n",
              "        vertical-align: middle;\n",
              "    }\n",
              "\n",
              "    .dataframe tbody tr th {\n",
              "        vertical-align: top;\n",
              "    }\n",
              "\n",
              "    .dataframe thead th {\n",
              "        text-align: right;\n",
              "    }\n",
              "</style>\n",
              "<table border=\"1\" class=\"dataframe\">\n",
              "  <thead>\n",
              "    <tr style=\"text-align: right;\">\n",
              "      <th></th>\n",
              "      <th>Total\\nCases</th>\n",
              "      <th>Total\\nDeaths</th>\n",
              "      <th>Total\\nRecovered</th>\n",
              "      <th>Active\\nCases</th>\n",
              "      <th>Critical Cases\\n</th>\n",
              "      <th>Tot Cases/\\n1M pop</th>\n",
              "      <th>Deaths/\\n1M pop</th>\n",
              "    </tr>\n",
              "  </thead>\n",
              "  <tbody>\n",
              "    <tr>\n",
              "      <th>Total\\nCases</th>\n",
              "      <td>1.000000</td>\n",
              "      <td>0.636166</td>\n",
              "      <td>0.347124</td>\n",
              "      <td>0.947703</td>\n",
              "      <td>0.702073</td>\n",
              "      <td>0.174324</td>\n",
              "      <td>0.238291</td>\n",
              "    </tr>\n",
              "    <tr>\n",
              "      <th>Total\\nDeaths</th>\n",
              "      <td>0.636166</td>\n",
              "      <td>1.000000</td>\n",
              "      <td>0.310030</td>\n",
              "      <td>0.531107</td>\n",
              "      <td>0.678869</td>\n",
              "      <td>0.512754</td>\n",
              "      <td>0.829871</td>\n",
              "    </tr>\n",
              "    <tr>\n",
              "      <th>Total\\nRecovered</th>\n",
              "      <td>0.347124</td>\n",
              "      <td>0.310030</td>\n",
              "      <td>1.000000</td>\n",
              "      <td>0.034090</td>\n",
              "      <td>0.188603</td>\n",
              "      <td>-0.072908</td>\n",
              "      <td>0.063467</td>\n",
              "    </tr>\n",
              "    <tr>\n",
              "      <th>Active\\nCases</th>\n",
              "      <td>0.947703</td>\n",
              "      <td>0.531107</td>\n",
              "      <td>0.034090</td>\n",
              "      <td>1.000000</td>\n",
              "      <td>0.666842</td>\n",
              "      <td>0.180265</td>\n",
              "      <td>0.183688</td>\n",
              "    </tr>\n",
              "    <tr>\n",
              "      <th>Critical Cases\\n</th>\n",
              "      <td>0.702073</td>\n",
              "      <td>0.678869</td>\n",
              "      <td>0.188603</td>\n",
              "      <td>0.666842</td>\n",
              "      <td>1.000000</td>\n",
              "      <td>0.380228</td>\n",
              "      <td>0.492450</td>\n",
              "    </tr>\n",
              "    <tr>\n",
              "      <th>Tot Cases/\\n1M pop</th>\n",
              "      <td>0.174324</td>\n",
              "      <td>0.512754</td>\n",
              "      <td>-0.072908</td>\n",
              "      <td>0.180265</td>\n",
              "      <td>0.380228</td>\n",
              "      <td>1.000000</td>\n",
              "      <td>0.786794</td>\n",
              "    </tr>\n",
              "    <tr>\n",
              "      <th>Deaths/\\n1M pop</th>\n",
              "      <td>0.238291</td>\n",
              "      <td>0.829871</td>\n",
              "      <td>0.063467</td>\n",
              "      <td>0.183688</td>\n",
              "      <td>0.492450</td>\n",
              "      <td>0.786794</td>\n",
              "      <td>1.000000</td>\n",
              "    </tr>\n",
              "  </tbody>\n",
              "</table>\n",
              "</div>"
            ],
            "text/plain": [
              "                    Total\\nCases  ...  Deaths/\\n1M pop\n",
              "Total\\nCases            1.000000  ...         0.238291\n",
              "Total\\nDeaths           0.636166  ...         0.829871\n",
              "Total\\nRecovered        0.347124  ...         0.063467\n",
              "Active\\nCases           0.947703  ...         0.183688\n",
              "Critical Cases\\n        0.702073  ...         0.492450\n",
              "Tot Cases/\\n1M pop      0.174324  ...         0.786794\n",
              "Deaths/\\n1M pop         0.238291  ...         1.000000\n",
              "\n",
              "[7 rows x 7 columns]"
            ]
          },
          "metadata": {
            "tags": []
          },
          "execution_count": 15
        }
      ]
    },
    {
      "cell_type": "code",
      "metadata": {
        "id": "ddNn9G_QM257",
        "colab_type": "code",
        "outputId": "ebf99636-b20b-47cc-8ab7-6d4b34ab87fd",
        "colab": {
          "base_uri": "https://localhost:8080/",
          "height": 344
        }
      },
      "source": [
        "sns.heatmap(corr,xticklabels=corr.columns.values,yticklabels=corr.columns.values)"
      ],
      "execution_count": 0,
      "outputs": [
        {
          "output_type": "execute_result",
          "data": {
            "text/plain": [
              "<matplotlib.axes._subplots.AxesSubplot at 0x7fb451d93518>"
            ]
          },
          "metadata": {
            "tags": []
          },
          "execution_count": 16
        },
        {
          "output_type": "display_data",
          "data": {
            "image/png": "iVBORw0KGgoAAAANSUhEUgAAAZcAAAE2CAYAAACtJt9GAAAABHNCSVQICAgIfAhkiAAAAAlwSFlzAAALEgAACxIB0t1+/AAAADh0RVh0U29mdHdhcmUAbWF0cGxvdGxpYiB2ZXJzaW9uMy4yLjEsIGh0dHA6Ly9tYXRwbG90bGliLm9yZy+j8jraAAAgAElEQVR4nO3debxcRZ3+8c9DQBazgCQgIBgEHGRfIoIgJCAM6MjyG2RzQ5QoqxFxZAZlUUdxUIZFBaMgOIAsCg4gAoqAwIAQEkJIRGSAwYCKC4Z9Se7z+6OqSafp7tt9c7r79L3fN6/z4p461edU3yRdXdu3ZJsQQgihSMv0ugAhhBCGn6hcQgghFC4qlxBCCIWLyiWEEELhonIJIYRQuKhcQgghFC4qlxBCGOEknSfpSUn3N7guSWdKekjSfZK2GuyeUbmEEEI4H9i9yfU9gA3yMRU4e7AbRuUSQggjnO1fAX9rkmUv4AdO7gRWlrRGs3suW2QBR7JX/vJwKUMdPP+ZQ3tdhLqu+EXTv5c9c9BNn+x1ERpaeMEZvS5CXR+/8JVeF6GuNbRCr4vQ0GmPXqKlvUc7nzmvm7DeJ0gtjorptqe38bi1gN9Xnc/PaX9o9IKoXEIIYZjLFUk7lclSi8olhBD60cCibj7tcWDtqvM35bSGYswlhBD6kQdaP5beVcCH86yxbYEFtht2iUG0XEIIoS950cLC7iXph8BkYLyk+cCJwHIAts8BrgXeAzwEPA98dLB7RuUSQgj9aKCQFgkAtg8c5LqBI9q5Z1QuIYTQj4rp7uqYqFxCCKEfdXdAv23DbkBf0qqS7s3HHyU9XnX+upq80ySt1MI9b5Y0qXOlDiGENnV3QL9tw67lYvuvwBYAkk4CnrX99QbZpwEXkgaoQgihbxQ5oN8Jw67lUo+kXSTNkjQnB2hbXtLRwJrATZJuyvnOljRD0lxJJ/e21CGE0MTAQOtHD4yEymUFUlC2/W1vSmqtHWb7TOAJYIrtKTnv8bYnAZsBO0narBcFDiGEQZW8W2wkVC6jgEdsP5jPLwB2bJB3P0kzgVnAxsBGXShfCCG0b2BR60cPDLsxl6GStC5wLPB2209JOp/U6gkhhPIp+VTkkdByWQRMlLR+Pv8QcEv++RlgTP55LPAcsEDS6qT9C0IIoZxKPuYyElouL5JCFVwuaVngbuCcfG06cJ2kJ2xPkTQLeIAUWvr2npQ2hBBaUfLZYsO6crF9UtXplnWunwWcVXV+cIP7TK6XLmkqeY+Eb3/jy3z8w00jKIQQQmHsci+iHNaVS6dV75FQ1s3CQgjDVMnHXKJyCSGEftSjsZRW9fWAvqQ3SrpE0v9KukfStZLe2utyhRBCx5V8nUvftlwkCbgSuMD2ATltc2B14MFmrw0hhL4XgSs7ZgrwSt7IBgDbs4FZkm6UNDOHe9kLQNLrJf1U0mxJ90vaP6dvLemW3PK5XtIaOf1oSfMk3Sfpkl68wRBCaGjRwtaPHujblguwCXBPnfQXgX1sPy1pPHCnpKuA3YEnbL8XQNI4ScuRZovtZfvPucL5d+AQ4DhgXdsvSVq5G28ohBBaFgP6XSfgK5J2BAaAtUhdZXOAb0j6GnCN7VslbUKqpH6eetkYBVT2hb4PuEjST4CfdPk9hBBCcyUf0O/nymUusG+d9A8AE4Ctbb8i6VFgBdsPStqKtA/0lyXdSBqzmWt7uzr3eS8pBtn7gOMlbWq73KuWQggjR8krl34ec/klsHxeyAhAjmL8ZuDJXLFMyedIWhN43vaFwKnAVsBvgQmStst5lpO0saRlgLVt3wR8DhgHjO7iewshhKbsRS0fvdC3LRfblrQPcLqkz5HGWh4FTgLOlDQHmEEK5wKwKXCqpAHgFVLY/Zcl7ZvzjyP9Pk4nzTa7MKcJONP237v37kIIYRAR/qVzbD8B7FfnUr1urkeB6+vc417qh+DfYakKF0IInVTybrG+rlxCCGHEitliIYQQChctlxBCCIWLlsvI8PxnDu11Eepa6Rvf7XUR6vr7Vif0ugh1/WG/k3tdhIbG77xir4tQ18krvdzrItS19le27XUROitaLiGEEAoXs8VCCCEULlouIYQQChdjLiGEEAoXLZcQQgiFi5ZLCCGEwpW85dLPgStDCGHkWrSo9WMQknaX9FtJD0k6rs71dSTdJGlW3kDxPYPdc9hVLpJWlXRvPv4o6fGq89fV5J0maaUW7nmzpEmdK3UIIbRpYKD1owlJo4BvAXsAGwEHStqoJtvngctsbwkcAHx7sOINu24x238FtgCQdBLwrO2vN8g+DbgQeL47pQshhIIU1y22DfCQ7YcB8rbuewHzqvIYGJt/Hgc8MdhNh13LpR5Ju+Tm3BxJ50laXtLRwJrATZJuyvnOljRD0lxJ5V2qHUIIHmj5kDQ1f7ZVjqlVd1oL+H3V+fycVu0k4IOS5gPXAkcNVryRULmsAJwP7G97U1Jr7TDbZ5Jq3ym2p+S8x9ueBGwG7JQ3HwshhPJpo1vM9nTbk6qO6W0+7UDgfNtvIu3m+195U8WGRkLlMgp4xPaD+fwC6u/fArCfpJnALGBjUv9jCCGUT3ED+o8Da1edvymnVfsYcBmA7TtIX9rHN7vpSKhcWiJpXeBYYBfbmwE/Jf0CQwihfAoa0AfuBjaQtG6e9HQAcFVNnseAXQAkvY302fjnZjcdCZXLImCipPXz+YeAW/LPzwBj8s9jgeeABZJWJ82cCCGEcmpjzKXpbeyFwJGknXp/Q5oVNlfSFyXtmbN9BjhU0mzgh8DBtt3svsNutlgdLwIfBS6XtCyplj4nX5sOXCfpCdtTJM0CHiANbt3ek9KGEEILPND0s729e9nXkgbqq9NOqPp5HrB9O/cc1pWL7ZOqTresc/0s4Kyq84Mb3GdyvfQ842IqwOnb/gMHv7V2gkUIIXRIyVfoD+vKpdPyjIvpAAs+sktxXyNCCGEwEVsshBBC4RYOHtall/piQF/Sohy+Za6k2ZI+M9gc6yb3WlnS4VXnkyVdU1xpQwihC4qbLdYRfVG5AC/Y3sL2xsCupJlcJw7xXisDhw+aK4QQysxu/eiBfqlcXmX7SdIg+pFKRkk6VdLdOVrnJwAkjZZ0o6SZOezLXvkWpwDr5ZbQqTlttKQfSXpA0kWSlO9xiqR5+b6N4pOFEEL3lbzl0pdjLrYfzpE8VyMFWFtg++2Slgdul3QDaTrxPrafljQeuFPSVcBxwCa2K8EtJ5Nmkm1MCgdzO7C9pN8A+wAb2raklbv8NkMIobECpyJ3Ql9WLjV2AzaTtG8+HwdsQAq+9hVJOwIDpEBsqze4x1225wNIuheYCNxJWiNzbh6TiXGZEEJ5tLBPSy/1ZeUi6S2klfdPAgKOsn19TZ6DgQnA1rZfkfQojcO5vFT18yJgWdsLJW1DCnmwL2kF685Fvo8QQhgqxzqXYkmaQFph/83cXXU9cJikX+ZK5K2koGvjgCdz2hTgzfkW1SFfmj1nNLCS7Wsl3Q483JE3FEIIQxHdYoVYMXdXLQcsBP4LOC1f+x6pG2tmHoj/M7A3cBFwtaQ5wAxSWBds/1XS7ZLuB35GClBZzxjgvyWtQGodHdOJNxZCCEMSiyiXnu1RTa4NAP+Wj1rbNXjNQTVJN1ddO7IqfZvWSxlCCF0ULZcQQgiFizGXEEIIhYvZYiGEEAoX3WIjwxW/WKPXRajr71udMHimHjhy5hd7XYS6Nn7bfr0uQkPbXTG210Wo66In7ul1Eera9LBnel2Ehmbtc9xS3yOmIocQQihetFxCCCEULiqXEEIIhYt1LiGEEIrmhVG5hBBCKFp0i4UQQihczBYLIYRQuJK3XPpuJ8rBSFo17zJ5r6Q/Snq86vx1NXmnSVqphXveLGlS50odQghtGnDrRw8Mu5aL7b8ClV0mTwKetd1oi+JpwIXA890pXQghFMOLyt0tNuxaLvVI2kXSLElzJJ0naXlJRwNrAjdJuinnO1vSDElzJZ3c21KHEEITJW+5jITKZQXgfGB/25uSWmuH2T4TeAKYYntKznu87UnAZsBOkjbrRYFDCGEwHnDLRy+MhMplFPCI7Qfz+QXAjg3y7idpJjAL2BjYqAvlCyGE9pW85TLsxlyGStK6wLHA220/Jel8UqsnhBDKp9xDLiOi5bIImChp/Xz+IeCW/PMzpO2MAcYCzwELJK0O7NHVUoYQQhvK3i02ElouLwIfBS6XtCxwN3BOvjYduE7SE7anSJoFPAD8Hri9J6UNIYRWLCz3OpdhXbnYPqnqdMs6188Czqo6P7jBfSbXS5c0FZgK8OFx2zD59RsMvbAhhNCGIlskknYHziCNUX/P9il18uwHnAQYmG37oGb3HNaVS6fZnk5q/fD9tT5Y7q8RIYThpaAxF0mjgG8BuwLzgbslXWV7XlWeDYB/BbbPY9KrDXbfqFxCCKEPFdhy2QZ4yPbDAJIuAfYC5lXlORT4lu2nAGw/OdhNOz6gL2lRDr1yv6SrJa3c6WcWTdJJko7tdTlCCOFVA20cza1FGmeumJ/Tqr0VeKuk2yXdmbvRmurGbLEXbG9hexPgb8ARXXjmoJSMhNlyIYRhyAOtH5Km5ugjlWNqm49bFtgAmAwcCHx3sIZCtz9c7yDXiJLWk3SdpHsk3Sppw5y+uqQrJc3Oxztz+jG59XO/pGk57RRJr1ZW1S0MSZ+VdLek+yqhXCRNlPRbST8A7gfWrpcv5z1e0oOSbgP+oTu/nhBCaI0XtnHY021PqjqmV93qcWDtqvM35bRq84GrbL9i+xHgQVJl01DXKpc8aLQLcFVOmg4cZXtr0uLFb+f0M4FbbG8ObAXMlbQ1aTrxO4BtgUMlbQlcCuxX9Zj9gEsl7UZ649uQglhuLamyKn8D4Nu2NyZVGq/Jl593QE57D/D2Qn8ZIYSwtIrrFrsb2EDSujly/AEs/pyu+Amp1YKk8aRusoeb3bQbA/orSrqX1GL5DfBzSaOBd5LWnlTyLZ//vzPwYQDbi0iLGncArrT9HICkK4B32T5T0mqS1gQmAE/Z/r2kTwG7kcK4AIwmVSKPAf9n+86cvluDfGPy857Pz6v9RYcQQk+5oNlithdKOhK4njQV+TzbcyV9EZhh+6p8bTdJ80gL0z+bI9A31I3K5QXbW+R9U64njbmcD/zd9hYF3P9yYF/gjaSWDICAr9r+TnVGSRNJq/AZJN+0AsoVQggdU1TlAmD7WuDamrQTqn42cEw+WtK1brHcCjga+Axp/5RHJL0fXh1c3zxnvRE4LKePkjQOuBXYW9JKkl4P7JPTIFUoB5AqmMtz2vXAIbmFhKS1GszLbpTvV/l5K0oaA7yvsF9ECCEUoJ0B/V7o6joX27Mk3UeabfAB4GxJnweWAy4BZgOfAqZL+hip+XWY7TtyIMm78q2+Z3tWvufcXAE8bvsPOe0GSW8D7sjdbs8CH8z3qy5P3Xy2Z0q6NJfnSVKfZAghlIYXafBMPdTxysX26Jrz6lbAa+ZK2/4TaQFPbfppwGkNnrFpnbQzSOEMam3SSj7b/w78e73nhRBCr3lghFcuIYQQiter7q5WReUSQgh9yI6WSwghhIJFy2WEOOimT/a6CHX9Yb+TB8/UAxu/bb/BM/XA3N9c1usiNPTiSUf2ugh1Lbr6Hb0uQl3l/l6/9GLMJYQQQuEGRvpssRBCCMWLlksIIYTCueTbE0blEkIIfShaLiGEEAoXU5FDCCEULqYihxBCKNyigXJvpFvu0jUhaW9Jruxg2STftBzuv3J+7WDbc4YQQtl5QC0fvdC3lQspsvJt+f/NTANerVxsv8f23ztZsBBC6DS79aMX+rJyyfuv7AB8jLSXS2Xvl69Lul/SfZKOknQ0sCZwk6Sbcr5HJY2XdIqkI6rueZKkY/PPn5V0d75POZe4hxBGtLK3XPp1zGUv4DrbD0r6a97zfhtgIrBF3rbzDbb/JukYYIrtv9Tc41LgdOBb+Xw/4B8l7Uba6ngbUgSJqyTtaPtXXXhfIYTQkoGYLdYRB7J4D5ZL8vm6wDm2FwLY/luzG+SNy1aTtCYwAXjK9u8lfQrYDZiVs44mVTZRuYQQSmMg1rkUS9IbgJ2BTSUZGAWYoe0WeTlpe+Q3kloykForX7X9nQKKG0IIHVH2lks/jrnsC/yX7Tfbnmh7beAR0pbEn5C0LLxaCQE8A4xpcK9LSWM2+5IqGoDrgUPyuA6S1pK0WmfeSgghDI2tlo9e6MfK5UDgypq0HwNrAI8B90maDRyUr00HrqsM6FezPZdU8Txu+w857QbgYuAOSXOAH9G4cgohhJ4o+2yxvusWsz2lTtqZVafH1Fw7Czir6nxizfVN69zvDBaP6TQkaSowFeCbX/wsH99/z8FeEkIIhSh7t1jfVS5lYns6qWXESw/eVvIYpSGE4SRii4UQQijcoqhcQgghFK3s3WL9OKD/KklvlHSJpP+VdE+OG/bWXpcrhBA6reyzxfq25SJJpFljF9iuhIDZHFgdeLCXZQshhE4recT9vm65TAFesX1OJcH2bGCWpBslzZQ0R9JeAJJeL+mnkmbn+GP75/StJd2SWz7XS1ojpx8taV6OL3ZJL95gCCE0YtTy0Qt923IBNgHuqZP+IrCP7acljQfulHQVsDvwhO33AkgaJ2k50jTlvWz/OVc4/w4cAhwHrGv7pQjRH0Iom4UlH3Pp58qlEQFfkbQjqeW4FqmrbA7wDUlfA66xfaukTUiV1M9TLxujgD/k+9wHXCTpJ8BPuvweQgihqV61SFrVz5XLXFLYllofIAWi3Nr2K5IeBVbIEZS3At4DfFnSjaQxm7m2t6tzn/cCOwLvA46XtGklKGYIIfRajLl0zi+B5fMqeQAkbQa8GXgyVyxT8jk5+vHzti8ETgW2An4LTJC0Xc6znKSNJS0DrG37JuBzwDhSdOQQQiiFIsdcJO0u6beSHpJ0XJN8/5x3AJ402D37tuVi25L2AU6X9DnSWMujwEnAmTku2AzggfySTYFTJQ0ArwCH2X5Z0r45/zjS7+N00myzC3OagDNj98oQQpkU1XKRNIq0r9WuwHzgbklX2Z5Xk28M8Cng163ct28rFwDbT5A2+apVr5vrUVLE49p73Evq/qq1w1IVLoQQOqjAbrFtgIdsPwyQZ8fuBcyryfcl4GvAZ1u5aT93i4UQwoi1SGr5kDRV0oyqY2rVrdYCfl91Pj+nvSqPV69t+6etlq+vWy4hhDBSDbQxW6w6yG678hj0acDB7bwuKpeCLLxg0Aj9PTF+5xV7XYS6trtibK+LUNeLJx3Z6yI0tMJJ3+x1Eera+8df6HUR6tpwxQW9LkJHFRiG/XFg7arzN+W0ijGkJRs35yUbbwSukrSn7RmNbhqVSwgh9KECx1zuBjaQtC6pUjmAxZstYnsBML5yLulm4NhmFQtE5RJCCH1pQMUsorS9UNKRpAlPo4DzbM+V9EVghu2rhnLfqFxCCKEPFbk7oe1rgWtr0k5okHdyK/eMyiWEEPrQwnJHf4nKJYQQ+lE7s8V6ISqXEELoQ0V2i3VCVC4hhNCHBsrdcBl8hX47WwlL+p/8/4mSDqpKnyTpzKEUUNLN9YKk5SCTp0j6Xd4Y7A5JewzlGSGE0G8G2jh6oWnLpdWthCUta3uh7XfmpImkedIXA+T50E3nRA/Bl4A1gE3yhl6rAzsV/IwQQiilRX3ecqm7lXDeaGuypFvzLo/zACQ9m7OdArxL0r2SPp3zXpPzjJb0/bwF8X2S/jmnn51j3syVdHKzQklaCTgUOMr2S7lcf7J9WbN75ZZOZevir+e0CZJ+LOnufGyf03fK5b9X0qwcETSEEEqhr1suNN5KuGIrUsvhkZr040grOP8JQNLkqmtfABbY3jRfWyWnH2/7bzn8842SNrN9X4Pnrg88ZvvpBtdfcy/SytN9gA1zuP7K1sVnAP9p+zZJ65AWEr0NOBY4wvbtkkaTQvqHEEIplH2zsKUd0L+rTsUymHeTwgsAYPup/ON+OVLnsqTuro1IWw0PRb17zSNVEOfmVtQ1VeXZSItXu47NlcntwGmSLgKusD1/iGUJIYTCuc+7xeYCWze5/lwRhcgxbY4FdrG9GfBTYIUmL3kIWEfSa6IfNrpX3qJ4G+BHwD8B1+WXLANsa3uLfKxl+1nbpwAfB1YEbpe0YRHvNYQQilD2brHBKpe6WwlLetcgr3uGFEmznp8DR1TdbxVgLKmiWpAH5pvO+rL9PHAucIak1+X7TJD0/kb3yq2RcTnMwaeBzfPtbgCOqirPFvn/69meY/trpMBuUbmEEEqjrysX2yaNU7w7T0WeC3wV+OMg970PWCRptqRP11z7MrCKpPslzQam2J4NzCJtSXwxqUtqMJ8H/gzMk3Q/qZvr6Sb3GgNcI+k+4DbgmJx+NDApD/LPAz6Z06flMt5H2hb5Zy2UKYQQumKRWj96YdAxlyZbCf8OuLkm7+j8/1eAnWvy35yvPQt8pM5zDm7w/MkN0l8G/iUfLd2L1C1Wm/cvwP510o+qTauVW3RTAc7cYysO2fItg70khBAKUfYB/djmeCnYnm57ku1JUbGEELqp7N1iEf4lhBD6UMQWCyGEULiyxxaLyiWEEPpQ2cdconIJIYQ+tKjkHWNRuYQQQh+KlksIIYTClbvdEpVLCCH0pWi5hBBCKFzMFgshhFC4GNAPIYRQuOgWCyGEULiBaLmEEEIoWrmrlqhcQgihL0W32Ajx8Qtf6XUR6jp5pZd7XYS6Lnrinl4Xoa5FV7+j10VoaO8ff6HXRahrrzlf6nUR6lp49Tm9LkJHRbdYCCGEwi3qdQEGEZVLCCH0IUfLJYQQQtHKPuYSO1GGEEIfGsAtH4ORtLuk30p6SNJxda4fI2mepPsk3SjpzYPdMyqXEELoQ27jaEbSKOBbwB7ARsCBkjaqyTYLmGR7M+BHwH8MVr6oXEIIoQ8V2HLZBnjI9sO2XwYuAfaqzmD7JtvP59M7gTcNdtMYcwkhhD5UYGyxtYDfV53PB5rNyf8Y8LPBbtqVloukVSXdm48/Snq86vx1NXmnSVqpwX2Wk3SKpN9JminpDkl7dOk9/EzSoLV1CCF0w0Abh6SpkmZUHVOH8kxJHwQmAacOlrcrLRfbfwW2AJB0EvCs7a83yD4NuBB4vs61LwFrAJvYfknS6sBOxZd4SZJWBFa1Pb/TzwohhFa0MxXZ9nRgeoPLjwNrV52/KactQdK7geOBnWy/NNgzezbmImkXSbMkzZF0nqTlJR0NrAncJOmmmvwrAYcCR1XemO0/2b4sXz8718hzJZ1c9bpTqmY5fD2nTZD0Y0l352P7nL5TVYtqlqQx+TaTgZs7+xsJIYTWtdNyGcTdwAaS1s09SQcAV1VnkLQl8B1gT9tPtlK+Xo25rACcD+xi+0FJPwAOs326pGOAKbb/UvOa9YHHbD/d4J7H2/5bnvlwo6TNSLXvPsCGti1p5Zz3DOA/bd8maR3geuBtwLHAEbZvlzQaeDHn3wP4SSHvPIQQCjDgYsZcbC+UdCTpc3AUcJ7tuZK+CMywfRWpG2w0cLkkSJ/Feza7b68ql1HAI7YfzOcXAEcApy/FPffL/YjLkrrONgLmkSqIcyVdA1yT874b2Cj/kgDG5srkduA0SRcBV1R1g21PqnhCCKEUitwszPa1wLU1aSdU/fzudu/ZT7PFHgLWkTS2tvUiaV3Sh//bbT8l6XxghVwjbwPsAuwLHAnsTOoO3Nb2iyzpFEk/Bd4D3C7pH4GXgd/nKXohhFAKZQ//0qsxl0XAREnr5/MPAbfkn58BxtS+IM+xPhc4ozLDLI+dvB8YCzwHLMiD/Hvk66OBcblW/jSweb7dDcBRlXtLqkw2WM/2HNtfI/VDbpjvdV1RbzyEEIpQ4JhLR/SqcnkR+Cip/24O6f1X4mNPB66rHdDPPg/8GZgn6X5SN9fTtmeTVpA+AFxM6t6CVEldI+k+4DbgmJx+NDApD/LPAz6Z06dJuj/nf4U0l3t3onIJIZRMkeFfOqHr3WK2T6o63bLO9bOAsxq89mXgX/JRe+3gBo/cpk7evwD710k/qvpc0vLAGrYfrXfjPMYzFWDSGzZn/dETGxQhhBCKFd1ifcz2S7YnNbk+3fYk25OiYgkhdFPZu8X6aUA/hBBCtsjlDroflUsIIfShclctJe8Wyyv3n8yD99Xp50t6vmoFPZJOl2RJ47tf0hBC6C638V8vlLpyIa3i373BtYfIYaElLUNav/KaeDghhDAclX22WKkrF9u/Av7W4PIlLJ7xNZk0/XhhvYySnpX0nznu2I2SJuT0LSTdmackXylplZx+s6Qzcoyx+/NCzBBCKA3bLR+9UOrKZRAPAhNyhXAgqbJp5PWkGDkbkxZrnpjTfwB8Lu+uNqcqHWAl21sAhwPnFV34EEJYGmWfLdbPlQvAFaQInu8Abm2SbwC4NP98IbCDpHHAyrYrkQEuAHases0P4dXW09iqoJchhNBzixho+eiFfp8tdilwD3CB7YGqQJSDaaWdWJun3CuWQggjSq+6u1rV1y0X2/9H2rzm24NkXYYUuBLgIOA22wuApyS9K6dXxzeDPJ4jaQdgQc4fQgilUPYB/VK3XCT9kDRYP17SfOBE2+dW57H9nRZu9RywjaTPA0+yeCLAR4Bz8kZkD5PinVW8KGkWsBxwyFK9kRBCKFjZw7+UunKxfWCD9IMbpE9scq9j6qTdC2zb4CUX2p42eClDCKH7itosrFNKXbmEEEKor8jNwjphRFQutke3mX9yh4oSQgiF6NVYSqtGROXSDWtohV4Xoa61v9Ko16+3Nj3smV4Xoa6W5xv2wIYrlnNOycKrzxk8Uw8s+75PDp6pj5V9tlhULiGE0Iei5RJCCKFwMVsshBBC4aJbLIQQQuFis7AQQgiFizGXEEIIhYsxlxBCCIUr+wr9UgaulLQob9Q1V9JsSZ/Ju00O5V4rSzq86nyypGvavMcakm4YyvNDCKETyr7NcVlbLi/kjbqQtBpwMTCWJTfzatXKpA2/Bouc3MzuwPVL8foQQihU2Qf0S9lyqWb7SWAqcKSSUZJOlXR33p74EwCSRuctjGdKmiNpr3yLU4D1ckvo1Jw2WtKPJD0g6SLljWAknW8t1nQAABo3SURBVCJpXr7v16uKsTvwsy695RBCGNSA3fLRC2VtuSzB9sOSRgGrAXuR9ld5u6Tlgdtzl9XvgX1sPy1pPHCnpKuA44BNqlpCk4EtgY2BJ4Dbge0l/QbYB9jQtis7T+bn/oPted18zyGE0EwM6BdvN2AzSZXNv8YBGwDzga9I2pG0rfFawOoN7nGX7fkAku4FJgJ3Ai8C5+Yxmcq4zDuAX3fgfYQQwpCVfUC/LyoXSW8BFpE2+hJwlO3ra/IcDEwAtrb9iqRHgUbRJF+q+nkRsKzthZK2AXYh7Vp5JLAzsAdwXXHvJoQQll7ZWy6lH3ORNAE4B/imU7yD64HDJC2Xr79V0utJLZgnc8UyBXhzvsUzwJgWnjMaGGf7WuDTwOb50i7AL4p8TyGEsLTsgZaPwUjaXdJvJT0k6bg615eXdGm+/mtJEwe7Z1lbLivm7qrlgIXAfwGn5WvfI3VjzcwD8X8G9gYuAq6WNAeYATwAYPuvkm6XdD9pUP6nDZ45BvhvSSuQWkfH5IrtRdvljA8fQhixipotlseVvwXsShpeuFvSVTXjzB8DnrK9vqQDgK+xeLv4ukpZudge1eTaAPBv+ai1XYPXHFSTdHPVtSOr0repziTpg0DD9S2SppJmsrHLGyax2Zj1GmUNIYRCFRj+ZRvgIdsPA0i6hDRxqrpy2Qs4Kf/8I+CbkuQm0TNL3y3WS7YvtH1Kk+vTbU+yPSkqlhBCN9lu+ZA0VdKMqmNq1a3WIs22rZif06iXx/ZCYAGwarPylbLlEkIIobl2ZovZng5M71xpXitaLiGE0IcKDP/yOLB21fmbclrdPJKWJU2g+muzm5a6cpF0nqQn82B8dfr5kp6XNKYq7XRJzgsoQwhhWGunW2wQdwMbSFpX0uuAA4CravJcBXwk/7wv8Mtm4y1Q8soFOJ8UeqWeh0iDTOSgljvz2to2hBCGpUUeaPloJo+hHEla5vEb4DLbcyV9UdKeOdu5wKqSHgKOIUU+aarUYy62f9VkPvUlpKlwFwKTSWFc9qiXUdKzwHdJq/v/CBxg+8+StiCtoVkJ+F/gENtPSboZmA3sRPodHWL7rmLeVQghLL0iV+jn9X3X1qSdUPXzi8D727ln2VsuzTwITJC0CnAgqbJp5PXADNsbA7ewOLryD4DP2d4MmMOSUZdXyvHIDgfOK7rwIYSwNArsFuuIfq5cAK4g9Q++A7i1Sb4B4NL884XADpLGASvbviWnXwDsWPWaH0JqPQFjK4EsQwihDAZwy0cvlLpbrAWXAvcAF9geyJHzW9HKb7s2T7kD+YQQRpRetUha1dctF9v/BxzP4BuBLUOa4QBwEHCb7QXAU5LeldM/ROoyq9gfQNIOpBD/CworeAghLKWiBvQ7pdQtF0k/JA3Wj5c0HzjR9rnVeWx/p4VbPQdsI+nzpMjKlZg4HwHOkbQS8DDw0arXvChpFim+2SFL9UZCCKFgEXJ/Kdg+sEH6wQ3SJza51zF10u4Ftm3wkgttTxu8lCGE0H1l7xYrdeUSQgihvrLv5zIiKhfbo9vMP7lDRQkhhEJEyyWEEELhyl65qOwFHIkkTc1RTEulrOWC8pYtytW+spatrOUqq76eijyMTR08S0+UtVxQ3rJFudpX1rKVtVylFJVLCCGEwkXlEkIIoXBRuZRTWft1y1ouKG/ZolztK2vZylquUooB/RBCCIWLlksIIYTCReUSQgihcFG5hBA6StKavS5D6L4Yc+kjkpYBRtt+utdlCeUk6fXAC3l/o7cCGwI/s/1KD8t0LfAG4GbgOtKWFwt7VZ6iSBoL2PYzvS5LGUXlUnKSLgY+CSwC7gbGAmfYPrXH5foP4MvAC6QPjM2AT9u+sIdlek3k62q2Tyv4eTsAG9j+vqQJpIr/kRZe17EvCZLuAd4FrALcTvo787LtDxT9rDbLtQJp+4w9gO2Bx0h/b66z/VgPy3V9LsfPbD/Q4mveTtr6fAwg4O/AIbbv6VhB+1B0i5XfRvlDaG/gZ8C6pI3Nem23XK5/Ah4F1gc+29MSpX/sY4BJwGHAWvn4JLBVkQ+SdCLwOeBfc9JypC20G+W/WNLY3LK4H5gnqRO/L9l+Hvh/wLdtvx/YuAPPaYvtF21fZ/tTticBnyHFNvympLt6WLSPAE8BJ0maKelsSXvlP6dGzgUOtz3R9puBI4Dvd6Ow/SQCV3aBpKYfbLZnNrm8nKTlSJXLN22/IqkMzc3K3533ApfbXtDGNtMdYftkAEm/AraqdFdIOgn4acGP2wfYEpiZn/2EpDFN8m9k+2lJHyB9STiOtEV30S1QSdoO+ADwsZw2quBnDEl1lx2pMp4P/DPp239P2P4jcD5wfm5RvoPUuvoXSS8AN9j+j5qXLbJ9a9U9bpPU9918RYvKpTu+0eSagZ2bXP8OqWUwG/iVpDcDZRhzuUbSA6RuscNyt9CLPS5TxerAy1XnL+e0Ir1s25WKfpBvutC9LwnTSK2pK23PlfQW4KYOPGcofgW8S9IqwA2kLrv9bH+wt8VKcqV3Rz5OkDQe+Mc6WW+R9B3gh6R/v/sDN1e+RA7yZXHEiDGXPiRp2TIMiEp6A7DA9qK8VfTY/E2w1+U6HtgPuDIn7Q1cZvsrBT7jWGADYFfgq6StsC+2fVaD/EeTutFmk1p765B2O31XUWWqed5KuXusNCTNtL2VpKOAFW3/h6TZtjcvQdlaHkOU1Kyytu1mXxZHjKhcukzSJsBGwAqVNNs/aJJ/deArwJq295C0EbCd7XMLKs+Qu+wkvROYSFULuNl76ab8viof3L+yPasDz9gV2I3UrXO97Z+3+frCvyTkLrFzSRMG1pG0OfAJ24cX+ZyhkDQLOBz4T+BjuWU1x/amTV7TlRlZku61vYWkfUjjiMeQ/t70vOLrV9Et1kV5EHgyqXK5ltS3exvQ7AP5fNJg4fH5/EHgUtIHSBGG1GUn6b+A9YB7STPZKvlLUbkAKwFPV2ZySVq3lZlcrcoz0y5ttUJp9CWB4v4cK04ndeVcBWB7tqQdC37GULXcZVc7I0tSp2dktTyGKGkccCJQ+b3eAnzR9oIOla0/2Y6jSwcwhzRDb3Y+Xx34+SCvuTv/f1ZV2r0leC+/Ibd8y3aQ/uFfDTyYz9cEbu/AM+YCtwJHAqsPkv9npK66yp/9ssCcDrz3X9f5+zK7138mNWVcqYU89wHvqjrfAbivg2U6BXgAmEWabDCh8rusk/fHwMnAW/JxInBFr3+vZTtiKnJ3VWbKLMzN/SeBtQd5zXOSViW1CpC0LdCRb0iSNpG0n6QPV44m2e8H3tiJchRgH2BP4DlIM7lI34ALY/tk2xuTpqGuQRrk/UWTl4y3fRkwkF+/kMUtviL9PndXWtJyeWzoNx14TtskbSdpHulDHEmbS/p2g+yvmZEFdGyc0fZxwDuBSU4LTp8D9mqQfT3bJ9p+OB+ViiZUiW6x7pohaWXgu6RpqM+SZqY0cwypi2M9SbeTvlHtW3TBWu2yk3Q1qaIbQ1qrcRfwUuW67T2LLtsQtDuTa2k8CfwR+CuwWpN83fqS8EngDNL6nsdJs7KO6MBzhqKdLrtezMjaEJgoqfpzsV437wuSdsgVHpK2J00ECFViQL9HJE0kza66r4W8ywL/QBo4/q07EMpD0hxgc1J3yuZ5jOBC27vW5Nup2X1s31J02drV7kyuIT7jcFI31wTgctJstHlN8m8FnAVsQmr1TQD2beXPf7iQ9Gvb75A0y/aWOa3ubLFuz8hqNIZo++g6ebcALgDGkf5N/g34yEj6s2xFtFy6SNKNtncBsP1obVqD17yfFCJjrqTPA1tJ+nIHvrlV4lE17bKrVB6Svmb7czVl/RppcLNnlEZhLyV9C32aVCmf4DZncrVgbWCa7XtbyWx7Zq6YO/0loXRheaos0WUHfIoGXXa2p3S1ZCmqw0Zu4dt2/jPfPP87wRHrr64Yc+kCSSvkNSHjJa0i6Q35mEjqvmjmC7afUYpjtQtpdtHZHShmbZfdTJp32e1aJ22PDpSrLfnD4VrbP7f9WdvHFlmxVD5QSCvrH6v6s3xD/jNu9Lr3k9Z2zCWtu7l0sGngQ1TGsDwVnyR10VW67LagQZedpHGSTpM0Ix/fyLO0OqXlMURJq0o6kxSI8yZJZ+Quz1AlWi7d8QnSNMw1yeFCsqeBbw7y2koT/b3Ad23/VNKXiy6gF6+DOEfSdTTospN0GGmtwlskVV8fA/xPUeVZmvU3wExJb7d9d1HlqXIx6YP7HtJYQPV8VdN4YPcLti+v+pLwddKXhHcUXL7SheWpsP0XUliaVpxH+sDfL59/iDQl//8VWaYhjiFeQoo28M/5/AOk1vK7iyxbv4sxly6SdFS7/f6SriF9y9uVFHzxBeCuev3US1m213TPNUgbR4q4+1VSfKyKZ2z/rcDyDLnPXSkszQakb+7PkSoA296sqPK1qzLOIOmrpCnIF1ePPRT4nFNILaMXgG2AlYFrbBddibWtnS67yqLGwdIKKFPbY4iS7re9SU1a08WgI1FULl0k6XWkroHKDJmbge8063tXCquyO+kD6XeS1gA2tX1DQWVagbTg8CbSbLHK19yxpLGeDQd5/WosGW2gZ+HTK5Tir72G7f8r8BktVcZV17ryJSE/q6xheVpeBS/pDuCzNTOyvm57uw6Vre4YYm1aTj8NuAu4LCftC2xj+9hOlK1fReXSRZK+R1qgdUFO+hBpPv/HW3htRz7EJX2KxV12T1RdeprUDVe3207S+4DT8uueBN4M/Cav/SiU2gyZk18zpL1WWijLkCrjTn9JqHlW27+vbqh848//Dn5k+7oms8W6OiNLOe5ZTdp99Vq7kp4BXs/iLutR5DVVpBby2NrXjEguwUrO4X4Ay+b/v2aldL20mut7Ar8j/eV9hPQXem4HynhUm/lnA6uSV4IDU4BzO1CuE0kf5H8i9bn/kfTBNNhrOrJCnzTD6RFSv/zD+edH8u/jyBZevxopaOU6wDpl+H1166CNVfBVrxlLanl1qkyHkSJnPEeKClA5HgEu6vXvrJ+PnhdgJBzAzMr/Sat7K+lvqVxr8tpufYi/Djga+FE+jgSWa5J/RlX5lqn83IFyDSVkzr2kb7vVIVAKDR0yhMq4W18S2v59dfMgbXc8Kv+8EvDGBvlWBc7M/2buIS0MXbUD5RlHCr76Q1Lru3K8ode/q34/YrZYd1S6To4lTV18OJ9PBD46yGtfsf1XSctIWsb2TZJO70AZv036NlkJx/Eh0mymRl12f5c0mhRb6yJJT7K4a6BILa2/qdGNFfoDkla2/ff8jFWAA203CmfyJWBb4BdOA/tTgE7sYzKU31c3rQm8O3cvVtTrsuvKjCynYJMLgANhie7n0ZJGuwRjiP0qKpfumKDF+7t/h8U7Ay4i7WbYbGZU5UP8V3TgQ1yLw76/3Uv2ff9S0uwmL92LNCg9jfQPfxzwxaLKVWUoIXMuUwodsrKkQ0kr9L9bcLkOtf2tyontp/KzGlUu3fqSMJTfV1eovajga9j+UtX5lyXt38Gy1R1DpARbRPerqFy6YxQwGl6zneuyNAioKGl9UpdG5UP806QP8TcDRxVYtrtIs5cWSVrP9v/m57+FJoEVbT+XZ2VtYPuCPGBd+Ha6bnH9Tc1rvq6010onV+iPkiTnvhVJo0hdi4109EtCxVB+X120L4tDDH1UOcRQg7w3SDqAJWdkXd/Bsn2ZQVqWzRbJArjAqfjDQq/75UbCwSDjKg1ecw1pNlFt+qbA1QWWrTKWszPwGGl69M2kNSJTmrzuUNI2tf+bzzcAbuzA7+419xzsOaQprmt1+M/0VNIH3y75uIw0VbY23/rA9qTZRcuQvlB8BDgB2LrA8vwjKVZZbfq+wK6d/F20Uca78v/vIQ3UC3igQd5nSBGkX8nHQE57hrRPT9FlG3QMMZfhMdJEjurJHI8AD/f691u2I1ou3TGUJdKr255Tm2h7jlLYmKIMtcvuCNIivV/ncv0u91cXomrK7/g8nlE95XewkDljSN98/0bqp7/c9p+KKlv2OWAqad0SpBlG9cKHnA78q+1KK2UAuEDSpqTNw95XUHlOIC2erHUzaeZc0S23oWi5y852oVsktKCVMcQzSRNqbidNALjNudYJrxWVS3c0DEzZxMpNrq041ILU0XaXXfaS7ZcroUWUIjcX+Q9tyCFznPbXOFnSZqRQ7bdImm+7sMFgp0HzX5Mi6e4HjCdtIlWrW18Slrf95zrP+UuHJjS0zeXusht0DNH2NKW/8JNJE17OknQDcLYL3OV0uIjKpQs8tL7YGZIOtb3EQLSkj5O+9RXlD7aHMhB/i6R/A1bM4xuHk74hF8L2GcAZGkLInCqt7rXSMklvJc0sOhD4C6llhBtH8e3Wl4SxVZMzXqUUfbjI57RN0j8CY2z/qJJm+1FJ+0pa3cWPh7XNLY4h5pbKTZJmAQeQZgH+juInjPS9WKFfUnmw80rgZRZXJpNIg8b7uKBwHhpifCtJywAfA3YjtXquB75XdDeBhhYyp629VtoszwCp6+Rjth/KaQ/brhuwUtIPgV82+JKwq+1CZkApxRRbnbSQ87mcNpq0PuQvrhPGpFuUNrnbu7ZlJWk8afywIyFd2pFn+k0lrW9ZT9IGwDmuCueTW4B7kVrDE4ArSH+3YrpyHVG5lFyetVIJkjfX9i8Lvv8bhtiyIodVoV53TFE0hJA5SsEhL3WLe620WZ69Sd9YtycFX7yEVKmu2yB/t74kLEua8fRxoBJDbR3SFg1faFYZd5qkGbYnNbi2RIiVXs3IknQveQzRizcyWyIYpaTnSK2US/L/l/jwtH1FJ8rWr6JyCW3Jfc4nklbwV/YDWgScNcTutUbPWdb2QtWJPVUvrc7rNwfelU9vtd1szc5Qylf5FnsgaabdD4Ar3SBWWKe/JFQ9Z0XSDDWAh2z3fPtdSQ+SNuKq12U3z/YGVWkDwHygkneJLQ0atRALKOMSu2TmynpmTcV3Po3HFW37kE6UrV9F5RLakmeW7QFMrQxi5jUxZ5MCN/5nQc+ZaXsrSTOB93vJ9Tc/ck2QwZrXHk3q4qh8k9wHmL4UYzeDlXUV4P3A/m6yq+hI1U6XXV5Y2vUZWUrbAfwd+DBpHdnhpIrv+E4/e7iKyiW0JQ9k7uq08VN1+gTghqGM3zR6Tv4GuTNwPmldAeSQObYbRjVQ2sRsu6oPstcDd7iH+7mMZO122VXNyDqQ1FXV8RlZSzuGKOmjtr/fqfL1o6hcQltUZ6OkVq4N4TnzSeE4IM12ql5/84Lt0+q+ML12DimczYv5fAXgbsdmTj3VbpddXhNTmZH1b7WTIjpQviGPIUp6zPY6xZeqf8VU5NCul4d4rV1DXX8DKdT8ryVdmc/3Jn1LHra0dNtCd0WuTF6z5qdagxlZW3dqRla9MURJdccQteS23ktcInX7hSrRcgltyf/w6sXEErCC7eUKes5rNm9q8/VbATvk01ttzyqiXGWlpdgWuky6PSOrnTFESX8ihdl5qvY2wP/YXrPIsvW7qFxCKQ11/U1+7bakGVnP5POxwNts/7rIMobidXtGVjtjiJLOBb7vvPVyTf6LbR9UZNn6XVQuoZSWcv3NLGCrymBsHqydsTQtoX6i8m5zfGPtbLp6aV0uU1fGEEeiGHMJpbSUi+VeDYWf7zWQZywNe2pvz5RulWlpgpBW36cTM7K6NYY44kTLJQw7kq4ghYk5OycdTto+oF7U4GElz5Sr7JmyeY4QcKHtXXtYpk+xOAjpE1WXnga+a7tpINKq+xQ+I6tbY4gjUVQuYdhRCv1/JmnlvIEbgWm2n+xpwbpA0l22t5F0D2kx4jPAb2xv2OOioRaCkA4yI+uttpcvvmShE0ZEV0EYWXIlckCvy9Ejpd3mGPhOjp7QLAjp6jSZkdXxEobCRMslDDtKYfHPJu2lsonSvi572v5yj4vWVUr7xZRmz5RWgpDGjKzhIyqXMOxIugX4LOlbcSXC7YiY+SNpH1KI/wX5fGVgsu2f9LBMSxWENPSnZQbPEkLfWcn2XTVpC+vmHH5OrFQsALb/TlqB3kuVP4tFktarJObFiot6U6TQaTHmEoajv+QPsco6l32BP/S2SF1T7wtjr/+dV6YeH0vaxXGJIKQ9KVHouOgWC8NO/kY8HXgnaWD4EeADtv+v6QuHAUnnkULHfysnHUHaXfHgHpZpyEFIQ/+KbrEw7Nh+2Pa7SYEPNwR2YnGcseHuKNLiv0vz8RKpgumlShDSMaRWlPLRShDS0Kei5RKGjRxD7AjSqu//Bn6Rzz8D3Gd7rx4Wb8Ra2iCkoT9F5RKGDUn/TeoGuwPYBViN9A35U7bv7WXZOk3S6banSbqaOoEfbe/Zg2IBSxeENPSvqFzCsCFpTmVDMEmjSIP461Q2DRvOJG1t+x5JO9W7bvuWbpepYmmCkIb+1etZJCEU6dWV3rYXSZo/EioWANv35B+3sH1G9bUc26tnlUtULCNTtFzCsFEThFCkmUnP559te2yvytYt9cY3olsq9EK0XMKwYXvU4LmGJ0kHAgcB60q6qurSGCBaDqHronIJYXj4H9IY03jgG1XpzwCliC0WRpboFgshhFC4aLmEMAxIus32DpKeYcmpyCNmvCmUS7RcQgghFC7Cv4QwTEgaJemBXpcjBIjKJYRhw/Yi4LeSCt1nPoShiDGXEIaXVYC5ku5i8ZqfnoZ/CSNTVC4hDC9f6HUBQoCoXEIYFiStD6xeG0NM0g6MnI3SQonEmEsIw8PpwNN10hfkayF0VVQuIQwPq9ueU5uY0yZ2vzhhpIvKJYThYeUm11bsWilCyKJyCWF4mCHp0NpESR8H7qmTP4SOihX6IQwDklYHrgReZnFlMgl4HbCP7T/2qmxhZIrKJYRhRNIUYJN8Otf2L3tZnjByReUSQgihcDHmEkIIoXBRuYQQQihcVC4hhBAKF5VLCCGEwv1/KQ7DyMEY3xgAAAAASUVORK5CYII=\n",
            "text/plain": [
              "<Figure size 432x288 with 2 Axes>"
            ]
          },
          "metadata": {
            "tags": [],
            "needs_background": "light"
          }
        }
      ]
    },
    {
      "cell_type": "markdown",
      "metadata": {
        "id": "PE3D9eMjR8LM",
        "colab_type": "text"
      },
      "source": [
        "##Matrice de Covariance:"
      ]
    },
    {
      "cell_type": "code",
      "metadata": {
        "id": "2jdNXEePM9qL",
        "colab_type": "code",
        "colab": {}
      },
      "source": [
        "cov=df.cov()"
      ],
      "execution_count": 0,
      "outputs": []
    },
    {
      "cell_type": "code",
      "metadata": {
        "id": "NBtYf0njNQz1",
        "colab_type": "code",
        "outputId": "16dd8b17-6d93-44a1-83e8-ddd742ee5dde",
        "colab": {
          "base_uri": "https://localhost:8080/",
          "height": 254
        }
      },
      "source": [
        "cov"
      ],
      "execution_count": 0,
      "outputs": [
        {
          "output_type": "execute_result",
          "data": {
            "text/html": [
              "<div>\n",
              "<style scoped>\n",
              "    .dataframe tbody tr th:only-of-type {\n",
              "        vertical-align: middle;\n",
              "    }\n",
              "\n",
              "    .dataframe tbody tr th {\n",
              "        vertical-align: top;\n",
              "    }\n",
              "\n",
              "    .dataframe thead th {\n",
              "        text-align: right;\n",
              "    }\n",
              "</style>\n",
              "<table border=\"1\" class=\"dataframe\">\n",
              "  <thead>\n",
              "    <tr style=\"text-align: right;\">\n",
              "      <th></th>\n",
              "      <th>Total\\nCases</th>\n",
              "      <th>Total\\nDeaths</th>\n",
              "      <th>Total\\nRecovered</th>\n",
              "      <th>Active\\nCases</th>\n",
              "      <th>Critical Cases\\n</th>\n",
              "      <th>Tot Cases/\\n1M pop</th>\n",
              "      <th>Deaths/\\n1M pop</th>\n",
              "    </tr>\n",
              "  </thead>\n",
              "  <tbody>\n",
              "    <tr>\n",
              "      <th>Total\\nCases</th>\n",
              "      <td>4.457656e+09</td>\n",
              "      <td>1.830053e+08</td>\n",
              "      <td>4.585169e+08</td>\n",
              "      <td>3.816134e+09</td>\n",
              "      <td>1.152171e+08</td>\n",
              "      <td>8.839909e+06</td>\n",
              "      <td>1.238979e+06</td>\n",
              "    </tr>\n",
              "    <tr>\n",
              "      <th>Total\\nDeaths</th>\n",
              "      <td>1.830053e+08</td>\n",
              "      <td>1.856437e+07</td>\n",
              "      <td>2.642777e+07</td>\n",
              "      <td>1.380132e+08</td>\n",
              "      <td>7.189642e+06</td>\n",
              "      <td>1.677982e+06</td>\n",
              "      <td>2.784537e+05</td>\n",
              "    </tr>\n",
              "    <tr>\n",
              "      <th>Total\\nRecovered</th>\n",
              "      <td>4.585169e+08</td>\n",
              "      <td>2.642777e+07</td>\n",
              "      <td>3.914122e+08</td>\n",
              "      <td>4.067692e+07</td>\n",
              "      <td>9.171618e+06</td>\n",
              "      <td>-1.095543e+06</td>\n",
              "      <td>9.778428e+04</td>\n",
              "    </tr>\n",
              "    <tr>\n",
              "      <th>Active\\nCases</th>\n",
              "      <td>3.816134e+09</td>\n",
              "      <td>1.380132e+08</td>\n",
              "      <td>4.067692e+07</td>\n",
              "      <td>3.637444e+09</td>\n",
              "      <td>9.885580e+07</td>\n",
              "      <td>8.257470e+06</td>\n",
              "      <td>8.627410e+05</td>\n",
              "    </tr>\n",
              "    <tr>\n",
              "      <th>Critical Cases\\n</th>\n",
              "      <td>1.152171e+08</td>\n",
              "      <td>7.189642e+06</td>\n",
              "      <td>9.171618e+06</td>\n",
              "      <td>9.885580e+07</td>\n",
              "      <td>6.041746e+06</td>\n",
              "      <td>7.098448e+05</td>\n",
              "      <td>9.426399e+04</td>\n",
              "    </tr>\n",
              "    <tr>\n",
              "      <th>Tot Cases/\\n1M pop</th>\n",
              "      <td>8.839909e+06</td>\n",
              "      <td>1.677982e+06</td>\n",
              "      <td>-1.095543e+06</td>\n",
              "      <td>8.257470e+06</td>\n",
              "      <td>7.098448e+05</td>\n",
              "      <td>5.768670e+05</td>\n",
              "      <td>4.653734e+04</td>\n",
              "    </tr>\n",
              "    <tr>\n",
              "      <th>Deaths/\\n1M pop</th>\n",
              "      <td>1.238979e+06</td>\n",
              "      <td>2.784537e+05</td>\n",
              "      <td>9.778428e+04</td>\n",
              "      <td>8.627410e+05</td>\n",
              "      <td>9.426399e+04</td>\n",
              "      <td>4.653734e+04</td>\n",
              "      <td>6.064638e+03</td>\n",
              "    </tr>\n",
              "  </tbody>\n",
              "</table>\n",
              "</div>"
            ],
            "text/plain": [
              "                    Total\\nCases  ...  Deaths/\\n1M pop\n",
              "Total\\nCases        4.457656e+09  ...     1.238979e+06\n",
              "Total\\nDeaths       1.830053e+08  ...     2.784537e+05\n",
              "Total\\nRecovered    4.585169e+08  ...     9.778428e+04\n",
              "Active\\nCases       3.816134e+09  ...     8.627410e+05\n",
              "Critical Cases\\n    1.152171e+08  ...     9.426399e+04\n",
              "Tot Cases/\\n1M pop  8.839909e+06  ...     4.653734e+04\n",
              "Deaths/\\n1M pop     1.238979e+06  ...     6.064638e+03\n",
              "\n",
              "[7 rows x 7 columns]"
            ]
          },
          "metadata": {
            "tags": []
          },
          "execution_count": 18
        }
      ]
    },
    {
      "cell_type": "code",
      "metadata": {
        "id": "idBuQ8IbNRQ5",
        "colab_type": "code",
        "colab": {}
      },
      "source": [
        "from sklearn import preprocessing\n",
        "from sklearn.decomposition import PCA "
      ],
      "execution_count": 0,
      "outputs": []
    },
    {
      "cell_type": "code",
      "metadata": {
        "id": "1YA8HFNFN1l-",
        "colab_type": "code",
        "outputId": "162a1c57-30b7-48b1-90fc-8f9bfd4e6d79",
        "colab": {
          "base_uri": "https://localhost:8080/",
          "height": 34
        }
      },
      "source": [
        "x = df.iloc[:,1:8]\n",
        "x=np.array(x)\n",
        "type(x)"
      ],
      "execution_count": 0,
      "outputs": [
        {
          "output_type": "execute_result",
          "data": {
            "text/plain": [
              "numpy.ndarray"
            ]
          },
          "metadata": {
            "tags": []
          },
          "execution_count": 20
        }
      ]
    },
    {
      "cell_type": "code",
      "metadata": {
        "id": "YNrSrvSeNVJI",
        "colab_type": "code",
        "colab": {}
      },
      "source": [
        "dfprocessed = preprocessing.scale(x)"
      ],
      "execution_count": 0,
      "outputs": []
    },
    {
      "cell_type": "code",
      "metadata": {
        "id": "5HyT5UGJNZxQ",
        "colab_type": "code",
        "outputId": "deba5df7-c8f1-418f-9a5a-895cdf24501d",
        "colab": {
          "base_uri": "https://localhost:8080/",
          "height": 521
        }
      },
      "source": [
        "dfprocessed"
      ],
      "execution_count": 0,
      "outputs": [
        {
          "output_type": "execute_result",
          "data": {
            "text/plain": [
              "array([[ 3.05037591,  0.72875362, -0.11561237,  3.36268713,  1.43970686,\n",
              "        -0.30827361, -0.59458018],\n",
              "       [ 0.90648149,  2.67684264,  0.29336996,  0.71602314,  0.71833742,\n",
              "         1.32985585,  2.36945961],\n",
              "       [ 0.87366069,  1.77691152,  0.85606727,  0.55939712,  1.70711468,\n",
              "         2.0603362 ,  2.24983469],\n",
              "       [ 0.43554872, -0.5598824 ,  0.54539348,  0.34325115,  0.66275028,\n",
              "         0.0842233 , -0.67433013],\n",
              "       [ 0.31414122, -0.05201951,  3.26580349, -0.71981837, -0.83515463,\n",
              "        -1.2936044 , -0.83383003],\n",
              "       [-0.03491893,  0.44407172, -0.09013272, -0.04081384,  1.69995573,\n",
              "        -0.13791905,  0.24279429],\n",
              "       [-0.12673036, -0.05874617,  0.19799132, -0.20104401,  0.70444063,\n",
              "        -0.50861058, -0.34203867],\n",
              "       [-0.35951464,  0.01596781, -0.73329758, -0.1585837 , -0.9261154 ,\n",
              "        -0.60537197, -0.15595546],\n",
              "       [-0.65198721, -0.71243346, -0.48681994, -0.51117246, -0.84820918,\n",
              "         1.6678393 ,  0.0168361 ],\n",
              "       [-0.67009523, -0.76456508, -0.7186481 , -0.45144656, -0.53110983,\n",
              "        -1.07827623, -0.80724671],\n",
              "       [-0.69125744, -0.57549786, -0.59009884, -0.53054905, -0.48731391,\n",
              "         0.60073832,  0.45546082],\n",
              "       [-0.70748955, -0.49285603, -0.72728083, -0.50942188, -0.49699954,\n",
              "        -0.12020218,  0.29596092],\n",
              "       [-0.76913127, -0.80852861, -0.63682024, -0.58478292, -0.94422333,\n",
              "        -0.94744393, -0.79395505],\n",
              "       [-0.77382881, -0.8097298 , -0.6345705 , -0.59063537, -0.891584  ,\n",
              "         0.3608791 , -0.60787184],\n",
              "       [-0.79525458, -0.80828838, -0.42534441, -0.68309037, -0.97159579,\n",
              "        -1.10417012, -0.82053837]])"
            ]
          },
          "metadata": {
            "tags": []
          },
          "execution_count": 22
        }
      ]
    },
    {
      "cell_type": "markdown",
      "metadata": {
        "id": "-E1OnFS4QbnW",
        "colab_type": "text"
      },
      "source": [
        "Les Valeurs Propres:"
      ]
    },
    {
      "cell_type": "code",
      "metadata": {
        "id": "rHy7FZOeQiE0",
        "colab_type": "code",
        "colab": {}
      },
      "source": [
        "eig_vals, eig_vecs = np.linalg.eig(corr)"
      ],
      "execution_count": 0,
      "outputs": []
    },
    {
      "cell_type": "code",
      "metadata": {
        "colab_type": "code",
        "outputId": "1fd6626a-78ff-4a0f-e2ac-1416a8ee0557",
        "id": "A8RaHxcqXS6L",
        "colab": {
          "base_uri": "https://localhost:8080/",
          "height": 1000
        }
      },
      "source": [
        "print(eig_vals)\n",
        "print(eig_vecs)\n",
        "print('Eigenvectors \\n%s' %eig_vecs)\n",
        "print('\\nEigenvalues \\n%s' %eig_vals)\n",
        "eig_pairs = [(np.abs(eig_vals[i]), eig_vecs[:,i]) for i in range(len(eig_vals))]\n",
        "print(eig_pairs)\n",
        "\n",
        "eig_pairs.sort(key=lambda dfprocessed: dfprocessed[0], reverse=True)\n",
        "print(eig_pairs)\n",
        "tot = sum(eig_vals)\n",
        "var_exp = [(i / tot)*100 for i in sorted(eig_vals, reverse=True)]\n",
        "cum_var_exp = np.cumsum(var_exp)\n",
        "matrix_w = np.hstack((eig_pairs[0][1].reshape(7,1),\n",
        "                      eig_pairs[1][1].reshape(7,1)))\n",
        "\n",
        "print('Matrix W:\\n', matrix_w)\n",
        "\n"
      ],
      "execution_count": 0,
      "outputs": [
        {
          "output_type": "stream",
          "text": [
            "[ 3.74529982e+00  1.56393789e+00  1.01346207e+00 -3.68342682e-16\n",
            "  2.45606716e-02  3.41829326e-01  3.10910225e-01]\n",
            "[[ 4.25787276e-01  4.25988944e-01 -7.80700915e-02  7.23959329e-01\n",
            "   1.22728550e-01  2.57779236e-01 -1.59731443e-01]\n",
            " [ 4.68976618e-01 -1.30219469e-01  1.82342274e-01 -4.67198019e-02\n",
            "  -6.31092931e-01 -3.52968318e-01 -4.52556578e-01]\n",
            " [ 1.42376508e-01  2.62840217e-01  8.82957801e-01 -2.14525074e-01\n",
            "   8.98776781e-02  2.41788080e-01  1.35900671e-01]\n",
            " [ 3.91146586e-01  3.94660248e-01 -3.89091924e-01 -6.53971821e-01\n",
            "   1.51465242e-01  2.31267896e-01 -1.89075144e-01]\n",
            " [ 4.38963953e-01  1.08548820e-01 -9.48997115e-02 -7.49588347e-16\n",
            "  -1.77758244e-02 -4.52059775e-01  7.62789503e-01]\n",
            " [ 3.04580581e-01 -5.44402472e-01 -8.77222712e-02 -1.16386909e-15\n",
            "  -2.66014831e-01  6.72318243e-01  2.83523740e-01]\n",
            " [ 3.74220152e-01 -5.18244846e-01  1.13790161e-01  3.54430647e-15\n",
            "   6.96103318e-01 -2.01611153e-01 -2.30708628e-01]]\n",
            "Eigenvectors \n",
            "[[ 4.25787276e-01  4.25988944e-01 -7.80700915e-02  7.23959329e-01\n",
            "   1.22728550e-01  2.57779236e-01 -1.59731443e-01]\n",
            " [ 4.68976618e-01 -1.30219469e-01  1.82342274e-01 -4.67198019e-02\n",
            "  -6.31092931e-01 -3.52968318e-01 -4.52556578e-01]\n",
            " [ 1.42376508e-01  2.62840217e-01  8.82957801e-01 -2.14525074e-01\n",
            "   8.98776781e-02  2.41788080e-01  1.35900671e-01]\n",
            " [ 3.91146586e-01  3.94660248e-01 -3.89091924e-01 -6.53971821e-01\n",
            "   1.51465242e-01  2.31267896e-01 -1.89075144e-01]\n",
            " [ 4.38963953e-01  1.08548820e-01 -9.48997115e-02 -7.49588347e-16\n",
            "  -1.77758244e-02 -4.52059775e-01  7.62789503e-01]\n",
            " [ 3.04580581e-01 -5.44402472e-01 -8.77222712e-02 -1.16386909e-15\n",
            "  -2.66014831e-01  6.72318243e-01  2.83523740e-01]\n",
            " [ 3.74220152e-01 -5.18244846e-01  1.13790161e-01  3.54430647e-15\n",
            "   6.96103318e-01 -2.01611153e-01 -2.30708628e-01]]\n",
            "\n",
            "Eigenvalues \n",
            "[ 3.74529982e+00  1.56393789e+00  1.01346207e+00 -3.68342682e-16\n",
            "  2.45606716e-02  3.41829326e-01  3.10910225e-01]\n",
            "[(3.7452998170647693, array([0.42578728, 0.46897662, 0.14237651, 0.39114659, 0.43896395,\n",
            "       0.30458058, 0.37422015])), (1.5639378914126758, array([ 0.42598894, -0.13021947,  0.26284022,  0.39466025,  0.10854882,\n",
            "       -0.54440247, -0.51824485])), (1.0134620689235667, array([-0.07807009,  0.18234227,  0.8829578 , -0.38909192, -0.09489971,\n",
            "       -0.08772227,  0.11379016])), (3.68342681811711e-16, array([ 7.23959329e-01, -4.67198019e-02, -2.14525074e-01, -6.53971821e-01,\n",
            "       -7.49588347e-16, -1.16386909e-15,  3.54430647e-15])), (0.02456067158778698, array([ 0.12272855, -0.63109293,  0.08987768,  0.15146524, -0.01777582,\n",
            "       -0.26601483,  0.69610332])), (0.3418293260926751, array([ 0.25777924, -0.35296832,  0.24178808,  0.2312679 , -0.45205978,\n",
            "        0.67231824, -0.20161115])), (0.3109102249185306, array([-0.15973144, -0.45255658,  0.13590067, -0.18907514,  0.7627895 ,\n",
            "        0.28352374, -0.23070863]))]\n",
            "[(3.7452998170647693, array([0.42578728, 0.46897662, 0.14237651, 0.39114659, 0.43896395,\n",
            "       0.30458058, 0.37422015])), (1.5639378914126758, array([ 0.42598894, -0.13021947,  0.26284022,  0.39466025,  0.10854882,\n",
            "       -0.54440247, -0.51824485])), (1.0134620689235667, array([-0.07807009,  0.18234227,  0.8829578 , -0.38909192, -0.09489971,\n",
            "       -0.08772227,  0.11379016])), (0.3418293260926751, array([ 0.25777924, -0.35296832,  0.24178808,  0.2312679 , -0.45205978,\n",
            "        0.67231824, -0.20161115])), (0.3109102249185306, array([-0.15973144, -0.45255658,  0.13590067, -0.18907514,  0.7627895 ,\n",
            "        0.28352374, -0.23070863])), (0.02456067158778698, array([ 0.12272855, -0.63109293,  0.08987768,  0.15146524, -0.01777582,\n",
            "       -0.26601483,  0.69610332])), (3.68342681811711e-16, array([ 7.23959329e-01, -4.67198019e-02, -2.14525074e-01, -6.53971821e-01,\n",
            "       -7.49588347e-16, -1.16386909e-15,  3.54430647e-15]))]\n",
            "Matrix W:\n",
            " [[ 0.42578728  0.42598894]\n",
            " [ 0.46897662 -0.13021947]\n",
            " [ 0.14237651  0.26284022]\n",
            " [ 0.39114659  0.39466025]\n",
            " [ 0.43896395  0.10854882]\n",
            " [ 0.30458058 -0.54440247]\n",
            " [ 0.37422015 -0.51824485]]\n"
          ],
          "name": "stdout"
        }
      ]
    },
    {
      "cell_type": "code",
      "metadata": {
        "id": "N3MoQg0KXWRc",
        "colab_type": "code",
        "outputId": "c6d4c082-a35e-4cd3-c1d9-f717d0e000e8",
        "colab": {
          "base_uri": "https://localhost:8080/",
          "height": 269
        }
      },
      "source": [
        "\n",
        "Y = dfprocessed.dot(matrix_w)\n",
        "print(Y) \n"
      ],
      "execution_count": 0,
      "outputs": [
        {
          "output_type": "stream",
          "text": [
            "[[ 3.25500414  3.13350137]\n",
            " [ 3.57025592 -1.476693  ]\n",
            " [ 3.76484739 -1.51575004]\n",
            " [ 0.19902042  0.91282296]\n",
            " [-0.77986496  1.76060993]\n",
            " [ 0.95966458  0.0212848 ]\n",
            " [-0.10564575  0.456975  ]\n",
            " [-0.96129955 -0.10069499]\n",
            " [-0.73901896 -1.52343511]\n",
            " [-1.78642962  0.39476681]\n",
            " [-0.71625972 -1.19999633]\n",
            " [-0.97920593 -0.77130107]\n",
            " [-2.02623841  0.20423181]\n",
            " [-1.53953811 -0.6023083 ]\n",
            " [-2.11529145  0.30598614]]\n"
          ],
          "name": "stdout"
        }
      ]
    },
    {
      "cell_type": "code",
      "metadata": {
        "id": "2MvahpdQVKl4",
        "colab_type": "code",
        "outputId": "cb72c01c-53ac-4071-a360-1cc2419f1c92",
        "colab": {
          "base_uri": "https://localhost:8080/",
          "height": 353
        }
      },
      "source": [
        "acp = PCA(n_components=2)\n",
        "acp.fit_transform(dfprocessed)\n",
        "print('Coordonnees des variables: \\n', acp.components_ )\n",
        "z=np.transpose(dfprocessed)\n",
        "c=corr\n",
        "c=z.dot(dfprocessed)\n",
        "print(\"c: \\n\",c)"
      ],
      "execution_count": 0,
      "outputs": [
        {
          "output_type": "stream",
          "text": [
            "Coordonnees des variables: \n",
            " [[ 0.42578728  0.46897662  0.14237651  0.39114659  0.43896395  0.30458058\n",
            "   0.37422015]\n",
            " [ 0.42598894 -0.13021947  0.26284022  0.39466025  0.10854882 -0.54440247\n",
            "  -0.51824485]]\n",
            "c: \n",
            " [[15.          9.54248723  5.20686275 14.21554249 10.53109473  2.61485668\n",
            "   3.57436976]\n",
            " [ 9.54248723 15.          4.65044497  7.96661018 10.18303397  7.69131389\n",
            "  12.44806164]\n",
            " [ 5.20686275  4.65044497 15.          0.51135672  2.82903826 -1.09361786\n",
            "   0.95200818]\n",
            " [14.21554249  7.96661018  0.51135672 15.         10.00262564  2.70397228\n",
            "   2.75531403]\n",
            " [10.53109473 10.18303397  2.82903826 10.00262564 15.          5.70342299\n",
            "   7.38674965]\n",
            " [ 2.61485668  7.69131389 -1.09361786  2.70397228  5.70342299 15.\n",
            "  11.80191652]\n",
            " [ 3.57436976 12.44806164  0.95200818  2.75531403  7.38674965 11.80191652\n",
            "  15.        ]]\n"
          ],
          "name": "stdout"
        }
      ]
    },
    {
      "cell_type": "code",
      "metadata": {
        "id": "DFiiUlhY0qjV",
        "colab_type": "code",
        "outputId": "e3ddc233-a677-4810-f409-34dda7001075",
        "colab": {
          "base_uri": "https://localhost:8080/",
          "height": 700
        }
      },
      "source": [
        "#Plan factoriel\n",
        "# Création des figures\n",
        "fig, axes = plt.subplots(figsize=(12, 12))\n",
        "tmp = pd.DataFrame(columns=list(df))\n",
        "for i in range(15):\n",
        "    tmp.loc[i]=df.iloc[i]\n",
        "    plt.annotate(tmp.loc[i].Country, (acp.fit_transform(dfprocessed)[i, 0], acp.fit_transform(dfprocessed)[i, 1]))\n",
        "    \n",
        "# Échelle des axes\n",
        "plt.plot([-6,6], [0,0])\n",
        "plt.plot([0,0], [-6,6])\n",
        "plt.show()\n",
        "\n"
      ],
      "execution_count": 0,
      "outputs": [
        {
          "output_type": "display_data",
          "data": {
            "image/png": "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\n",
            "text/plain": [
              "<Figure size 864x864 with 1 Axes>"
            ]
          },
          "metadata": {
            "tags": [],
            "needs_background": "light"
          }
        }
      ]
    },
    {
      "cell_type": "markdown",
      "metadata": {
        "id": "muBWRcMwBSFn",
        "colab_type": "text"
      },
      "source": [
        "Usa à un taux de mortalité élevé alors que pour 1 million de populations ce taux est faible vu que l 'usa a une population assez grande par rapport aux pays européennes par contre l'Espagne et l'Italie en un taux élevé de mortalité ainsi qu'un taux élevé pour un million de populations alors que les autres pays ont presque le même effet de mortalité sur toute la population que pour 1 million de populations."
        "On regardera ici la proximité ou l'éloignement des pays ce qui expriment la similarité d'états de certains pays et la gravité de situation de quelques un par rapport aux autres."
      ]
    },
    {
      "cell_type": "code",
      "metadata": {
        "id": "xxFdV6xAXm6E",
        "colab_type": "code",
        "outputId": "16f79578-be0d-4936-d4d2-c0baecee4e2f",
        "colab": {
          "base_uri": "https://localhost:8080/",
          "height": 902
        }
      },
      "source": [
        "#Cercle de cooreleation\n",
        "\n",
        "select=['\tTotal\\nCases',\t'Total\\nDeaths',\t'Total\\nRecovered\t','Active\\nCases','\tCritical Cases\\n','\tTot Cases/\\n1M pop','\tDeaths/\\n1M pop']\n",
        "x = np.sqrt(acp.explained_variance_)\n",
        "y = np.zeros((len(select), len(select)))\n",
        "for i in range(2):\n",
        "    y[:,i] = acp.components_[i,:] * x[i]\n",
        "\n",
        "print(pd.DataFrame({'Variable':select, 'Composante 1':y[:,0], 'Composante 2':y[:,1]}))\n",
        "\n",
        "# Création des figures\n",
        "fig, axes = plt.subplots(figsize=(12,12))\n",
        "\n",
        "# Récupération des noms\n",
        "for i in range(len(select)):\n",
        "    plt.annotate(select[i],(y[i,0], y[i,1]))\n",
        "\n",
        "# Échelle des axes\n",
        "plt.plot([-1,1],[0,0])\n",
        "plt.plot([0,0],[-1,1])\n",
        "\n",
        "# Ajouter un cercle\n",
        "cercle = plt.Circle((0,0), 1, fill=False)\n",
        "axes.add_artist(cercle)\n",
        "\n",
        "# Affichage du cercle\n",
        "plt.show()"
      ],
      "execution_count": 0,
      "outputs": [
        {
          "output_type": "stream",
          "text": [
            "               Variable  Composante 1  Composante 2\n",
            "0        \\tTotal\\nCases      0.852938      0.551429\n",
            "1         Total\\nDeaths      0.939455     -0.168565\n",
            "2    Total\\nRecovered\\t      0.285209      0.340238\n",
            "3         Active\\nCases      0.783546      0.510875\n",
            "4    \\tCritical Cases\\n      0.879334      0.140513\n",
            "5  \\tTot Cases/\\n1M pop      0.610137     -0.704712\n",
            "6     \\tDeaths/\\n1M pop      0.749639     -0.670851\n"
          ],
          "name": "stdout"
        },
        {
          "output_type": "stream",
          "text": [
            "/usr/local/lib/python3.6/dist-packages/matplotlib/backends/backend_agg.py:214: RuntimeWarning: Glyph 9 missing from current font.\n",
            "  font.set_text(s, 0.0, flags=flags)\n",
            "/usr/local/lib/python3.6/dist-packages/matplotlib/backends/backend_agg.py:183: RuntimeWarning: Glyph 9 missing from current font.\n",
            "  font.set_text(s, 0, flags=flags)\n"
          ],
          "name": "stderr"
        },
        {
          "output_type": "display_data",
          "data": {
            "image/png": "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\n",
            "text/plain": [
              "<Figure size 864x864 with 1 Axes>"
            ]
          },
          "metadata": {
            "tags": [],
            "needs_background": "light"
          }
        }
      ]
    },
    {
      "cell_type": "markdown",
      "metadata": {
        "id": "hg7kemDwJzPf",
        "colab_type": "text"
      },
      "source": [
        "## On remarque que les attributs '**total Deaths**' , '**critical cases**' , '**total cases**'  et  '**active case**'  sont correlés postivement avec le premier axe ainsi l'axe 1 represente le taux de mortalité alors que les attributs '**deaths/1M pop**' et '**total case/1M pop**' sont correlés negativement avec le deuxième axe ainsi l'axe 2 represente la taux de mortalité par un million de populations."
      ]
    },
    {
      "cell_type": "markdown",
      "metadata": {
        "colab_type": "text",
        "id": "KWEP6dB2ELpV"
      },
      "source": [
        "**Conclusion:**\n",
        "Sans grande surprise, total number of cases et total number of deaths semblent assez corrélés puisque c'est d'une maladie infectieuse et émergente qui attaque les personnes agées et ceux qui ont des maladies chroniques, ça s'explique aussi par la faible performance de ces systèmes de santé de certains pays. Le numbre critical of cases ne sont guère loin pour la même raison. Le total number of recovered par contre est plus éloigné c'est assez logique, puisque cette pandémie n'a pas encore un traitement ce qui explique aussi la forte corrélation de total number of active cases et total number of cases. On constate que le total number of cases per 1 Million population et le number of deaths per 1Million est faiblement corrélé avec le number total of cases c'est évident puique on a environ 7 milliards personnes et seulement 2millions personnes infectés sur le monde enitier et 200 000 décès."
      ]
    }
  ]
}
